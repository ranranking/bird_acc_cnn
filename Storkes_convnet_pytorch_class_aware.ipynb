{
 "cells": [
  {
   "cell_type": "markdown",
   "metadata": {},
   "source": [
    "# Storks class-aware"
   ]
  },
  {
   "cell_type": "code",
   "execution_count": 1,
   "metadata": {},
   "outputs": [],
   "source": [
    "from utils import *\n",
    "\n",
    "import os\n",
    "\n",
    "import torch\n",
    "import torch.nn as nn\n",
    "import torch.utils.data\n",
    "import torch.nn.functional as F\n",
    "import torch.optim as optim\n",
    "from torch.optim import lr_scheduler\n",
    "\n",
    "import pandas as pd\n",
    "import numpy as np\n",
    "\n",
    "from sklearn import preprocessing"
   ]
  },
  {
   "cell_type": "code",
   "execution_count": 2,
   "metadata": {},
   "outputs": [],
   "source": [
    "device = torch.device('cuda:0' if torch.cuda.is_available() else 'cpu')"
   ]
  },
  {
   "cell_type": "code",
   "execution_count": 3,
   "metadata": {},
   "outputs": [],
   "source": [
    "# Misc\n",
    "LOG_DIR = './log_pt/'\n",
    "MODEL_ID = 'storkes_plain'\n",
    "\n",
    "# Training Parameters\n",
    "learning_rate = 0.001\n",
    "num_epochs = 1000\n",
    "batch_size = 256\n",
    "display_step = 100\n",
    "\n",
    "# Network Parameters\n",
    "num_classes = 5\n",
    "keep_rate = 1\n",
    "\n",
    "repeat_size = 82\n",
    "\n",
    "if not os.path.isdir(LOG_DIR):\n",
    "    os.makedirs(LOG_DIR)"
   ]
  },
  {
   "cell_type": "code",
   "execution_count": 4,
   "metadata": {},
   "outputs": [],
   "source": [
    "raw = pd.read_csv('./storks_obs_train.csv', header=None)"
   ]
  },
  {
   "cell_type": "code",
   "execution_count": 5,
   "metadata": {},
   "outputs": [],
   "source": [
    "mean = np.array([0. for i in  range(3)])\n",
    "X = []\n",
    "Y = []\n",
    "\n",
    "for i in range(len(raw)):\n",
    "    \n",
    "    row = np.array(raw.loc[i][~raw.loc[i].isnull()])\n",
    "    data = row[0:-1].astype(float)\n",
    "    label = row[-1]\n",
    "    \n",
    "    x_axis = data[0::3]\n",
    "    y_axis = data[1::3]\n",
    "    z_axis = data[2::3]\n",
    "    \n",
    "    x_axis = repeat_crop_data (x_axis, repeat_size)\n",
    "    y_axis = repeat_crop_data (y_axis, repeat_size)\n",
    "    z_axis = repeat_crop_data (z_axis, repeat_size)\n",
    "    \n",
    "    mean[0] += x_axis.mean()\n",
    "    mean[1] += y_axis.mean()\n",
    "    mean[2] += z_axis.mean()\n",
    "    \n",
    "    X.append(np.stack((x_axis, y_axis, z_axis)))\n",
    "    Y.append(label)\n",
    "\n",
    "mean = mean/len(raw)\n",
    "    \n",
    "X = np.array(X).transpose((0, 2, 1))\n",
    "Y = np.array(Y)\n",
    "label_names = np.unique(Y)\n",
    "\n",
    "le = preprocessing.LabelEncoder()\n",
    "le.fit(np.unique(Y))\n",
    "Y = le.transform(Y)"
   ]
  },
  {
   "cell_type": "code",
   "execution_count": 22,
   "metadata": {},
   "outputs": [],
   "source": [
    "train_x, train_y, test_x, test_y, train_idx, test_idx = train_test_split(X, Y, split_rate=0.1)"
   ]
  },
  {
   "cell_type": "code",
   "execution_count": 23,
   "metadata": {},
   "outputs": [],
   "source": [
    "# train_x = np.load('./storks_train_x.npy')\n",
    "# train_y = np.load('./storks_train_y.npy')\n",
    "# test_x = np.load('./storks_test_x.npy')\n",
    "# test_y = np.load('./storks_test_y.npy')"
   ]
  },
  {
   "cell_type": "code",
   "execution_count": 24,
   "metadata": {},
   "outputs": [],
   "source": [
    "class acc_dataset (torch.utils.data.Dataset):\n",
    "    \n",
    "    def __init__ (self, X, Y, mean):\n",
    "        super().__init__()\n",
    "        self.X = X\n",
    "        self.Y = Y.astype(np.float)\n",
    "        self.mean = mean\n",
    "        \n",
    "    def __len__ (self):\n",
    "        return len(self.X)\n",
    "    \n",
    "    def __getitem__ (self, idx):\n",
    "        \n",
    "        x = self.X[idx]\n",
    "        y = self.Y[idx]\n",
    "        \n",
    "        x = (x - self.mean).transpose(1, 0)\n",
    "            \n",
    "        return torch.tensor(x), torch.tensor(y).type(torch.LongTensor)"
   ]
  },
  {
   "cell_type": "code",
   "execution_count": 25,
   "metadata": {},
   "outputs": [],
   "source": [
    "train_set = acc_dataset(train_x, train_y, mean)\n",
    "train_loader = torch.utils.data.DataLoader(train_set, batch_size=batch_size, shuffle=True, num_workers=2)\n",
    "\n",
    "test_set = acc_dataset(test_x, test_y, mean)\n",
    "test_loader = torch.utils.data.DataLoader(test_set, batch_size=batch_size, shuffle=True, num_workers=2)"
   ]
  },
  {
   "cell_type": "code",
   "execution_count": 26,
   "metadata": {},
   "outputs": [],
   "source": [
    "class MyNet (nn.Module):\n",
    "    \n",
    "    def __init__ (self, num_classes, input_dim, drop_rate):\n",
    "        super().__init__()\n",
    "        \n",
    "        self.input_dim = input_dim\n",
    "        \n",
    "        self.conv1 = nn.Conv1d(in_channels=3, out_channels=32, kernel_size=3, padding=1)\n",
    "        self.conv2 = nn.Conv1d(in_channels=32, out_channels=64, kernel_size=3, padding=1)\n",
    "        self.fc3 = nn.Linear(self.input_dim*64, 1024)\n",
    "        self.dropout = nn.Dropout(p=drop_rate)\n",
    "        self.fc4 = nn.Linear(1024, num_classes)\n",
    "        \n",
    "    def forward(self, x):\n",
    "        x = F.relu(self.conv1(x))\n",
    "        x = F.relu(self.conv2(x))\n",
    "\n",
    "        #self.pretrained_resnet.avgpool(x)\n",
    "        x = x.view(-1, self.input_dim*64)\n",
    "        \n",
    "        x = F.relu(self.fc3(x))\n",
    "        x = self.dropout(x)\n",
    "        x = self.fc4(x)\n",
    "\n",
    "        return x"
   ]
  },
  {
   "cell_type": "code",
   "execution_count": 27,
   "metadata": {},
   "outputs": [],
   "source": [
    "net = MyNet(num_classes=num_classes, input_dim=repeat_size, drop_rate=0.3).double()\n",
    "\n",
    "net.to(device)\n",
    "\n",
    "# Loss function\n",
    "loss_function = nn.CrossEntropyLoss().double()\n",
    "\n",
    "# Optimizer\n",
    "optimizer = optim.SGD(net.parameters(), lr=learning_rate, momentum=0.9)\n",
    "\n",
    "# Decay LR by a factor of 0.1 every 30 epochs\n",
    "exp_lr_scheduler = lr_scheduler.StepLR(optimizer, step_size=200, gamma=0.1)"
   ]
  },
  {
   "cell_type": "code",
   "execution_count": 28,
   "metadata": {},
   "outputs": [
    {
     "name": "stdout",
     "output_type": "stream",
     "text": [
      "Epoch: 14, Step: 100, Minibatch loss: 0.816, Minibatch accuracy: 0.734\n",
      "Epoch: 28, Step: 200, Minibatch loss: 0.670, Minibatch accuracy: 0.801\n",
      "Epoch: 42, Step: 300, Minibatch loss: 0.594, Minibatch accuracy: 0.824\n",
      "Epoch: 57, Step: 400, Minibatch loss: 0.546, Minibatch accuracy: 0.816\n",
      "Epoch: 71, Step: 500, Minibatch loss: 0.453, Minibatch accuracy: 0.840\n",
      "Epoch: 85, Step: 600, Minibatch loss: 0.375, Minibatch accuracy: 0.895\n",
      "Epoch: 99, Step: 700, Minibatch loss: 0.544, Minibatch accuracy: 0.816\n",
      "Epoch: 114, Step: 800, Minibatch loss: 0.344, Minibatch accuracy: 0.883\n",
      "Epoch: 128, Step: 900, Minibatch loss: 0.285, Minibatch accuracy: 0.914\n",
      "Epoch: 142, Step: 1000, Minibatch loss: 0.406, Minibatch accuracy: 0.863\n",
      "Epoch: 157, Step: 1100, Minibatch loss: 0.272, Minibatch accuracy: 0.914\n",
      "Epoch: 171, Step: 1200, Minibatch loss: 0.261, Minibatch accuracy: 0.934\n",
      "Epoch: 185, Step: 1300, Minibatch loss: 0.305, Minibatch accuracy: 0.879\n",
      "Epoch: 199, Step: 1400, Minibatch loss: 0.117, Minibatch accuracy: 0.974\n",
      "Epoch: 214, Step: 1500, Minibatch loss: 0.274, Minibatch accuracy: 0.902\n",
      "Epoch: 228, Step: 1600, Minibatch loss: 0.239, Minibatch accuracy: 0.922\n",
      "Epoch: 242, Step: 1700, Minibatch loss: 0.226, Minibatch accuracy: 0.926\n",
      "Epoch: 257, Step: 1800, Minibatch loss: 0.217, Minibatch accuracy: 0.934\n",
      "Epoch: 271, Step: 1900, Minibatch loss: 0.209, Minibatch accuracy: 0.930\n",
      "Epoch: 285, Step: 2000, Minibatch loss: 0.269, Minibatch accuracy: 0.910\n",
      "Epoch: 299, Step: 2100, Minibatch loss: 0.267, Minibatch accuracy: 0.895\n",
      "Epoch: 314, Step: 2200, Minibatch loss: 0.210, Minibatch accuracy: 0.930\n",
      "Epoch: 328, Step: 2300, Minibatch loss: 0.240, Minibatch accuracy: 0.938\n",
      "Epoch: 342, Step: 2400, Minibatch loss: 0.170, Minibatch accuracy: 0.941\n",
      "Epoch: 357, Step: 2500, Minibatch loss: 0.215, Minibatch accuracy: 0.938\n",
      "Epoch: 371, Step: 2600, Minibatch loss: 0.207, Minibatch accuracy: 0.953\n",
      "Epoch: 385, Step: 2700, Minibatch loss: 0.214, Minibatch accuracy: 0.949\n",
      "Epoch: 399, Step: 2800, Minibatch loss: 0.117, Minibatch accuracy: 0.974\n",
      "Epoch: 414, Step: 2900, Minibatch loss: 0.151, Minibatch accuracy: 0.945\n",
      "Epoch: 428, Step: 3000, Minibatch loss: 0.232, Minibatch accuracy: 0.930\n",
      "Epoch: 442, Step: 3100, Minibatch loss: 0.218, Minibatch accuracy: 0.938\n",
      "Epoch: 457, Step: 3200, Minibatch loss: 0.199, Minibatch accuracy: 0.949\n",
      "Epoch: 471, Step: 3300, Minibatch loss: 0.195, Minibatch accuracy: 0.941\n",
      "Epoch: 485, Step: 3400, Minibatch loss: 0.215, Minibatch accuracy: 0.934\n",
      "Epoch: 499, Step: 3500, Minibatch loss: 0.194, Minibatch accuracy: 0.921\n",
      "Epoch: 514, Step: 3600, Minibatch loss: 0.251, Minibatch accuracy: 0.938\n",
      "Epoch: 528, Step: 3700, Minibatch loss: 0.223, Minibatch accuracy: 0.949\n",
      "Epoch: 542, Step: 3800, Minibatch loss: 0.198, Minibatch accuracy: 0.938\n",
      "Epoch: 557, Step: 3900, Minibatch loss: 0.255, Minibatch accuracy: 0.926\n",
      "Epoch: 571, Step: 4000, Minibatch loss: 0.191, Minibatch accuracy: 0.953\n",
      "Epoch: 585, Step: 4100, Minibatch loss: 0.243, Minibatch accuracy: 0.934\n",
      "Epoch: 599, Step: 4200, Minibatch loss: 0.425, Minibatch accuracy: 0.895\n",
      "Epoch: 614, Step: 4300, Minibatch loss: 0.167, Minibatch accuracy: 0.953\n",
      "Epoch: 628, Step: 4400, Minibatch loss: 0.219, Minibatch accuracy: 0.941\n",
      "Epoch: 642, Step: 4500, Minibatch loss: 0.180, Minibatch accuracy: 0.945\n",
      "Epoch: 657, Step: 4600, Minibatch loss: 0.196, Minibatch accuracy: 0.957\n",
      "Epoch: 671, Step: 4700, Minibatch loss: 0.209, Minibatch accuracy: 0.953\n",
      "Epoch: 685, Step: 4800, Minibatch loss: 0.279, Minibatch accuracy: 0.895\n",
      "Epoch: 699, Step: 4900, Minibatch loss: 0.288, Minibatch accuracy: 0.921\n",
      "Epoch: 714, Step: 5000, Minibatch loss: 0.203, Minibatch accuracy: 0.941\n",
      "Epoch: 728, Step: 5100, Minibatch loss: 0.173, Minibatch accuracy: 0.953\n",
      "Epoch: 742, Step: 5200, Minibatch loss: 0.212, Minibatch accuracy: 0.941\n",
      "Epoch: 757, Step: 5300, Minibatch loss: 0.266, Minibatch accuracy: 0.930\n",
      "Epoch: 771, Step: 5400, Minibatch loss: 0.181, Minibatch accuracy: 0.953\n",
      "Epoch: 785, Step: 5500, Minibatch loss: 0.207, Minibatch accuracy: 0.953\n",
      "Epoch: 799, Step: 5600, Minibatch loss: 0.165, Minibatch accuracy: 0.947\n",
      "Epoch: 814, Step: 5700, Minibatch loss: 0.188, Minibatch accuracy: 0.941\n",
      "Epoch: 828, Step: 5800, Minibatch loss: 0.184, Minibatch accuracy: 0.953\n",
      "Epoch: 842, Step: 5900, Minibatch loss: 0.215, Minibatch accuracy: 0.930\n",
      "Epoch: 857, Step: 6000, Minibatch loss: 0.212, Minibatch accuracy: 0.957\n",
      "Epoch: 871, Step: 6100, Minibatch loss: 0.260, Minibatch accuracy: 0.910\n",
      "Epoch: 885, Step: 6200, Minibatch loss: 0.243, Minibatch accuracy: 0.945\n",
      "Epoch: 899, Step: 6300, Minibatch loss: 0.136, Minibatch accuracy: 0.974\n",
      "Epoch: 914, Step: 6400, Minibatch loss: 0.236, Minibatch accuracy: 0.945\n",
      "Epoch: 928, Step: 6500, Minibatch loss: 0.179, Minibatch accuracy: 0.945\n",
      "Epoch: 942, Step: 6600, Minibatch loss: 0.217, Minibatch accuracy: 0.945\n",
      "Epoch: 957, Step: 6700, Minibatch loss: 0.194, Minibatch accuracy: 0.934\n",
      "Epoch: 971, Step: 6800, Minibatch loss: 0.196, Minibatch accuracy: 0.949\n",
      "Epoch: 985, Step: 6900, Minibatch loss: 0.169, Minibatch accuracy: 0.961\n",
      "Epoch: 999, Step: 7000, Minibatch loss: 0.198, Minibatch accuracy: 0.947\n",
      "Final, Step: 7000, Minibatch loss: 0.198, Minibatch accuracy: 0.947\n"
     ]
    }
   ],
   "source": [
    "step = 0\n",
    "\n",
    "net.train()\n",
    "\n",
    "for epoch in range(num_epochs):\n",
    "    \n",
    "    exp_lr_scheduler.step()\n",
    "    \n",
    "    for data in train_loader:\n",
    "        \n",
    "        x, y = data\n",
    "        \n",
    "        x, y = x.to(device), y.to(device)\n",
    "        \n",
    "        optimizer.zero_grad()\n",
    "        \n",
    "        logits = net(x)\n",
    "        \n",
    "        loss = loss_function(logits, y)\n",
    "        \n",
    "        loss.backward()\n",
    "        \n",
    "        optimizer.step()\n",
    "        \n",
    "        step += 1\n",
    "        \n",
    "        _, preds = torch.max(logits, 1)\n",
    "        \n",
    "        correct = (preds == y).sum().item()\n",
    "        \n",
    "        accuracy = correct/len(x)\n",
    "        \n",
    "        if step % display_step == 0:\n",
    "            print('Epoch: %d, Step: %d, Minibatch loss: %.3f, Minibatch accuracy: %.3f' % \n",
    "                  (epoch, step, loss, accuracy))\n",
    "            \n",
    "print('Final, Step: %d, Minibatch loss: %.3f, Minibatch accuracy: %.3f' % \n",
    "                  (step, loss, accuracy))\n"
   ]
  },
  {
   "cell_type": "code",
   "execution_count": 29,
   "metadata": {},
   "outputs": [
    {
     "name": "stdout",
     "output_type": "stream",
     "text": [
      "Test accuracy: 0.878\n"
     ]
    }
   ],
   "source": [
    "net.eval()\n",
    "\n",
    "test_correct = 0\n",
    "\n",
    "with torch.no_grad():\n",
    "    \n",
    "    for data in test_loader:\n",
    "\n",
    "        x, y = data\n",
    "        \n",
    "        x, y = x.to(device), y.to(device)\n",
    "\n",
    "        test_logits = net(x)\n",
    "        _, test_preds = torch.max(test_logits, 1)\n",
    "\n",
    "        test_correct_batch = (test_preds == y).sum().item()\n",
    "\n",
    "        test_correct += test_correct_batch\n",
    "\n",
    "print('Test accuracy: %.3f' % (test_correct / len(test_set)))"
   ]
  },
  {
   "cell_type": "code",
   "execution_count": null,
   "metadata": {},
   "outputs": [],
   "source": []
  },
  {
   "cell_type": "code",
   "execution_count": null,
   "metadata": {},
   "outputs": [],
   "source": []
  },
  {
   "cell_type": "code",
   "execution_count": null,
   "metadata": {},
   "outputs": [],
   "source": []
  },
  {
   "cell_type": "code",
   "execution_count": null,
   "metadata": {},
   "outputs": [],
   "source": []
  },
  {
   "cell_type": "code",
   "execution_count": null,
   "metadata": {},
   "outputs": [],
   "source": []
  },
  {
   "cell_type": "code",
   "execution_count": null,
   "metadata": {},
   "outputs": [],
   "source": []
  },
  {
   "cell_type": "code",
   "execution_count": 135,
   "metadata": {},
   "outputs": [],
   "source": [
    "np.save('./storks_train_x.npy', train_x)\n",
    "np.save('./storks_train_y.npy', train_y)\n",
    "np.save('./storks_test_x.npy', test_x)\n",
    "np.save('./storks_test_y.npy', test_y)"
   ]
  },
  {
   "cell_type": "code",
   "execution_count": null,
   "metadata": {},
   "outputs": [],
   "source": []
  },
  {
   "cell_type": "code",
   "execution_count": 134,
   "metadata": {},
   "outputs": [],
   "source": [
    "torch.save(net.state_dict(), os.path.join(LOG_DIR, 'model_%s_checkpoint.pth.tar' %\n",
    "                                          'storks_plain_ep_1000_step_200_dr_03_acc_94_sgd'))"
   ]
  },
  {
   "cell_type": "code",
   "execution_count": null,
   "metadata": {},
   "outputs": [],
   "source": []
  },
  {
   "cell_type": "code",
   "execution_count": null,
   "metadata": {},
   "outputs": [],
   "source": []
  },
  {
   "cell_type": "code",
   "execution_count": null,
   "metadata": {},
   "outputs": [],
   "source": []
  },
  {
   "cell_type": "code",
   "execution_count": null,
   "metadata": {},
   "outputs": [],
   "source": []
  },
  {
   "cell_type": "code",
   "execution_count": null,
   "metadata": {},
   "outputs": [],
   "source": []
  },
  {
   "cell_type": "code",
   "execution_count": null,
   "metadata": {},
   "outputs": [],
   "source": []
  },
  {
   "cell_type": "code",
   "execution_count": null,
   "metadata": {},
   "outputs": [],
   "source": []
  }
 ],
 "metadata": {
  "kernelspec": {
   "display_name": "Python 3",
   "language": "python",
   "name": "python3"
  },
  "language_info": {
   "codemirror_mode": {
    "name": "ipython",
    "version": 3
   },
   "file_extension": ".py",
   "mimetype": "text/x-python",
   "name": "python",
   "nbconvert_exporter": "python",
   "pygments_lexer": "ipython3",
   "version": "3.6.5"
  }
 },
 "nbformat": 4,
 "nbformat_minor": 2
}
