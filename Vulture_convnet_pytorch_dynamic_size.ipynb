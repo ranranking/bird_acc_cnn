{
 "cells": [
  {
   "cell_type": "markdown",
   "metadata": {},
   "source": [
    "# Vulture dynamic size"
   ]
  },
  {
   "cell_type": "code",
   "execution_count": 1,
   "metadata": {},
   "outputs": [],
   "source": [
    "from utils import *\n",
    "\n",
    "import os\n",
    "\n",
    "import torch\n",
    "import torch.nn as nn\n",
    "import torch.utils.data\n",
    "import torch.nn.functional as F\n",
    "import torch.optim as optim\n",
    "from torch.optim import lr_scheduler\n",
    "\n",
    "import pandas as pd\n",
    "import numpy as np\n",
    "\n",
    "from sklearn import preprocessing\n",
    "# from sklearn.model_selection import train_test_split"
   ]
  },
  {
   "cell_type": "code",
   "execution_count": 2,
   "metadata": {},
   "outputs": [],
   "source": [
    "device = torch.device('cuda:0' if torch.cuda.is_available() else 'cpu')"
   ]
  },
  {
   "cell_type": "code",
   "execution_count": 3,
   "metadata": {},
   "outputs": [],
   "source": [
    "# Misc\n",
    "LOG_DIR = './log_pt/'\n",
    "\n",
    "# Training Parameters\n",
    "test_split = 0.1\n",
    "learning_rate = 0.01\n",
    "num_epochs = 300\n",
    "batch_size = 256\n",
    "display_step = 100\n",
    "\n",
    "# Network Parameters\n",
    "num_classes = 6\n",
    "keep_rate = 1\n",
    "\n",
    "repeat_size = 82\n",
    "crop_size = 80\n",
    "perm_num = 5\n",
    "channel_swap = True"
   ]
  },
  {
   "cell_type": "code",
   "execution_count": 4,
   "metadata": {},
   "outputs": [],
   "source": [
    "raw = pd.read_csv('./vultures.csv', header=None)"
   ]
  },
  {
   "cell_type": "code",
   "execution_count": 6,
   "metadata": {},
   "outputs": [],
   "source": [
    "mean = np.array([0. for i in  range(3)])\n",
    "X = []\n",
    "Y = []\n",
    "\n",
    "for i in range(len(raw)):\n",
    "    \n",
    "    row = np.array(raw.loc[i][~raw.loc[i].isnull()])\n",
    "    data = row[0:-1].astype(float)\n",
    "    label = row[-1]\n",
    "    \n",
    "    x_axis = data[0::3]\n",
    "    y_axis = data[1::3]\n",
    "    z_axis = data[2::3]\n",
    "    \n",
    "    mean[0] += x_axis.mean()\n",
    "    mean[1] += y_axis.mean()\n",
    "    mean[2] += z_axis.mean()\n",
    "    \n",
    "    X.append(np.stack((x_axis, y_axis, z_axis)).transpose(1, 0))\n",
    "    Y.append(label)\n",
    "\n",
    "mean = mean/len(raw)\n",
    "    \n",
    "Y = np.array(Y)\n",
    "label_names = np.unique(Y)\n",
    "\n",
    "le = preprocessing.LabelEncoder()\n",
    "le.fit(np.unique(Y))\n",
    "Y = le.transform(Y)"
   ]
  },
  {
   "cell_type": "code",
   "execution_count": 9,
   "metadata": {},
   "outputs": [],
   "source": [
    "class acc_dataset_dy (torch.utils.data.Dataset):\n",
    "    \n",
    "    def __init__ (self, X, Y, mean):\n",
    "        super().__init__()\n",
    "        self.X = X\n",
    "        self.Y = Y.astype(np.float)\n",
    "        self.mean = mean\n",
    "        \n",
    "    def __len__ (self):\n",
    "        return len(self.X)\n",
    "    \n",
    "    def __getitem__ (self, idx):\n",
    "        \n",
    "        x = self.X[idx]\n",
    "        y = self.Y[idx]\n",
    "        \n",
    "        x = (x - self.mean).transpose(1, 0)\n",
    "            \n",
    "        return torch.tensor(x), torch.tensor(y).type(torch.LongTensor)"
   ]
  },
  {
   "cell_type": "code",
   "execution_count": 15,
   "metadata": {},
   "outputs": [],
   "source": [
    "a = np.array([1, 2, 3, 4])"
   ]
  },
  {
   "cell_type": "code",
   "execution_count": 17,
   "metadata": {},
   "outputs": [
    {
     "data": {
      "text/plain": [
       "array([3, 2])"
      ]
     },
     "execution_count": 17,
     "metadata": {},
     "output_type": "execute_result"
    }
   ],
   "source": [
    "a[[2,1]]"
   ]
  },
  {
   "cell_type": "code",
   "execution_count": 20,
   "metadata": {},
   "outputs": [],
   "source": [
    "def train_test_split_dy(X, Y, split_rate):\n",
    "    \n",
    "    train_idx_overall = np.array([])\n",
    "    test_idx_overall = np.array([])\n",
    "\n",
    "    for l in np.unique(Y):\n",
    "\n",
    "        idx = np.where(Y == l)[0]\n",
    "\n",
    "        test_size = int(len(idx) * split_rate)\n",
    "\n",
    "        test_choice = np.random.choice(len(idx), size=test_size, replace=False)\n",
    "\n",
    "        train_idx = np.delete(idx, test_choice)\n",
    "\n",
    "        test_idx = idx[test_choice]\n",
    "        \n",
    "        train_idx_overall = np.append(train_idx_overall, train_idx)\n",
    "        \n",
    "        test_idx_overall = np.append(test_idx_overall, test_idx)\n",
    "        \n",
    "        \n",
    "        tr_x = []\n",
    "        tr_y = Y[train_idx_overall.astype(int)]\n",
    "        ts_x = []\n",
    "        ts_y = Y[test_idx_overall.astype(int)]\n",
    "        \n",
    "        for i in train_idx_overall.astype(int):\n",
    "            tr_x.append(X[i])\n",
    "            \n",
    "        for i in test_idx_overall.astype(int):\n",
    "            ts_x.append(X[i])\n",
    "        \n",
    "    return (tr_x, tr_y,\n",
    "            ts_x, ts_y,\n",
    "            train_idx_overall, test_idx_overall)\n",
    "    \n",
    "\n",
    "train_x, train_y, test_x, test_y, train_idx, test_idx= train_test_split_dy(X, Y, test_split)"
   ]
  },
  {
   "cell_type": "code",
   "execution_count": 36,
   "metadata": {},
   "outputs": [],
   "source": [
    "# train_x = np.load('./vulture_train_x.npy')\n",
    "# train_y = np.load('./vulture_train_y.npy')\n",
    "# test_x = np.load('./vulture_test_x.npy')\n",
    "# test_y = np.load('./vulture_test_y.npy')"
   ]
  },
  {
   "cell_type": "code",
   "execution_count": 21,
   "metadata": {},
   "outputs": [],
   "source": [
    "train_set = acc_dataset(train_x, train_y, mean)\n",
    "test_set = acc_dataset(test_x, test_y, mean)\n",
    "\n",
    "train_loader = torch.utils.data.DataLoader(train_set, batch_size=batch_size, shuffle=True, num_workers=2)\n",
    "test_loader = torch.utils.data.DataLoader(test_set, batch_size=batch_size, shuffle=True, num_workers=2)"
   ]
  },
  {
   "cell_type": "code",
   "execution_count": null,
   "metadata": {},
   "outputs": [],
   "source": []
  },
  {
   "cell_type": "code",
   "execution_count": 26,
   "metadata": {},
   "outputs": [],
   "source": [
    "m = nn.AdaptiveAvgPool1d(10)\n",
    "inp = torch.randn(1, 64, 8)\n",
    "output = m(inp)"
   ]
  },
  {
   "cell_type": "code",
   "execution_count": 27,
   "metadata": {},
   "outputs": [
    {
     "data": {
      "text/plain": [
       "torch.Size([1, 64, 10])"
      ]
     },
     "execution_count": 27,
     "metadata": {},
     "output_type": "execute_result"
    }
   ],
   "source": [
    "output.shape"
   ]
  },
  {
   "cell_type": "code",
   "execution_count": 29,
   "metadata": {},
   "outputs": [],
   "source": [
    "conv1 = nn.Conv1d(in_channels=3, out_channels=32, kernel_size=3, padding=1)\n",
    "conv2 = nn.Conv1d(in_channels=32, out_channels=64, kernel_size=3, padding=1)\n",
    "fc3 = nn.Linear(4096, 1024)\n",
    "drop = nn.Dropout(p=0.5)\n",
    "fc4 = nn.Linear(1024, num_classes)"
   ]
  },
  {
   "cell_type": "code",
   "execution_count": 30,
   "metadata": {},
   "outputs": [
    {
     "ename": "RuntimeError",
     "evalue": "Traceback (most recent call last):\n  File \"/home/zhmiao/miniconda3/lib/python3.6/site-packages/torch/utils/data/dataloader.py\", line 57, in _worker_loop\n    samples = collate_fn([dataset[i] for i in batch_indices])\n  File \"/home/zhmiao/miniconda3/lib/python3.6/site-packages/torch/utils/data/dataloader.py\", line 138, in default_collate\n    return [default_collate(samples) for samples in transposed]\n  File \"/home/zhmiao/miniconda3/lib/python3.6/site-packages/torch/utils/data/dataloader.py\", line 138, in <listcomp>\n    return [default_collate(samples) for samples in transposed]\n  File \"/home/zhmiao/miniconda3/lib/python3.6/site-packages/torch/utils/data/dataloader.py\", line 115, in default_collate\n    return torch.stack(batch, 0, out=out)\nRuntimeError: invalid argument 0: Sizes of tensors must match except in dimension 0. Got 82 and 68 in dimension 2 at /opt/conda/conda-bld/pytorch_1524586445097/work/aten/src/TH/generic/THTensorMath.c:3586\n",
     "output_type": "error",
     "traceback": [
      "\u001b[0;31m---------------------------------------------------------------------------\u001b[0m",
      "\u001b[0;31mRuntimeError\u001b[0m                              Traceback (most recent call last)",
      "\u001b[0;32m<ipython-input-30-6d1b6076f515>\u001b[0m in \u001b[0;36m<module>\u001b[0;34m()\u001b[0m\n\u001b[0;32m----> 1\u001b[0;31m \u001b[0mx\u001b[0m\u001b[0;34m,\u001b[0m \u001b[0my\u001b[0m \u001b[0;34m=\u001b[0m \u001b[0mnext\u001b[0m\u001b[0;34m(\u001b[0m\u001b[0miter\u001b[0m\u001b[0;34m(\u001b[0m\u001b[0mtrain_loader\u001b[0m\u001b[0;34m)\u001b[0m\u001b[0;34m)\u001b[0m\u001b[0;34m\u001b[0m\u001b[0m\n\u001b[0m",
      "\u001b[0;32m~/miniconda3/lib/python3.6/site-packages/torch/utils/data/dataloader.py\u001b[0m in \u001b[0;36m__next__\u001b[0;34m(self)\u001b[0m\n\u001b[1;32m    284\u001b[0m                 \u001b[0mself\u001b[0m\u001b[0;34m.\u001b[0m\u001b[0mreorder_dict\u001b[0m\u001b[0;34m[\u001b[0m\u001b[0midx\u001b[0m\u001b[0;34m]\u001b[0m \u001b[0;34m=\u001b[0m \u001b[0mbatch\u001b[0m\u001b[0;34m\u001b[0m\u001b[0m\n\u001b[1;32m    285\u001b[0m                 \u001b[0;32mcontinue\u001b[0m\u001b[0;34m\u001b[0m\u001b[0m\n\u001b[0;32m--> 286\u001b[0;31m             \u001b[0;32mreturn\u001b[0m \u001b[0mself\u001b[0m\u001b[0;34m.\u001b[0m\u001b[0m_process_next_batch\u001b[0m\u001b[0;34m(\u001b[0m\u001b[0mbatch\u001b[0m\u001b[0;34m)\u001b[0m\u001b[0;34m\u001b[0m\u001b[0m\n\u001b[0m\u001b[1;32m    287\u001b[0m \u001b[0;34m\u001b[0m\u001b[0m\n\u001b[1;32m    288\u001b[0m     \u001b[0mnext\u001b[0m \u001b[0;34m=\u001b[0m \u001b[0m__next__\u001b[0m  \u001b[0;31m# Python 2 compatibility\u001b[0m\u001b[0;34m\u001b[0m\u001b[0m\n",
      "\u001b[0;32m~/miniconda3/lib/python3.6/site-packages/torch/utils/data/dataloader.py\u001b[0m in \u001b[0;36m_process_next_batch\u001b[0;34m(self, batch)\u001b[0m\n\u001b[1;32m    305\u001b[0m         \u001b[0mself\u001b[0m\u001b[0;34m.\u001b[0m\u001b[0m_put_indices\u001b[0m\u001b[0;34m(\u001b[0m\u001b[0;34m)\u001b[0m\u001b[0;34m\u001b[0m\u001b[0m\n\u001b[1;32m    306\u001b[0m         \u001b[0;32mif\u001b[0m \u001b[0misinstance\u001b[0m\u001b[0;34m(\u001b[0m\u001b[0mbatch\u001b[0m\u001b[0;34m,\u001b[0m \u001b[0mExceptionWrapper\u001b[0m\u001b[0;34m)\u001b[0m\u001b[0;34m:\u001b[0m\u001b[0;34m\u001b[0m\u001b[0m\n\u001b[0;32m--> 307\u001b[0;31m             \u001b[0;32mraise\u001b[0m \u001b[0mbatch\u001b[0m\u001b[0;34m.\u001b[0m\u001b[0mexc_type\u001b[0m\u001b[0;34m(\u001b[0m\u001b[0mbatch\u001b[0m\u001b[0;34m.\u001b[0m\u001b[0mexc_msg\u001b[0m\u001b[0;34m)\u001b[0m\u001b[0;34m\u001b[0m\u001b[0m\n\u001b[0m\u001b[1;32m    308\u001b[0m         \u001b[0;32mreturn\u001b[0m \u001b[0mbatch\u001b[0m\u001b[0;34m\u001b[0m\u001b[0m\n\u001b[1;32m    309\u001b[0m \u001b[0;34m\u001b[0m\u001b[0m\n",
      "\u001b[0;31mRuntimeError\u001b[0m: Traceback (most recent call last):\n  File \"/home/zhmiao/miniconda3/lib/python3.6/site-packages/torch/utils/data/dataloader.py\", line 57, in _worker_loop\n    samples = collate_fn([dataset[i] for i in batch_indices])\n  File \"/home/zhmiao/miniconda3/lib/python3.6/site-packages/torch/utils/data/dataloader.py\", line 138, in default_collate\n    return [default_collate(samples) for samples in transposed]\n  File \"/home/zhmiao/miniconda3/lib/python3.6/site-packages/torch/utils/data/dataloader.py\", line 138, in <listcomp>\n    return [default_collate(samples) for samples in transposed]\n  File \"/home/zhmiao/miniconda3/lib/python3.6/site-packages/torch/utils/data/dataloader.py\", line 115, in default_collate\n    return torch.stack(batch, 0, out=out)\nRuntimeError: invalid argument 0: Sizes of tensors must match except in dimension 0. Got 82 and 68 in dimension 2 at /opt/conda/conda-bld/pytorch_1524586445097/work/aten/src/TH/generic/THTensorMath.c:3586\n"
     ]
    }
   ],
   "source": [
    "x, y = next(iter(train_loader))"
   ]
  },
  {
   "cell_type": "code",
   "execution_count": null,
   "metadata": {},
   "outputs": [],
   "source": []
  },
  {
   "cell_type": "code",
   "execution_count": null,
   "metadata": {},
   "outputs": [],
   "source": []
  },
  {
   "cell_type": "code",
   "execution_count": null,
   "metadata": {},
   "outputs": [],
   "source": [
    "x = F.relu(self.conv1(x))\n",
    "x = F.relu(self.conv2(x))\n",
    "\n",
    "#self.pretrained_resnet.avgpool(x)\n",
    "x = x.view(-1, self.input_dim*64)\n",
    "\n",
    "x = F.relu(self.fc3(x))\n",
    "x = self.drop(x)\n",
    "x = self.fc4(x)"
   ]
  },
  {
   "cell_type": "code",
   "execution_count": 30,
   "metadata": {},
   "outputs": [],
   "source": [
    "class MyNet (nn.Module):\n",
    "    \n",
    "    def __init__ (self, num_classes, drop_rate):\n",
    "        super().__init__()\n",
    "        \n",
    "        self.conv1 = nn.Conv1d(in_channels=3, out_channels=32, kernel_size=3, padding=1)\n",
    "        self.conv2 = nn.Conv1d(in_channels=32, out_channels=64, kernel_size=3, padding=1)\n",
    "        self.fc3 = nn.Linear(4096, 1024)\n",
    "        self.drop = nn.Dropout(p=drop_rate)\n",
    "        self.fc4 = nn.Linear(1024, num_classes)\n",
    "        \n",
    "    def forward(self, x):\n",
    "        x = F.relu(self.conv1(x))\n",
    "        x = F.relu(self.conv2(x))\n",
    "\n",
    "        #self.pretrained_resnet.avgpool(x)\n",
    "        x = x.view(-1, self.input_dim*64)\n",
    "        \n",
    "        x = F.relu(self.fc3(x))\n",
    "        x = self.drop(x)\n",
    "        x = self.fc4(x)\n",
    "\n",
    "        return x"
   ]
  },
  {
   "cell_type": "code",
   "execution_count": 31,
   "metadata": {},
   "outputs": [
    {
     "data": {
      "text/plain": [
       "MyNet(\n",
       "  (conv1): Conv1d(3, 32, kernel_size=(3,), stride=(1,), padding=(1,))\n",
       "  (conv2): Conv1d(32, 64, kernel_size=(3,), stride=(1,), padding=(1,))\n",
       "  (fc3): Linear(in_features=5248, out_features=1024, bias=True)\n",
       "  (drop): Dropout(p=0.3)\n",
       "  (fc4): Linear(in_features=1024, out_features=6, bias=True)\n",
       ")"
      ]
     },
     "execution_count": 31,
     "metadata": {},
     "output_type": "execute_result"
    }
   ],
   "source": [
    "net = MyNet(num_classes=num_classes, input_dim=repeat_size, drop_rate=0.3).double()\n",
    "net.to(device)"
   ]
  },
  {
   "cell_type": "code",
   "execution_count": 33,
   "metadata": {},
   "outputs": [],
   "source": [
    "# Loss function\n",
    "loss_function = nn.CrossEntropyLoss()\n",
    "\n",
    "# Optimizer\n",
    "optimizer = optim.SGD(net.parameters(), lr=learning_rate, momentum=0.9)\n",
    "\n",
    "# Decay LR by a factor of 0.1 every 30 epochs\n",
    "exp_lr_scheduler = lr_scheduler.StepLR(optimizer, step_size=100, gamma=0.1)"
   ]
  },
  {
   "cell_type": "code",
   "execution_count": 34,
   "metadata": {},
   "outputs": [
    {
     "name": "stdout",
     "output_type": "stream",
     "text": [
      "Epoch: 49, Step: 100, Minibatch loss: 0.243, Minibatch accuracy: 0.914\n",
      "Epoch: 99, Step: 200, Minibatch loss: 0.071, Minibatch accuracy: 0.984\n",
      "Epoch: 149, Step: 300, Minibatch loss: 0.075, Minibatch accuracy: 0.984\n",
      "Epoch: 199, Step: 400, Minibatch loss: 0.050, Minibatch accuracy: 0.984\n",
      "Epoch: 249, Step: 500, Minibatch loss: 0.069, Minibatch accuracy: 0.984\n",
      "Epoch: 299, Step: 600, Minibatch loss: 0.038, Minibatch accuracy: 0.995\n",
      "Final, Step: 600, Minibatch loss: 0.038, Minibatch accuracy: 0.995\n"
     ]
    }
   ],
   "source": [
    "step = 0\n",
    "\n",
    "net.train()\n",
    "\n",
    "for epoch in range(num_epochs):\n",
    "    \n",
    "    exp_lr_scheduler.step()\n",
    "    \n",
    "    for data in train_loader:\n",
    "        \n",
    "        x, y = data\n",
    "        \n",
    "        x, y = x.to(device), y.to(device)\n",
    "        \n",
    "        optimizer.zero_grad()\n",
    "        \n",
    "        logits = net(x)\n",
    "        \n",
    "        loss = loss_function(logits, y)\n",
    "        \n",
    "        loss.backward()\n",
    "        \n",
    "        optimizer.step()\n",
    "        \n",
    "        step += 1\n",
    "        \n",
    "        _, preds = torch.max(logits, 1)\n",
    "        \n",
    "        correct = (preds == y).sum().item()\n",
    "        \n",
    "        accuracy = correct/len(x)\n",
    "        \n",
    "        if step % display_step == 0:\n",
    "            print('Epoch: %d, Step: %d, Minibatch loss: %.3f, Minibatch accuracy: %.3f' % \n",
    "                  (epoch, step, loss, accuracy))\n",
    "            \n",
    "print('Final, Step: %d, Minibatch loss: %.3f, Minibatch accuracy: %.3f' % \n",
    "                  (step, loss, accuracy))"
   ]
  },
  {
   "cell_type": "code",
   "execution_count": 35,
   "metadata": {},
   "outputs": [
    {
     "name": "stdout",
     "output_type": "stream",
     "text": [
      "Test accuracy: 0.783\n"
     ]
    }
   ],
   "source": [
    "net.eval()\n",
    "\n",
    "test_correct = 0\n",
    "\n",
    "with torch.no_grad():\n",
    "    \n",
    "    for data in test_loader:\n",
    "\n",
    "        x, y = data\n",
    "        \n",
    "        x, y = x.to(device), y.to(device)\n",
    "\n",
    "        test_logits = net(x)\n",
    "        _, test_preds = torch.max(test_logits, 1)\n",
    "\n",
    "        test_correct_batch = (test_preds == y).sum().item()\n",
    "\n",
    "        test_correct += test_correct_batch\n",
    "\n",
    "print('Test accuracy: %.3f' % (test_correct / len(test_set)))"
   ]
  },
  {
   "cell_type": "code",
   "execution_count": null,
   "metadata": {},
   "outputs": [],
   "source": []
  },
  {
   "cell_type": "code",
   "execution_count": null,
   "metadata": {},
   "outputs": [],
   "source": []
  },
  {
   "cell_type": "code",
   "execution_count": null,
   "metadata": {},
   "outputs": [],
   "source": []
  },
  {
   "cell_type": "code",
   "execution_count": null,
   "metadata": {},
   "outputs": [],
   "source": []
  },
  {
   "cell_type": "code",
   "execution_count": null,
   "metadata": {},
   "outputs": [],
   "source": []
  },
  {
   "cell_type": "code",
   "execution_count": null,
   "metadata": {},
   "outputs": [],
   "source": []
  },
  {
   "cell_type": "code",
   "execution_count": null,
   "metadata": {},
   "outputs": [],
   "source": []
  },
  {
   "cell_type": "code",
   "execution_count": null,
   "metadata": {},
   "outputs": [],
   "source": []
  },
  {
   "cell_type": "code",
   "execution_count": null,
   "metadata": {},
   "outputs": [],
   "source": []
  },
  {
   "cell_type": "code",
   "execution_count": 184,
   "metadata": {},
   "outputs": [],
   "source": [
    "torch.save(net.state_dict(), os.path.join(LOG_DIR, 'model_%s_checkpoint.pth.tar' \n",
    "                                          % 'vulter_plain_ep_500_step_50_SGD_acc_91'))"
   ]
  },
  {
   "cell_type": "code",
   "execution_count": null,
   "metadata": {},
   "outputs": [],
   "source": [
    "train_x, train_y, test_x, test_y"
   ]
  },
  {
   "cell_type": "code",
   "execution_count": 128,
   "metadata": {},
   "outputs": [],
   "source": [
    "np.save('./vulture_train_x.npy', train_x)\n",
    "np.save('./vulture_train_y.npy', train_y)\n",
    "np.save('./vulture_test_x.npy', test_x)\n",
    "np.save('./vulture_test_y.npy', test_y)\n",
    "np.save('./vulture_train_idx.npy', train_idx)\n",
    "np.save('./vulture_test_idx.npy', test_idx)"
   ]
  },
  {
   "cell_type": "code",
   "execution_count": 53,
   "metadata": {},
   "outputs": [],
   "source": [
    "# train_x = np.load('./vulture_train_x.npy')\n",
    "# train_y = np.load('./vulture_train_y.npy')\n",
    "# test_x = np.load('./vulture_test_x.npy')\n",
    "# test_y = np.load('./vulture_test_y.npy')"
   ]
  },
  {
   "cell_type": "code",
   "execution_count": 42,
   "metadata": {},
   "outputs": [
    {
     "data": {
      "text/plain": [
       "(442, 82, 3)"
      ]
     },
     "execution_count": 42,
     "metadata": {},
     "output_type": "execute_result"
    }
   ],
   "source": [
    "a.shape"
   ]
  }
 ],
 "metadata": {
  "kernelspec": {
   "display_name": "Python 3",
   "language": "python",
   "name": "python3"
  },
  "language_info": {
   "codemirror_mode": {
    "name": "ipython",
    "version": 3
   },
   "file_extension": ".py",
   "mimetype": "text/x-python",
   "name": "python",
   "nbconvert_exporter": "python",
   "pygments_lexer": "ipython3",
   "version": "3.6.5"
  }
 },
 "nbformat": 4,
 "nbformat_minor": 2
}
