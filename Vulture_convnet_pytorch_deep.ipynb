{
 "cells": [
  {
   "cell_type": "markdown",
   "metadata": {},
   "source": [
    "# Vulture deep"
   ]
  },
  {
   "cell_type": "code",
   "execution_count": 1,
   "metadata": {},
   "outputs": [],
   "source": [
    "from utils import *\n",
    "\n",
    "import os\n",
    "\n",
    "import torch\n",
    "import torch.nn as nn\n",
    "import torch.utils.data\n",
    "import torch.nn.functional as F\n",
    "import torch.optim as optim\n",
    "from torch.optim import lr_scheduler\n",
    "\n",
    "import pandas as pd\n",
    "import numpy as np\n",
    "\n",
    "from sklearn import preprocessing\n",
    "# from sklearn.model_selection import train_test_split"
   ]
  },
  {
   "cell_type": "code",
   "execution_count": 2,
   "metadata": {},
   "outputs": [],
   "source": [
    "device = torch.device('cuda:0' if torch.cuda.is_available() else 'cpu')"
   ]
  },
  {
   "cell_type": "code",
   "execution_count": 30,
   "metadata": {},
   "outputs": [],
   "source": [
    "# Misc\n",
    "LOG_DIR = './log_pt/'\n",
    "\n",
    "# Training Parameters\n",
    "test_split = 0.1\n",
    "learning_rate = 0.01\n",
    "num_epochs = 2000\n",
    "batch_size = 256\n",
    "display_step = 100\n",
    "\n",
    "# Network Parameters\n",
    "num_classes = 6\n",
    "keep_rate = 1\n",
    "\n",
    "repeat_size = 82\n",
    "crop_size = 80\n",
    "perm_num = 5\n",
    "channel_swap = True"
   ]
  },
  {
   "cell_type": "code",
   "execution_count": 4,
   "metadata": {},
   "outputs": [],
   "source": [
    "raw = pd.read_csv('./vultures.csv', header=None)"
   ]
  },
  {
   "cell_type": "code",
   "execution_count": 5,
   "metadata": {},
   "outputs": [],
   "source": [
    "class acc_dataset (torch.utils.data.Dataset):\n",
    "    \n",
    "    def __init__ (self, X, Y, mean):\n",
    "        super().__init__()\n",
    "        self.X = X\n",
    "        self.Y = Y.astype(np.float)\n",
    "        self.mean = mean\n",
    "        \n",
    "    def __len__ (self):\n",
    "        return len(self.X)\n",
    "    \n",
    "    def __getitem__ (self, idx):\n",
    "        \n",
    "        x = self.X[idx]\n",
    "        y = self.Y[idx]\n",
    "        \n",
    "        x = (x - self.mean).transpose(1, 0)\n",
    "            \n",
    "        return torch.tensor(x), torch.tensor(y).type(torch.LongTensor)"
   ]
  },
  {
   "cell_type": "code",
   "execution_count": 6,
   "metadata": {},
   "outputs": [],
   "source": [
    "mean = np.array([0. for i in  range(3)])\n",
    "X = []\n",
    "Y = []\n",
    "\n",
    "for i in range(len(raw)):\n",
    "    \n",
    "    row = np.array(raw.loc[i][~raw.loc[i].isnull()])\n",
    "    data = row[0:-1].astype(float)\n",
    "    label = row[-1]\n",
    "    \n",
    "    x_axis = data[0::3]\n",
    "    y_axis = data[1::3]\n",
    "    z_axis = data[2::3]\n",
    "    \n",
    "    x_axis = repeat_crop_data (x_axis, repeat_size)\n",
    "    y_axis = repeat_crop_data (y_axis, repeat_size)\n",
    "    z_axis = repeat_crop_data (z_axis, repeat_size)\n",
    "    \n",
    "    mean[0] += x_axis.mean()\n",
    "    mean[1] += y_axis.mean()\n",
    "    mean[2] += z_axis.mean()\n",
    "    \n",
    "    X.append(np.stack((x_axis, y_axis, z_axis)))\n",
    "    Y.append(label)\n",
    "\n",
    "mean = mean/len(raw)\n",
    "    \n",
    "X = np.array(X).transpose((0, 2, 1))\n",
    "Y = np.array(Y)\n",
    "label_names = np.unique(Y)\n",
    "\n",
    "le = preprocessing.LabelEncoder()\n",
    "le.fit(np.unique(Y))\n",
    "Y = le.transform(Y)"
   ]
  },
  {
   "cell_type": "code",
   "execution_count": 7,
   "metadata": {},
   "outputs": [],
   "source": [
    "def train_test_split(X, Y, split_rate):\n",
    "    \n",
    "    train_idx_overall = np.array([])\n",
    "    test_idx_overall = np.array([])\n",
    "\n",
    "    for l in np.unique(Y):\n",
    "\n",
    "        idx = np.where(Y == l)[0]\n",
    "\n",
    "        test_size = int(len(idx) * split_rate)\n",
    "\n",
    "        test_choice = np.random.choice(len(idx), size=test_size, replace=False)\n",
    "\n",
    "        train_idx = np.delete(idx, test_choice)\n",
    "\n",
    "        test_idx = idx[test_choice]\n",
    "        \n",
    "        train_idx_overall = np.append(train_idx_overall, train_idx)\n",
    "        \n",
    "        test_idx_overall = np.append(test_idx_overall, test_idx)\n",
    "        \n",
    "        \n",
    "    return (X[train_idx_overall.astype(int)], Y[train_idx_overall.astype(int)],\n",
    "            X[test_idx_overall.astype(int)], Y[test_idx_overall.astype(int)],\n",
    "            train_idx_overall, test_idx_overall)\n",
    "    \n",
    "\n",
    "train_x, train_y, test_x, test_y, train_idx, test_idx= train_test_split(X, Y, test_split)"
   ]
  },
  {
   "cell_type": "code",
   "execution_count": 35,
   "metadata": {},
   "outputs": [],
   "source": [
    "train_x = np.load('./vulture_train_x.npy')\n",
    "train_y = np.load('./vulture_train_y.npy')\n",
    "test_x = np.load('./vulture_test_x.npy')\n",
    "test_y = np.load('./vulture_test_y.npy')"
   ]
  },
  {
   "cell_type": "code",
   "execution_count": 36,
   "metadata": {},
   "outputs": [],
   "source": [
    "train_set = acc_dataset(train_x, train_y, mean)\n",
    "test_set = acc_dataset(test_x, test_y, mean)\n",
    "\n",
    "train_loader = torch.utils.data.DataLoader(train_set, batch_size=batch_size, shuffle=True, num_workers=2)\n",
    "test_loader = torch.utils.data.DataLoader(test_set, batch_size=batch_size, shuffle=True, num_workers=2)"
   ]
  },
  {
   "cell_type": "code",
   "execution_count": 37,
   "metadata": {},
   "outputs": [],
   "source": [
    "# x, y = next(iter(train_loader))\n",
    "\n",
    "# x = x.float()\n",
    "\n",
    "# conv1 = nn.Conv1d(in_channels=3, out_channels=32, kernel_size=3, padding=1, stride=2)\n",
    "# conv2 = nn.Conv1d(in_channels=32, out_channels=64, kernel_size=3, padding=1, stride=2)\n",
    "# conv3 = nn.Conv1d(in_channels=64, out_channels=128, kernel_size=3, padding=1, stride=2)\n",
    "# conv4 = nn.Conv1d(in_channels=128, out_channels=256, kernel_size=3, padding=1, stride=2)\n",
    "# avg_pool = nn.AvgPool1d(kernel_size=6, stride=1, padding=0)\n",
    "# fc5 = nn.Linear(256, num_classes)\n",
    "\n",
    "# x = F.relu(conv1(x))\n",
    "\n",
    "# x = F.relu(conv2(x))\n",
    "\n",
    "# x = F.relu(conv3(x))\n",
    "\n",
    "# x = F.relu(conv4(x))\n",
    "\n",
    "# x = avg_pool(x)\n",
    "\n",
    "# x = x.squeeze(2)\n",
    "\n",
    "# x = fc5(x)"
   ]
  },
  {
   "cell_type": "code",
   "execution_count": 38,
   "metadata": {},
   "outputs": [],
   "source": [
    "class MyNet (nn.Module):\n",
    "    \n",
    "    def __init__ (self, num_classes, input_dim, drop_rate):\n",
    "        super().__init__()\n",
    "        \n",
    "        self.input_dim = input_dim\n",
    "        \n",
    "        self.conv1 = nn.Conv1d(in_channels=3, out_channels=32, kernel_size=3, padding=1, stride=2)\n",
    "        self.conv2 = nn.Conv1d(in_channels=32, out_channels=64, kernel_size=3, padding=1, stride=2)\n",
    "        self.conv3 = nn.Conv1d(in_channels=64, out_channels=128, kernel_size=3, padding=1, stride=2)\n",
    "        self.conv4 = nn.Conv1d(in_channels=128, out_channels=256, kernel_size=3, padding=1, stride=2)\n",
    "        self.avg_pool = nn.AvgPool1d(kernel_size=6, stride=1, padding=0)\n",
    "        self.fc5 = nn.Linear(256, num_classes)\n",
    "        \n",
    "    def forward(self, x):\n",
    "        x = F.relu(self.conv1(x))\n",
    "        x = F.relu(self.conv2(x))\n",
    "        x = F.relu(self.conv3(x))\n",
    "        x = F.relu(self.conv4(x))\n",
    "        x = self.avg_pool(x)\n",
    "        x = x.squeeze(2)\n",
    "        x = self.fc5(x)\n",
    "\n",
    "        return x"
   ]
  },
  {
   "cell_type": "code",
   "execution_count": 39,
   "metadata": {},
   "outputs": [
    {
     "data": {
      "text/plain": [
       "MyNet(\n",
       "  (conv1): Conv1d(3, 32, kernel_size=(3,), stride=(2,), padding=(1,))\n",
       "  (conv2): Conv1d(32, 64, kernel_size=(3,), stride=(2,), padding=(1,))\n",
       "  (conv3): Conv1d(64, 128, kernel_size=(3,), stride=(2,), padding=(1,))\n",
       "  (conv4): Conv1d(128, 256, kernel_size=(3,), stride=(2,), padding=(1,))\n",
       "  (avg_pool): AvgPool1d(kernel_size=(6,), stride=(1,), padding=(0,))\n",
       "  (fc5): Linear(in_features=256, out_features=6, bias=True)\n",
       ")"
      ]
     },
     "execution_count": 39,
     "metadata": {},
     "output_type": "execute_result"
    }
   ],
   "source": [
    "net = MyNet(num_classes=num_classes, input_dim=repeat_size, drop_rate=0.3).double()\n",
    "net.to(device)"
   ]
  },
  {
   "cell_type": "code",
   "execution_count": 40,
   "metadata": {},
   "outputs": [],
   "source": [
    "# Loss function\n",
    "loss_function = nn.CrossEntropyLoss()\n",
    "\n",
    "# Optimizer\n",
    "optimizer = optim.SGD(net.parameters(), lr=learning_rate, momentum=0.9)\n",
    "\n",
    "# Decay LR by a factor of 0.1 every 30 epochs\n",
    "exp_lr_scheduler = lr_scheduler.StepLR(optimizer, step_size=300, gamma=0.1)"
   ]
  },
  {
   "cell_type": "code",
   "execution_count": 41,
   "metadata": {},
   "outputs": [
    {
     "name": "stdout",
     "output_type": "stream",
     "text": [
      "Epoch: 49, Step: 100, Minibatch loss: 1.090, Minibatch accuracy: 0.618\n",
      "Epoch: 99, Step: 200, Minibatch loss: 0.636, Minibatch accuracy: 0.758\n",
      "Epoch: 149, Step: 300, Minibatch loss: 0.727, Minibatch accuracy: 0.753\n",
      "Epoch: 199, Step: 400, Minibatch loss: 0.358, Minibatch accuracy: 0.892\n",
      "Epoch: 249, Step: 500, Minibatch loss: 0.222, Minibatch accuracy: 0.930\n",
      "Epoch: 299, Step: 600, Minibatch loss: 0.146, Minibatch accuracy: 0.968\n",
      "Epoch: 349, Step: 700, Minibatch loss: 0.123, Minibatch accuracy: 0.978\n",
      "Epoch: 399, Step: 800, Minibatch loss: 0.141, Minibatch accuracy: 0.968\n",
      "Epoch: 449, Step: 900, Minibatch loss: 0.085, Minibatch accuracy: 0.984\n",
      "Epoch: 499, Step: 1000, Minibatch loss: 0.079, Minibatch accuracy: 0.984\n",
      "Epoch: 549, Step: 1100, Minibatch loss: 0.092, Minibatch accuracy: 0.984\n",
      "Epoch: 599, Step: 1200, Minibatch loss: 0.102, Minibatch accuracy: 0.978\n",
      "Epoch: 649, Step: 1300, Minibatch loss: 0.091, Minibatch accuracy: 0.989\n",
      "Epoch: 699, Step: 1400, Minibatch loss: 0.056, Minibatch accuracy: 0.995\n",
      "Epoch: 749, Step: 1500, Minibatch loss: 0.095, Minibatch accuracy: 0.973\n",
      "Epoch: 799, Step: 1600, Minibatch loss: 0.098, Minibatch accuracy: 0.984\n",
      "Epoch: 849, Step: 1700, Minibatch loss: 0.089, Minibatch accuracy: 0.973\n",
      "Epoch: 899, Step: 1800, Minibatch loss: 0.120, Minibatch accuracy: 0.968\n",
      "Epoch: 949, Step: 1900, Minibatch loss: 0.107, Minibatch accuracy: 0.973\n",
      "Epoch: 999, Step: 2000, Minibatch loss: 0.089, Minibatch accuracy: 0.968\n",
      "Epoch: 1049, Step: 2100, Minibatch loss: 0.112, Minibatch accuracy: 0.968\n",
      "Epoch: 1099, Step: 2200, Minibatch loss: 0.094, Minibatch accuracy: 0.978\n",
      "Epoch: 1149, Step: 2300, Minibatch loss: 0.125, Minibatch accuracy: 0.962\n",
      "Epoch: 1199, Step: 2400, Minibatch loss: 0.065, Minibatch accuracy: 0.989\n",
      "Epoch: 1249, Step: 2500, Minibatch loss: 0.088, Minibatch accuracy: 0.973\n",
      "Epoch: 1299, Step: 2600, Minibatch loss: 0.108, Minibatch accuracy: 0.973\n",
      "Epoch: 1349, Step: 2700, Minibatch loss: 0.121, Minibatch accuracy: 0.968\n",
      "Epoch: 1399, Step: 2800, Minibatch loss: 0.084, Minibatch accuracy: 0.978\n",
      "Epoch: 1449, Step: 2900, Minibatch loss: 0.089, Minibatch accuracy: 0.973\n",
      "Epoch: 1499, Step: 3000, Minibatch loss: 0.107, Minibatch accuracy: 0.978\n",
      "Epoch: 1549, Step: 3100, Minibatch loss: 0.142, Minibatch accuracy: 0.957\n",
      "Epoch: 1599, Step: 3200, Minibatch loss: 0.094, Minibatch accuracy: 0.973\n",
      "Epoch: 1649, Step: 3300, Minibatch loss: 0.083, Minibatch accuracy: 0.978\n",
      "Epoch: 1699, Step: 3400, Minibatch loss: 0.090, Minibatch accuracy: 0.978\n",
      "Epoch: 1749, Step: 3500, Minibatch loss: 0.095, Minibatch accuracy: 0.978\n",
      "Epoch: 1799, Step: 3600, Minibatch loss: 0.105, Minibatch accuracy: 0.973\n",
      "Epoch: 1849, Step: 3700, Minibatch loss: 0.100, Minibatch accuracy: 0.978\n",
      "Epoch: 1899, Step: 3800, Minibatch loss: 0.087, Minibatch accuracy: 0.984\n",
      "Epoch: 1949, Step: 3900, Minibatch loss: 0.093, Minibatch accuracy: 0.973\n",
      "Epoch: 1999, Step: 4000, Minibatch loss: 0.072, Minibatch accuracy: 0.978\n",
      "Final, Step: 4000, Minibatch loss: 0.072, Minibatch accuracy: 0.978\n"
     ]
    }
   ],
   "source": [
    "step = 0\n",
    "\n",
    "net.train()\n",
    "\n",
    "for epoch in range(num_epochs):\n",
    "    \n",
    "    exp_lr_scheduler.step()\n",
    "    \n",
    "    for data in train_loader:\n",
    "        \n",
    "        x, y = data\n",
    "        \n",
    "        x, y = x.to(device), y.to(device)\n",
    "        \n",
    "        optimizer.zero_grad()\n",
    "        \n",
    "        logits = net(x)\n",
    "        \n",
    "        loss = loss_function(logits, y)\n",
    "        \n",
    "        loss.backward()\n",
    "        \n",
    "        optimizer.step()\n",
    "        \n",
    "        step += 1\n",
    "        \n",
    "        _, preds = torch.max(logits, 1)\n",
    "        \n",
    "        correct = (preds == y).sum().item()\n",
    "        \n",
    "        accuracy = correct/len(x)\n",
    "        \n",
    "        if step % display_step == 0:\n",
    "            print('Epoch: %d, Step: %d, Minibatch loss: %.3f, Minibatch accuracy: %.3f' % \n",
    "                  (epoch, step, loss, accuracy))\n",
    "            \n",
    "print('Final, Step: %d, Minibatch loss: %.3f, Minibatch accuracy: %.3f' % \n",
    "                  (step, loss, accuracy))"
   ]
  },
  {
   "cell_type": "code",
   "execution_count": 42,
   "metadata": {},
   "outputs": [
    {
     "name": "stdout",
     "output_type": "stream",
     "text": [
      "Test accuracy: 0.783\n"
     ]
    }
   ],
   "source": [
    "net.eval()\n",
    "\n",
    "test_correct = 0\n",
    "\n",
    "with torch.no_grad():\n",
    "    \n",
    "    for data in test_loader:\n",
    "\n",
    "        x, y = data\n",
    "        \n",
    "        x, y = x.to(device), y.to(device)\n",
    "\n",
    "        test_logits = net(x)\n",
    "        _, test_preds = torch.max(test_logits, 1)\n",
    "\n",
    "        test_correct_batch = (test_preds == y).sum().item()\n",
    "\n",
    "        test_correct += test_correct_batch\n",
    "\n",
    "print('Test accuracy: %.3f' % (test_correct / len(test_set)))"
   ]
  },
  {
   "cell_type": "code",
   "execution_count": null,
   "metadata": {},
   "outputs": [],
   "source": []
  },
  {
   "cell_type": "code",
   "execution_count": null,
   "metadata": {},
   "outputs": [],
   "source": []
  },
  {
   "cell_type": "code",
   "execution_count": null,
   "metadata": {},
   "outputs": [],
   "source": []
  },
  {
   "cell_type": "code",
   "execution_count": null,
   "metadata": {},
   "outputs": [],
   "source": []
  },
  {
   "cell_type": "code",
   "execution_count": null,
   "metadata": {},
   "outputs": [],
   "source": []
  },
  {
   "cell_type": "code",
   "execution_count": null,
   "metadata": {},
   "outputs": [],
   "source": []
  },
  {
   "cell_type": "code",
   "execution_count": null,
   "metadata": {},
   "outputs": [],
   "source": []
  },
  {
   "cell_type": "code",
   "execution_count": null,
   "metadata": {},
   "outputs": [],
   "source": []
  },
  {
   "cell_type": "code",
   "execution_count": null,
   "metadata": {},
   "outputs": [],
   "source": []
  },
  {
   "cell_type": "code",
   "execution_count": 184,
   "metadata": {},
   "outputs": [],
   "source": [
    "torch.save(net.state_dict(), os.path.join(LOG_DIR, 'model_%s_checkpoint.pth.tar' \n",
    "                                          % 'vulter_plain_ep_500_step_50_SGD_acc_91'))"
   ]
  },
  {
   "cell_type": "code",
   "execution_count": null,
   "metadata": {},
   "outputs": [],
   "source": [
    "train_x, train_y, test_x, test_y"
   ]
  },
  {
   "cell_type": "code",
   "execution_count": 128,
   "metadata": {},
   "outputs": [],
   "source": [
    "np.save('./vulture_train_x.npy', train_x)\n",
    "np.save('./vulture_train_y.npy', train_y)\n",
    "np.save('./vulture_test_x.npy', test_x)\n",
    "np.save('./vulture_test_y.npy', test_y)\n",
    "np.save('./vulture_train_idx.npy', train_idx)\n",
    "np.save('./vulture_test_idx.npy', test_idx)"
   ]
  },
  {
   "cell_type": "code",
   "execution_count": 53,
   "metadata": {},
   "outputs": [],
   "source": [
    "# train_x = np.load('./vulture_train_x.npy')\n",
    "# train_y = np.load('./vulture_train_y.npy')\n",
    "# test_x = np.load('./vulture_test_x.npy')\n",
    "# test_y = np.load('./vulture_test_y.npy')"
   ]
  },
  {
   "cell_type": "code",
   "execution_count": 42,
   "metadata": {},
   "outputs": [
    {
     "data": {
      "text/plain": [
       "(442, 82, 3)"
      ]
     },
     "execution_count": 42,
     "metadata": {},
     "output_type": "execute_result"
    }
   ],
   "source": [
    "a.shape"
   ]
  }
 ],
 "metadata": {
  "kernelspec": {
   "display_name": "Python 3",
   "language": "python",
   "name": "python3"
  },
  "language_info": {
   "codemirror_mode": {
    "name": "ipython",
    "version": 3
   },
   "file_extension": ".py",
   "mimetype": "text/x-python",
   "name": "python",
   "nbconvert_exporter": "python",
   "pygments_lexer": "ipython3",
   "version": "3.6.5"
  }
 },
 "nbformat": 4,
 "nbformat_minor": 2
}
