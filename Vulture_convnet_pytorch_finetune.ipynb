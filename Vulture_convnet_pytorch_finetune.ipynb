{
 "cells": [
  {
   "cell_type": "code",
   "execution_count": 50,
   "metadata": {},
   "outputs": [],
   "source": [
    "from utils import *\n",
    "\n",
    "import os\n",
    "\n",
    "import torch\n",
    "import torch.nn as nn\n",
    "import torch.utils.data\n",
    "import torch.nn.functional as F\n",
    "import torch.optim as optim\n",
    "from torch.optim import lr_scheduler\n",
    "\n",
    "import pandas as pd\n",
    "import numpy as np\n",
    "\n",
    "from sklearn import preprocessing\n",
    "from sklearn.model_selection import train_test_split"
   ]
  },
  {
   "cell_type": "code",
   "execution_count": 51,
   "metadata": {},
   "outputs": [],
   "source": [
    "device = torch.device('cuda:0' if torch.cuda.is_available() else 'cpu')"
   ]
  },
  {
   "cell_type": "code",
   "execution_count": 52,
   "metadata": {},
   "outputs": [],
   "source": [
    "# Misc\n",
    "LOG_DIR = './log_pt/'\n",
    "\n",
    "# Training Parameters\n",
    "learning_rate = 0.001\n",
    "num_epochs = 200\n",
    "batch_size = 256\n",
    "display_step = 10\n",
    "\n",
    "# Network Parameters\n",
    "num_classes = 6\n",
    "keep_rate = 1\n",
    "\n",
    "repeat_size = 82"
   ]
  },
  {
   "cell_type": "code",
   "execution_count": 53,
   "metadata": {},
   "outputs": [],
   "source": [
    "raw = pd.read_csv('./vultures.csv', header=None)"
   ]
  },
  {
   "cell_type": "code",
   "execution_count": 54,
   "metadata": {},
   "outputs": [],
   "source": [
    "mean = np.array([0. for i in  range(3)])\n",
    "X = []\n",
    "Y = []\n",
    "\n",
    "for i in range(len(raw)):\n",
    "    \n",
    "    row = np.array(raw.loc[i][~raw.loc[i].isnull()])\n",
    "    data = row[0:-1].astype(float)\n",
    "    label = row[-1]\n",
    "    \n",
    "    x_axis = data[0::3]\n",
    "    y_axis = data[1::3]\n",
    "    z_axis = data[2::3]\n",
    "    \n",
    "    x_axis = repeat_crop_data (x_axis, repeat_size)\n",
    "    y_axis = repeat_crop_data (y_axis, repeat_size)\n",
    "    z_axis = repeat_crop_data (z_axis, repeat_size)\n",
    "    \n",
    "    mean[0] += x_axis.mean()\n",
    "    mean[1] += y_axis.mean()\n",
    "    mean[2] += z_axis.mean()\n",
    "    \n",
    "    X.append(np.stack((x_axis, y_axis, z_axis)))\n",
    "    Y.append(label)\n",
    "\n",
    "mean = mean/len(raw)\n",
    "    \n",
    "X = np.array(X).transpose((0, 2, 1))\n",
    "Y = np.array(Y)\n",
    "label_names = np.unique(Y)\n",
    "\n",
    "le = preprocessing.LabelEncoder()\n",
    "le.fit(np.unique(Y))\n",
    "Y = le.transform(Y)"
   ]
  },
  {
   "cell_type": "code",
   "execution_count": 56,
   "metadata": {},
   "outputs": [],
   "source": [
    "train_x, test_x, train_y, test_y = train_test_split(X, Y, test_size=0.1)"
   ]
  },
  {
   "cell_type": "code",
   "execution_count": 57,
   "metadata": {},
   "outputs": [],
   "source": [
    "class acc_dataset (torch.utils.data.Dataset):\n",
    "    \n",
    "    def __init__ (self, X, Y, mean):\n",
    "        super().__init__()\n",
    "        self.X = X\n",
    "        self.Y = Y.astype(np.float)\n",
    "        self.mean = mean\n",
    "        \n",
    "    def __len__ (self):\n",
    "        return len(self.X)\n",
    "    \n",
    "    def __getitem__ (self, idx):\n",
    "        \n",
    "        x = self.X[idx]\n",
    "        y = self.Y[idx]\n",
    "        \n",
    "        x = (x - self.mean).transpose(1, 0)\n",
    "            \n",
    "        return torch.tensor(x), torch.tensor(y).type(torch.LongTensor)"
   ]
  },
  {
   "cell_type": "code",
   "execution_count": 58,
   "metadata": {},
   "outputs": [],
   "source": [
    "train_set = acc_dataset(train_x, train_y, mean)\n",
    "test_set = acc_dataset(test_x, test_y, mean)"
   ]
  },
  {
   "cell_type": "code",
   "execution_count": 59,
   "metadata": {},
   "outputs": [],
   "source": [
    "train_loader = torch.utils.data.DataLoader(train_set, batch_size=batch_size, shuffle=True, num_workers=2)\n",
    "test_loader = torch.utils.data.DataLoader(test_set, batch_size=batch_size, shuffle=True, num_workers=2)"
   ]
  },
  {
   "cell_type": "code",
   "execution_count": 60,
   "metadata": {},
   "outputs": [],
   "source": [
    "class MyNet (nn.Module):\n",
    "    \n",
    "    def __init__ (self, num_classes, input_dim, drop_rate):\n",
    "        super().__init__()\n",
    "        \n",
    "        self.input_dim = input_dim\n",
    "        \n",
    "        self.conv1 = nn.Conv1d(in_channels=3, out_channels=32, kernel_size=3, padding=1)\n",
    "        self.conv2 = nn.Conv1d(in_channels=32, out_channels=64, kernel_size=3, padding=1)\n",
    "        self.fc3 = nn.Linear(self.input_dim*64, 1024)\n",
    "        self.dropout = nn.Dropout(p=drop_rate)\n",
    "        self.fc4 = nn.Linear(1024, num_classes)\n",
    "        \n",
    "    def forward(self, x):\n",
    "        x = F.relu(self.conv1(x))\n",
    "        x = F.relu(self.conv2(x))\n",
    "\n",
    "        #self.pretrained_resnet.avgpool(x)\n",
    "        x = x.view(-1, self.input_dim*64)\n",
    "        \n",
    "        x = F.relu(self.fc3(x))\n",
    "        x = self.dropout(x)\n",
    "        x = self.fc4(x)\n",
    "\n",
    "        return x"
   ]
  },
  {
   "cell_type": "code",
   "execution_count": 64,
   "metadata": {},
   "outputs": [],
   "source": [
    "checkpoint = torch.load('./log_pt/model_storks_plain_ep_100_step_20_dr_03_acc_96_checkpoint.pth.tar')\n",
    "\n",
    "ft_net = MyNet(num_classes=5, input_dim=repeat_size, drop_rate=0.3).double()\n",
    "\n",
    "ft_net.load_state_dict(checkpoint)"
   ]
  },
  {
   "cell_type": "code",
   "execution_count": 65,
   "metadata": {},
   "outputs": [],
   "source": [
    "ft_net.fc4 = nn.Linear(1024, num_classes).double()"
   ]
  },
  {
   "cell_type": "code",
   "execution_count": 66,
   "metadata": {},
   "outputs": [],
   "source": [
    "ft_net = ft_net.to(device)"
   ]
  },
  {
   "cell_type": "code",
   "execution_count": 67,
   "metadata": {},
   "outputs": [],
   "source": [
    "loss_function = nn.CrossEntropyLoss()\n",
    "\n",
    "optimizer = optim.Adam(ft_net.parameters(), lr=learning_rate)\n",
    "\n",
    "exp_lr_scheduler = lr_scheduler.StepLR(optimizer, step_size=20, gamma=0.1)"
   ]
  },
  {
   "cell_type": "code",
   "execution_count": 68,
   "metadata": {},
   "outputs": [
    {
     "name": "stdout",
     "output_type": "stream",
     "text": [
      "Epoch: 4, Step: 10, Minibatch loss: 0.739, Minibatch accuracy: 0.743\n",
      "Epoch: 9, Step: 20, Minibatch loss: 0.403, Minibatch accuracy: 0.858\n",
      "Epoch: 14, Step: 30, Minibatch loss: 0.209, Minibatch accuracy: 0.934\n",
      "Epoch: 19, Step: 40, Minibatch loss: 0.191, Minibatch accuracy: 0.918\n",
      "Epoch: 24, Step: 50, Minibatch loss: 0.159, Minibatch accuracy: 0.956\n",
      "Epoch: 29, Step: 60, Minibatch loss: 0.130, Minibatch accuracy: 0.978\n",
      "Epoch: 34, Step: 70, Minibatch loss: 0.165, Minibatch accuracy: 0.956\n",
      "Epoch: 39, Step: 80, Minibatch loss: 0.124, Minibatch accuracy: 0.962\n",
      "Epoch: 44, Step: 90, Minibatch loss: 0.102, Minibatch accuracy: 0.967\n",
      "Epoch: 49, Step: 100, Minibatch loss: 0.130, Minibatch accuracy: 0.967\n",
      "Epoch: 54, Step: 110, Minibatch loss: 0.119, Minibatch accuracy: 0.962\n",
      "Epoch: 59, Step: 120, Minibatch loss: 0.128, Minibatch accuracy: 0.945\n",
      "Epoch: 64, Step: 130, Minibatch loss: 0.161, Minibatch accuracy: 0.951\n",
      "Epoch: 69, Step: 140, Minibatch loss: 0.105, Minibatch accuracy: 0.978\n",
      "Epoch: 74, Step: 150, Minibatch loss: 0.128, Minibatch accuracy: 0.962\n",
      "Epoch: 79, Step: 160, Minibatch loss: 0.084, Minibatch accuracy: 0.984\n",
      "Epoch: 84, Step: 170, Minibatch loss: 0.091, Minibatch accuracy: 0.978\n",
      "Epoch: 89, Step: 180, Minibatch loss: 0.100, Minibatch accuracy: 0.973\n",
      "Epoch: 94, Step: 190, Minibatch loss: 0.119, Minibatch accuracy: 0.973\n",
      "Epoch: 99, Step: 200, Minibatch loss: 0.103, Minibatch accuracy: 0.973\n",
      "Epoch: 104, Step: 210, Minibatch loss: 0.083, Minibatch accuracy: 0.989\n",
      "Epoch: 109, Step: 220, Minibatch loss: 0.103, Minibatch accuracy: 0.967\n",
      "Epoch: 114, Step: 230, Minibatch loss: 0.154, Minibatch accuracy: 0.956\n",
      "Epoch: 119, Step: 240, Minibatch loss: 0.106, Minibatch accuracy: 0.962\n",
      "Epoch: 124, Step: 250, Minibatch loss: 0.096, Minibatch accuracy: 0.984\n",
      "Epoch: 129, Step: 260, Minibatch loss: 0.131, Minibatch accuracy: 0.967\n",
      "Epoch: 134, Step: 270, Minibatch loss: 0.109, Minibatch accuracy: 0.984\n",
      "Epoch: 139, Step: 280, Minibatch loss: 0.084, Minibatch accuracy: 0.978\n",
      "Epoch: 144, Step: 290, Minibatch loss: 0.062, Minibatch accuracy: 0.989\n",
      "Epoch: 149, Step: 300, Minibatch loss: 0.101, Minibatch accuracy: 0.973\n",
      "Epoch: 154, Step: 310, Minibatch loss: 0.100, Minibatch accuracy: 0.973\n",
      "Epoch: 159, Step: 320, Minibatch loss: 0.111, Minibatch accuracy: 0.973\n",
      "Epoch: 164, Step: 330, Minibatch loss: 0.081, Minibatch accuracy: 0.984\n",
      "Epoch: 169, Step: 340, Minibatch loss: 0.068, Minibatch accuracy: 0.978\n",
      "Epoch: 174, Step: 350, Minibatch loss: 0.095, Minibatch accuracy: 0.978\n",
      "Epoch: 179, Step: 360, Minibatch loss: 0.107, Minibatch accuracy: 0.973\n",
      "Epoch: 184, Step: 370, Minibatch loss: 0.154, Minibatch accuracy: 0.956\n",
      "Epoch: 189, Step: 380, Minibatch loss: 0.086, Minibatch accuracy: 0.984\n",
      "Epoch: 194, Step: 390, Minibatch loss: 0.093, Minibatch accuracy: 0.978\n",
      "Epoch: 199, Step: 400, Minibatch loss: 0.146, Minibatch accuracy: 0.967\n",
      "Final, Step: 400, Minibatch loss: 0.146, Minibatch accuracy: 0.967\n"
     ]
    }
   ],
   "source": [
    "step = 0\n",
    "\n",
    "ft_net.train()\n",
    "\n",
    "for epoch in range(num_epochs):\n",
    "    \n",
    "    exp_lr_scheduler.step()\n",
    "    \n",
    "    for data in train_loader:\n",
    "        \n",
    "        x, y = data\n",
    "        \n",
    "        x, y = x.to(device), y.to(device)\n",
    "        \n",
    "        optimizer.zero_grad()\n",
    "        \n",
    "        logits = ft_net(x)\n",
    "        \n",
    "        loss = loss_function(logits, y)\n",
    "        \n",
    "        loss.backward()\n",
    "        \n",
    "        optimizer.step()\n",
    "        \n",
    "        step += 1\n",
    "        \n",
    "        _, preds = torch.max(logits, 1)\n",
    "        \n",
    "        correct = (preds == y).sum().item()\n",
    "        \n",
    "        accuracy = correct/len(x)\n",
    "        \n",
    "        if step % display_step == 0:\n",
    "            print('Epoch: %d, Step: %d, Minibatch loss: %.3f, Minibatch accuracy: %.3f' % \n",
    "                  (epoch, step, loss, accuracy))\n",
    "            \n",
    "print('Final, Step: %d, Minibatch loss: %.3f, Minibatch accuracy: %.3f' % \n",
    "                  (step, loss, accuracy))"
   ]
  },
  {
   "cell_type": "code",
   "execution_count": 69,
   "metadata": {},
   "outputs": [
    {
     "name": "stdout",
     "output_type": "stream",
     "text": [
      "Test accuracy: 0.918\n"
     ]
    }
   ],
   "source": [
    "ft_net.eval()\n",
    "\n",
    "test_correct = 0\n",
    "\n",
    "with torch.no_grad():\n",
    "    \n",
    "    for data in test_loader:\n",
    "\n",
    "        test_x, test_y = data\n",
    "        \n",
    "        test_x, test_y = test_x.to(device), test_y.to(device)\n",
    "\n",
    "        test_logits = ft_net(test_x)\n",
    "        _, test_preds = torch.max(test_logits, 1)\n",
    "\n",
    "        test_correct_batch = (test_preds == test_y).sum().item()\n",
    "\n",
    "        test_correct += test_correct_batch\n",
    "\n",
    "print('Test accuracy: %.3f' % (test_correct / len(test_set)))"
   ]
  },
  {
   "cell_type": "code",
   "execution_count": 71,
   "metadata": {},
   "outputs": [],
   "source": [
    "torch.save(ft_net.state_dict(), os.path.join(LOG_DIR, 'model_%s_checkpoint.pth.tar' % 'vulter_plain_ep_200_step_30_drop_0.3_ft'))"
   ]
  }
 ],
 "metadata": {
  "kernelspec": {
   "display_name": "Python 3",
   "language": "python",
   "name": "python3"
  },
  "language_info": {
   "codemirror_mode": {
    "name": "ipython",
    "version": 3
   },
   "file_extension": ".py",
   "mimetype": "text/x-python",
   "name": "python",
   "nbconvert_exporter": "python",
   "pygments_lexer": "ipython3",
   "version": "3.6.5"
  }
 },
 "nbformat": 4,
 "nbformat_minor": 2
}
