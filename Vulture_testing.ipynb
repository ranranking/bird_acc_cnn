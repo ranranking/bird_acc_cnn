{
 "cells": [
  {
   "cell_type": "code",
   "execution_count": 1,
   "metadata": {},
   "outputs": [],
   "source": [
    "import pandas as pd\n",
    "import numpy as np\n",
    "import matplotlib.pyplot as plt\n",
    "%matplotlib inline\n",
    "import scipy.stats\n",
    "from sklearn import preprocessing\n",
    "from sklearn.model_selection import train_test_split\n",
    "from sklearn.metrics import accuracy_score"
   ]
  },
  {
   "cell_type": "code",
   "execution_count": 2,
   "metadata": {},
   "outputs": [],
   "source": [
    "def running_mean (data):\n",
    "    \n",
    "    out = np.zeros(len(data))\n",
    "    for i in range(int(np.ceil(len(data) / 10))):\n",
    "        second_mean = data[10*i:10*(i+1)].mean()\n",
    "        out[10*i:10*(i+1)] = second_mean\n",
    "        \n",
    "    return out\n",
    "\n",
    "def amplitude (data):\n",
    "    \n",
    "    diff_mask = np.zeros(len(data))\n",
    "    for i in range(int(np.ceil(len(data) / 10))):\n",
    "        second_diff = data[10*i:10*(i+1)].max() - data[10*i:10*(i+1)].min()\n",
    "        diff_mask[10*i:10*(i+1)] = second_diff\n",
    "        \n",
    "    return diff_mask.mean()\n",
    "\n",
    "def cross_count (a, b): \n",
    "    count = 0\n",
    "    diff = a > b   \n",
    "    for i in range(len(diff) - 1):\n",
    "        if diff[i + 1] != diff[i]:\n",
    "            count+=1\n",
    "    return count     \n",
    "\n",
    "def sum_stats (data):\n",
    "    \n",
    "    out = []\n",
    "    \n",
    "    x_axis = data[0::3]\n",
    "    y_axis = data[1::3]\n",
    "    z_axis = data[2::3]\n",
    "\n",
    "    mean_x = x_axis.mean()\n",
    "    std_x = x_axis.std()\n",
    "    skew_x = scipy.stats.skew(x_axis)\n",
    "    kurtosis_x = scipy.stats.kurtosis(x_axis)\n",
    "    max_val_x = x_axis.max()\n",
    "    min_val_x = x_axis.min()\n",
    "    norm_x = np.linalg.norm(x_axis)/len(x_axis)\n",
    "    \n",
    "    out.append(mean_x)\n",
    "    out.append(std_x)\n",
    "    out.append(skew_x)\n",
    "    out.append(kurtosis_x)\n",
    "    out.append(max_val_x)\n",
    "    out.append(min_val_x)\n",
    "    out.append(norm_x)\n",
    "    \n",
    "    mean_y = y_axis.mean()\n",
    "    std_y = y_axis.std()\n",
    "    skew_y = scipy.stats.skew(y_axis)\n",
    "    kurtosis_y = scipy.stats.kurtosis(y_axis)\n",
    "    max_val_y = y_axis.max()\n",
    "    min_val_y = y_axis.min()\n",
    "    norm_y = np.linalg.norm(y_axis)/len(y_axis)\n",
    "    \n",
    "    out.append(mean_y)\n",
    "    out.append(std_y)\n",
    "    out.append(skew_y)\n",
    "    out.append(kurtosis_y)\n",
    "    out.append(max_val_y)\n",
    "    out.append(min_val_y)\n",
    "    out.append(norm_y)\n",
    "\n",
    "    mean_z = z_axis.mean()\n",
    "    std_z = z_axis.std()\n",
    "    skew_z = scipy.stats.skew(z_axis)\n",
    "    kurtosis_z = scipy.stats.kurtosis(z_axis)\n",
    "    max_val_z = z_axis.max()\n",
    "    min_val_z = z_axis.min()\n",
    "    norm_z = np.linalg.norm(z_axis)/len(z_axis)\n",
    "    \n",
    "    out.append(mean_z)\n",
    "    out.append(std_z)\n",
    "    out.append(skew_z)\n",
    "    out.append(kurtosis_z)\n",
    "    out.append(max_val_z)\n",
    "    out.append(min_val_z)\n",
    "    out.append(norm_z)\n",
    "\n",
    "    cov_xy = np.cov(x_axis, y_axis)[0][1]\n",
    "    cov_xz = np.cov(x_axis, z_axis)[0][1]\n",
    "    cov_yz = np.cov(y_axis, z_axis)[0][1]\n",
    "    \n",
    "    out.append(cov_xy) \n",
    "    out.append(cov_xz)\n",
    "    out.append(cov_yz)\n",
    "\n",
    "    cor_xy = np.corrcoef(x_axis, y_axis)[0][1]\n",
    "    cor_xz = np.corrcoef(x_axis, z_axis)[0][1]\n",
    "    cor_yz = np.corrcoef(y_axis, z_axis)[0][1]\n",
    "    \n",
    "    out.append(cor_xy) \n",
    "    out.append(cor_xz)\n",
    "    out.append(cor_yz)\n",
    "\n",
    "    mean_diff_xy = abs(mean_x-mean_y)\n",
    "    mean_diff_xz = abs(mean_x-mean_z)\n",
    "    mean_diff_yz = abs(mean_y-mean_z)\n",
    "    \n",
    "    out.append(mean_diff_xy) \n",
    "    out.append(mean_diff_xz)\n",
    "    out.append(mean_diff_yz)\n",
    "\n",
    "    std_diff_xy = abs(std_x-std_y)\n",
    "    std_diff_xz = abs(std_x-std_z)\n",
    "    std_diff_yz = abs(std_y-std_z)\n",
    "    \n",
    "    out.append(std_diff_xy) \n",
    "    out.append(std_diff_xz)\n",
    "    out.append(std_diff_yz)\n",
    "\n",
    "    DBA_x = abs(x_axis - running_mean(x_axis)).sum()\n",
    "    DBA_y = abs(y_axis - running_mean(y_axis)).sum()\n",
    "    DBA_z = abs(z_axis - running_mean(z_axis)).sum()\n",
    "    \n",
    "    out.append(DBA_x)\n",
    "    out.append(DBA_y)\n",
    "    out.append(DBA_z)\n",
    "\n",
    "    ODBA = DBA_x + DBA_y + DBA_z\n",
    "    \n",
    "    out.append(ODBA)\n",
    "\n",
    "    amp_x = amplitude(x_axis)\n",
    "    amp_y = amplitude(y_axis)\n",
    "    amp_z = amplitude(z_axis)\n",
    "    \n",
    "    out.append(amp_x)\n",
    "    out.append(amp_y)\n",
    "    out.append(amp_z)\n",
    "\n",
    "    cross_xy = cross_count(x_axis, y_axis)\n",
    "    cross_xz = cross_count(x_axis, z_axis)\n",
    "    cross_yz = cross_count(y_axis, z_axis)\n",
    "    \n",
    "    out.append(cross_xy) \n",
    "    out.append(cross_xz)\n",
    "    out.append(cross_yz)\n",
    "\n",
    "    x_25 = np.percentile(x_axis, 25)\n",
    "    x_50 = np.percentile(x_axis, 50)\n",
    "    x_75 = np.percentile(x_axis, 75)\n",
    "    \n",
    "    out.append(x_25)\n",
    "    out.append(x_50)\n",
    "    out.append(x_75)\n",
    "\n",
    "    y_25 = np.percentile(y_axis, 25)\n",
    "    y_50 = np.percentile(y_axis, 50)\n",
    "    y_75 = np.percentile(y_axis, 75)\n",
    "    \n",
    "    out.append(y_25)\n",
    "    out.append(y_50)\n",
    "    out.append(y_75)\n",
    "\n",
    "    z_25 = np.percentile(z_axis, 25)\n",
    "    z_50 = np.percentile(z_axis, 50)\n",
    "    z_75 = np.percentile(z_axis, 75)\n",
    "    \n",
    "    out.append(z_25)\n",
    "    out.append(z_50)\n",
    "    out.append(z_75)\n",
    "    \n",
    "    return out"
   ]
  },
  {
   "cell_type": "markdown",
   "metadata": {},
   "source": [
    "## Vulture"
   ]
  },
  {
   "cell_type": "code",
   "execution_count": 192,
   "metadata": {},
   "outputs": [],
   "source": [
    "raw = pd.read_csv('./vultures.csv', header=None)\n",
    "\n",
    "X = []\n",
    "Y = []\n",
    "\n",
    "for i in range(len(raw)):\n",
    "    \n",
    "    row = np.array(raw.loc[i][~raw.loc[i].isnull()])\n",
    "    data = row[0:-1].astype(float)\n",
    "    label = row[-1]\n",
    "    \n",
    "    X.append(sum_stats(data))\n",
    "    Y.append(label)"
   ]
  },
  {
   "cell_type": "code",
   "execution_count": 193,
   "metadata": {},
   "outputs": [],
   "source": [
    "X = np.array(X)\n",
    "Y = np.array(Y)\n",
    "label_names = np.unique(Y)\n",
    "\n",
    "X = X / X.max(axis=0)\n",
    "le = preprocessing.LabelEncoder()\n",
    "le.fit(np.unique(Y))\n",
    "Y = le.transform(Y)\n",
    "\n",
    "train_x, test_x, train_y, test_y = train_test_split(X, Y, test_size=0.1)"
   ]
  },
  {
   "cell_type": "code",
   "execution_count": 194,
   "metadata": {},
   "outputs": [
    {
     "data": {
      "text/plain": [
       "0.8367346938775511"
      ]
     },
     "execution_count": 194,
     "metadata": {},
     "output_type": "execute_result"
    }
   ],
   "source": [
    "from sklearn.ensemble import RandomForestClassifier\n",
    "clf = RandomForestClassifier(n_estimators=20)\n",
    "clf = clf.fit(train_x, train_y)\n",
    "pred = clf.predict(test_x)\n",
    "accuracy_score(test_y, pred)"
   ]
  },
  {
   "cell_type": "code",
   "execution_count": 195,
   "metadata": {},
   "outputs": [
    {
     "data": {
      "text/plain": [
       "0.673469387755102"
      ]
     },
     "execution_count": 195,
     "metadata": {},
     "output_type": "execute_result"
    }
   ],
   "source": [
    "from sklearn.svm import SVC\n",
    "clf = SVC(C=0.4)\n",
    "clf = clf.fit(train_x, train_y)\n",
    "pred = clf.predict(test_x)\n",
    "accuracy_score(test_y, pred)"
   ]
  },
  {
   "cell_type": "code",
   "execution_count": 196,
   "metadata": {},
   "outputs": [
    {
     "name": "stderr",
     "output_type": "stream",
     "text": [
      "/Users/ranranking/miniconda3/lib/python3.6/site-packages/sklearn/discriminant_analysis.py:388: UserWarning: Variables are collinear.\n",
      "  warnings.warn(\"Variables are collinear.\")\n"
     ]
    },
    {
     "data": {
      "text/plain": [
       "0.8367346938775511"
      ]
     },
     "execution_count": 196,
     "metadata": {},
     "output_type": "execute_result"
    }
   ],
   "source": [
    "from sklearn.discriminant_analysis import LinearDiscriminantAnalysis\n",
    "clf = LinearDiscriminantAnalysis()\n",
    "clf = clf.fit(train_x, train_y)\n",
    "pred = clf.predict(test_x)\n",
    "accuracy_score(test_y, pred)"
   ]
  },
  {
   "cell_type": "code",
   "execution_count": 197,
   "metadata": {},
   "outputs": [
    {
     "data": {
      "text/plain": [
       "0.7551020408163265"
      ]
     },
     "execution_count": 197,
     "metadata": {},
     "output_type": "execute_result"
    }
   ],
   "source": [
    "from sklearn.neighbors import KNeighborsClassifier\n",
    "clf = KNeighborsClassifier(14)\n",
    "clf = clf.fit(train_x, train_y)\n",
    "pred = clf.predict(test_x)\n",
    "accuracy_score(test_y, pred)"
   ]
  },
  {
   "cell_type": "code",
   "execution_count": 198,
   "metadata": {},
   "outputs": [
    {
     "data": {
      "text/plain": [
       "0.7142857142857143"
      ]
     },
     "execution_count": 198,
     "metadata": {},
     "output_type": "execute_result"
    }
   ],
   "source": [
    "from sklearn import tree\n",
    "clf = tree.DecisionTreeClassifier()\n",
    "clf = clf.fit(train_x, train_y)\n",
    "pred = clf.predict(test_x)\n",
    "accuracy_score(test_y, pred)"
   ]
  },
  {
   "cell_type": "code",
   "execution_count": 199,
   "metadata": {},
   "outputs": [
    {
     "name": "stderr",
     "output_type": "stream",
     "text": [
      "/Users/ranranking/miniconda3/lib/python3.6/site-packages/sklearn/neural_network/multilayer_perceptron.py:564: ConvergenceWarning: Stochastic Optimizer: Maximum iterations (200) reached and the optimization hasn't converged yet.\n",
      "  % self.max_iter, ConvergenceWarning)\n"
     ]
    },
    {
     "data": {
      "text/plain": [
       "0.8775510204081632"
      ]
     },
     "execution_count": 199,
     "metadata": {},
     "output_type": "execute_result"
    }
   ],
   "source": [
    "from sklearn.neural_network import MLPClassifier\n",
    "clf = MLPClassifier(solver='adam', activation='tanh')\n",
    "clf = clf.fit(train_x, train_y)\n",
    "pred = clf.predict(test_x)\n",
    "accuracy_score(test_y, pred)"
   ]
  },
  {
   "cell_type": "markdown",
   "metadata": {},
   "source": [
    "## Visualization"
   ]
  },
  {
   "cell_type": "code",
   "execution_count": 200,
   "metadata": {},
   "outputs": [],
   "source": [
    "colors = ['navy', 'turquoise', 'darkorange', 'red', 'green', 'pink']"
   ]
  },
  {
   "cell_type": "markdown",
   "metadata": {},
   "source": [
    "### PCA"
   ]
  },
  {
   "cell_type": "code",
   "execution_count": 201,
   "metadata": {},
   "outputs": [],
   "source": [
    "from sklearn.decomposition import PCA"
   ]
  },
  {
   "cell_type": "code",
   "execution_count": 202,
   "metadata": {},
   "outputs": [],
   "source": [
    "pca = PCA(n_components=2)\n",
    "X_r = pca.fit(X).transform(X)"
   ]
  },
  {
   "cell_type": "code",
   "execution_count": 203,
   "metadata": {},
   "outputs": [
    {
     "data": {
      "text/plain": [
       "<matplotlib.legend.Legend at 0x11fe0d320>"
      ]
     },
     "execution_count": 203,
     "metadata": {},
     "output_type": "execute_result"
    },
    {
     "data": {
      "image/png": "[encoded data removed]",
      "text/plain": [
       "<Figure size 432x288 with 1 Axes>"
      ]
     },
     "metadata": {},
     "output_type": "display_data"
    }
   ],
   "source": [
    "plt.figure()\n",
    "for color, i, name in zip(colors, range(6), label_names):\n",
    "    plt.scatter(X_r[Y == i, 0], X_r[Y == i, 1], color=color, alpha=.8, label=name)\n",
    "plt.legend(loc='best', shadow=False, scatterpoints=1)"
   ]
  },
  {
   "cell_type": "markdown",
   "metadata": {},
   "source": [
    "### t-SNE"
   ]
  },
  {
   "cell_type": "code",
   "execution_count": 204,
   "metadata": {},
   "outputs": [],
   "source": [
    "from sklearn import manifold"
   ]
  },
  {
   "cell_type": "code",
   "execution_count": 205,
   "metadata": {},
   "outputs": [],
   "source": [
    "tsne = manifold.TSNE(n_components=2, init='pca')\n",
    "X_r = tsne.fit_transform(X)"
   ]
  },
  {
   "cell_type": "code",
   "execution_count": 206,
   "metadata": {},
   "outputs": [
    {
     "data": {
      "text/plain": [
       "<matplotlib.legend.Legend at 0x11a63c7f0>"
      ]
     },
     "execution_count": 206,
     "metadata": {},
     "output_type": "execute_result"
    },
    {
     "data": {
      "image/png": "[encoded data removed]",
      "text/plain": [
       "<Figure size 432x288 with 1 Axes>"
      ]
     },
     "metadata": {},
     "output_type": "display_data"
    }
   ],
   "source": [
    "plt.figure()\n",
    "for color, i, name in zip(colors, range(6), label_names):\n",
    "    plt.scatter(X_r[Y == i, 0], X_r[Y == i, 1], color=color, alpha=.8, label=name)\n",
    "plt.legend(loc='best', shadow=False, scatterpoints=1)"
   ]
  },
  {
   "cell_type": "code",
   "execution_count": null,
   "metadata": {},
   "outputs": [],
   "source": []
  },
  {
   "cell_type": "code",
   "execution_count": null,
   "metadata": {},
   "outputs": [],
   "source": []
  },
  {
   "cell_type": "code",
   "execution_count": null,
   "metadata": {},
   "outputs": [],
   "source": []
  },
  {
   "cell_type": "markdown",
   "metadata": {},
   "source": [
    "## Storks, without featurization nor normalization"
   ]
  },
  {
   "cell_type": "code",
   "execution_count": 106,
   "metadata": {},
   "outputs": [],
   "source": [
    "data = pd.read_csv('./storks_obs_train.csv', header=None)\n",
    "\n",
    "X = data.drop(columns=120)\n",
    "Y = data[120]\n",
    "\n",
    "le = preprocessing.LabelEncoder()\n",
    "le.fit(Y.unique())\n",
    "Y = le.transform(Y)\n",
    "\n",
    "train_x, test_x, train_y, test_y = train_test_split(X, Y, test_size=0.2)"
   ]
  },
  {
   "cell_type": "code",
   "execution_count": 107,
   "metadata": {},
   "outputs": [
    {
     "data": {
      "text/plain": [
       "0.8657142857142858"
      ]
     },
     "execution_count": 107,
     "metadata": {},
     "output_type": "execute_result"
    }
   ],
   "source": [
    "from sklearn.ensemble import RandomForestClassifier\n",
    "clf = RandomForestClassifier(n_estimators=20)\n",
    "clf = clf.fit(train_x, train_y)\n",
    "pred = clf.predict(test_x)\n",
    "accuracy_score(test_y, pred)"
   ]
  },
  {
   "cell_type": "code",
   "execution_count": 108,
   "metadata": {},
   "outputs": [
    {
     "data": {
      "text/plain": [
       "0.84"
      ]
     },
     "execution_count": 108,
     "metadata": {},
     "output_type": "execute_result"
    }
   ],
   "source": [
    "from sklearn.svm import SVC\n",
    "clf = SVC(C=0.4)\n",
    "clf = clf.fit(train_x, train_y)\n",
    "pred = clf.predict(test_x)\n",
    "accuracy_score(test_y, pred)"
   ]
  },
  {
   "cell_type": "code",
   "execution_count": 115,
   "metadata": {},
   "outputs": [
    {
     "data": {
      "text/plain": [
       "0.6685714285714286"
      ]
     },
     "execution_count": 115,
     "metadata": {},
     "output_type": "execute_result"
    }
   ],
   "source": [
    "from sklearn.discriminant_analysis import LinearDiscriminantAnalysis\n",
    "clf = LinearDiscriminantAnalysis()\n",
    "clf = clf.fit(train_x, train_y)\n",
    "pred = clf.predict(test_x)\n",
    "accuracy_score(test_y, pred)"
   ]
  },
  {
   "cell_type": "code",
   "execution_count": 123,
   "metadata": {},
   "outputs": [
    {
     "data": {
      "text/plain": [
       "0.6457142857142857"
      ]
     },
     "execution_count": 123,
     "metadata": {},
     "output_type": "execute_result"
    }
   ],
   "source": [
    "from sklearn.neighbors import KNeighborsClassifier\n",
    "clf = KNeighborsClassifier(8)\n",
    "clf = clf.fit(train_x, train_y)\n",
    "pred = clf.predict(test_x)\n",
    "accuracy_score(test_y, pred)"
   ]
  },
  {
   "cell_type": "code",
   "execution_count": 124,
   "metadata": {},
   "outputs": [
    {
     "data": {
      "text/plain": [
       "0.7714285714285715"
      ]
     },
     "execution_count": 124,
     "metadata": {},
     "output_type": "execute_result"
    }
   ],
   "source": [
    "from sklearn import tree\n",
    "clf = tree.DecisionTreeClassifier()\n",
    "clf = clf.fit(train_x, train_y)\n",
    "pred = clf.predict(test_x)\n",
    "accuracy_score(test_y, pred)"
   ]
  },
  {
   "cell_type": "code",
   "execution_count": 125,
   "metadata": {},
   "outputs": [
    {
     "data": {
      "text/plain": [
       "0.7828571428571428"
      ]
     },
     "execution_count": 125,
     "metadata": {},
     "output_type": "execute_result"
    }
   ],
   "source": [
    "from sklearn.neural_network import MLPClassifier\n",
    "clf = MLPClassifier(solver='adam', activation='tanh')\n",
    "clf = clf.fit(train_x, train_y)\n",
    "pred = clf.predict(test_x)\n",
    "accuracy_score(test_y, pred)"
   ]
  },
  {
   "cell_type": "markdown",
   "metadata": {},
   "source": [
    "## Storks, without featurization, with normalization"
   ]
  },
  {
   "cell_type": "code",
   "execution_count": 133,
   "metadata": {},
   "outputs": [],
   "source": [
    "data = pd.read_csv('./storks_obs_train.csv', header=None)\n",
    "\n",
    "X = np.array(data.drop(columns=120))\n",
    "Y = np.array(data[120])\n",
    "\n",
    "X = X / X.max(axis=0)\n",
    "le = preprocessing.LabelEncoder()\n",
    "le.fit(np.unique(Y))\n",
    "Y = le.transform(Y)\n",
    "\n",
    "train_x, test_x, train_y, test_y = train_test_split(X, Y, test_size=0.1)"
   ]
  },
  {
   "cell_type": "code",
   "execution_count": 134,
   "metadata": {},
   "outputs": [
    {
     "data": {
      "text/plain": [
       "0.8571428571428571"
      ]
     },
     "execution_count": 134,
     "metadata": {},
     "output_type": "execute_result"
    }
   ],
   "source": [
    "from sklearn.ensemble import RandomForestClassifier\n",
    "clf = RandomForestClassifier(n_estimators=20)\n",
    "clf = clf.fit(train_x, train_y)\n",
    "pred = clf.predict(test_x)\n",
    "accuracy_score(test_y, pred)"
   ]
  },
  {
   "cell_type": "code",
   "execution_count": 137,
   "metadata": {},
   "outputs": [
    {
     "data": {
      "text/plain": [
       "0.5885714285714285"
      ]
     },
     "execution_count": 137,
     "metadata": {},
     "output_type": "execute_result"
    }
   ],
   "source": [
    "from sklearn.svm import SVC\n",
    "clf = SVC(C=0.4)\n",
    "clf = clf.fit(train_x, train_y)\n",
    "pred = clf.predict(test_x)\n",
    "accuracy_score(test_y, pred)"
   ]
  },
  {
   "cell_type": "code",
   "execution_count": 139,
   "metadata": {},
   "outputs": [
    {
     "data": {
      "text/plain": [
       "0.6342857142857142"
      ]
     },
     "execution_count": 139,
     "metadata": {},
     "output_type": "execute_result"
    }
   ],
   "source": [
    "from sklearn.discriminant_analysis import LinearDiscriminantAnalysis\n",
    "clf = LinearDiscriminantAnalysis()\n",
    "clf = clf.fit(train_x, train_y)\n",
    "pred = clf.predict(test_x)\n",
    "accuracy_score(test_y, pred)"
   ]
  },
  {
   "cell_type": "code",
   "execution_count": 142,
   "metadata": {},
   "outputs": [
    {
     "data": {
      "text/plain": [
       "0.6171428571428571"
      ]
     },
     "execution_count": 142,
     "metadata": {},
     "output_type": "execute_result"
    }
   ],
   "source": [
    "from sklearn.neighbors import KNeighborsClassifier\n",
    "clf = KNeighborsClassifier(8)\n",
    "clf = clf.fit(train_x, train_y)\n",
    "pred = clf.predict(test_x)\n",
    "accuracy_score(test_y, pred)"
   ]
  },
  {
   "cell_type": "code",
   "execution_count": 144,
   "metadata": {},
   "outputs": [
    {
     "data": {
      "text/plain": [
       "0.7428571428571429"
      ]
     },
     "execution_count": 144,
     "metadata": {},
     "output_type": "execute_result"
    }
   ],
   "source": [
    "from sklearn import tree\n",
    "clf = tree.DecisionTreeClassifier()\n",
    "clf = clf.fit(train_x, train_y)\n",
    "pred = clf.predict(test_x)\n",
    "accuracy_score(test_y, pred)"
   ]
  },
  {
   "cell_type": "code",
   "execution_count": 147,
   "metadata": {},
   "outputs": [
    {
     "name": "stderr",
     "output_type": "stream",
     "text": [
      "/Users/ranranking/miniconda3/lib/python3.6/site-packages/sklearn/neural_network/multilayer_perceptron.py:564: ConvergenceWarning: Stochastic Optimizer: Maximum iterations (200) reached and the optimization hasn't converged yet.\n",
      "  % self.max_iter, ConvergenceWarning)\n"
     ]
    },
    {
     "data": {
      "text/plain": [
       "0.7371428571428571"
      ]
     },
     "execution_count": 147,
     "metadata": {},
     "output_type": "execute_result"
    }
   ],
   "source": [
    "from sklearn.neural_network import MLPClassifier\n",
    "clf = MLPClassifier(solver='adam', activation='tanh')\n",
    "clf = clf.fit(train_x, train_y)\n",
    "pred = clf.predict(test_x)\n",
    "accuracy_score(test_y, pred)"
   ]
  },
  {
   "cell_type": "markdown",
   "metadata": {},
   "source": [
    "## Storks, with featurization"
   ]
  },
  {
   "cell_type": "code",
   "execution_count": 126,
   "metadata": {},
   "outputs": [],
   "source": [
    "raw = pd.read_csv('./storks_obs_train.csv', header=None)\n",
    "\n",
    "X = []\n",
    "Y = []\n",
    "\n",
    "for i in range(len(raw)):\n",
    "    \n",
    "    row = np.array(raw.loc[i][~raw.loc[i].isnull()])\n",
    "    data = row[0:-1].astype(float)\n",
    "    label = row[-1]\n",
    "    \n",
    "    X.append(sum_stats(data))\n",
    "    Y.append(label)\n",
    "\n",
    "X = np.array(X)\n",
    "Y = np.array(Y)\n",
    "\n",
    "X = X / X.max(axis=0)\n",
    "le = preprocessing.LabelEncoder()\n",
    "le.fit(np.unique(Y))\n",
    "Y = le.transform(Y)\n",
    "\n",
    "train_x, test_x, train_y, test_y = train_test_split(X, Y, test_size=0.1)"
   ]
  },
  {
   "cell_type": "code",
   "execution_count": 127,
   "metadata": {},
   "outputs": [
    {
     "data": {
      "text/plain": [
       "0.9085714285714286"
      ]
     },
     "execution_count": 127,
     "metadata": {},
     "output_type": "execute_result"
    }
   ],
   "source": [
    "from sklearn.ensemble import RandomForestClassifier\n",
    "clf = RandomForestClassifier(n_estimators=20)\n",
    "clf = clf.fit(train_x, train_y)\n",
    "pred = clf.predict(test_x)\n",
    "accuracy_score(test_y, pred)"
   ]
  },
  {
   "cell_type": "code",
   "execution_count": 128,
   "metadata": {},
   "outputs": [
    {
     "data": {
      "text/plain": [
       "0.8228571428571428"
      ]
     },
     "execution_count": 128,
     "metadata": {},
     "output_type": "execute_result"
    }
   ],
   "source": [
    "from sklearn.svm import SVC\n",
    "clf = SVC(C=0.4)\n",
    "clf = clf.fit(train_x, train_y)\n",
    "pred = clf.predict(test_x)\n",
    "accuracy_score(test_y, pred)"
   ]
  },
  {
   "cell_type": "code",
   "execution_count": 129,
   "metadata": {},
   "outputs": [
    {
     "name": "stderr",
     "output_type": "stream",
     "text": [
      "/Users/ranranking/miniconda3/lib/python3.6/site-packages/sklearn/discriminant_analysis.py:442: UserWarning: The priors do not sum to 1. Renormalizing\n",
      "  UserWarning)\n",
      "/Users/ranranking/miniconda3/lib/python3.6/site-packages/sklearn/discriminant_analysis.py:388: UserWarning: Variables are collinear.\n",
      "  warnings.warn(\"Variables are collinear.\")\n"
     ]
    },
    {
     "data": {
      "text/plain": [
       "0.8571428571428571"
      ]
     },
     "execution_count": 129,
     "metadata": {},
     "output_type": "execute_result"
    }
   ],
   "source": [
    "from sklearn.discriminant_analysis import LinearDiscriminantAnalysis\n",
    "clf = LinearDiscriminantAnalysis()\n",
    "clf = clf.fit(train_x, train_y)\n",
    "pred = clf.predict(test_x)\n",
    "accuracy_score(test_y, pred)"
   ]
  },
  {
   "cell_type": "code",
   "execution_count": 130,
   "metadata": {},
   "outputs": [
    {
     "data": {
      "text/plain": [
       "0.88"
      ]
     },
     "execution_count": 130,
     "metadata": {},
     "output_type": "execute_result"
    }
   ],
   "source": [
    "from sklearn.neighbors import KNeighborsClassifier\n",
    "clf = KNeighborsClassifier(8)\n",
    "clf = clf.fit(train_x, train_y)\n",
    "pred = clf.predict(test_x)\n",
    "accuracy_score(test_y, pred)"
   ]
  },
  {
   "cell_type": "code",
   "execution_count": 131,
   "metadata": {},
   "outputs": [
    {
     "data": {
      "text/plain": [
       "0.8742857142857143"
      ]
     },
     "execution_count": 131,
     "metadata": {},
     "output_type": "execute_result"
    }
   ],
   "source": [
    "from sklearn import tree\n",
    "clf = tree.DecisionTreeClassifier()\n",
    "clf = clf.fit(train_x, train_y)\n",
    "pred = clf.predict(test_x)\n",
    "accuracy_score(test_y, pred)"
   ]
  },
  {
   "cell_type": "code",
   "execution_count": 132,
   "metadata": {},
   "outputs": [
    {
     "data": {
      "text/plain": [
       "0.8971428571428571"
      ]
     },
     "execution_count": 132,
     "metadata": {},
     "output_type": "execute_result"
    }
   ],
   "source": [
    "from sklearn.neural_network import MLPClassifier\n",
    "clf = MLPClassifier(solver='adam', activation='tanh')\n",
    "clf = clf.fit(train_x, train_y)\n",
    "pred = clf.predict(test_x)\n",
    "accuracy_score(test_y, pred)"
   ]
  },
  {
   "cell_type": "code",
   "execution_count": null,
   "metadata": {},
   "outputs": [],
   "source": []
  }
 ],
 "metadata": {
  "kernelspec": {
   "display_name": "Python 3",
   "language": "python",
   "name": "python3"
  },
  "language_info": {
   "codemirror_mode": {
    "name": "ipython",
    "version": 3
   },
   "file_extension": ".py",
   "mimetype": "text/x-python",
   "name": "python",
   "nbconvert_exporter": "python",
   "pygments_lexer": "ipython3",
   "version": "3.6.3"
  }
 },
 "nbformat": 4,
 "nbformat_minor": 2
}
