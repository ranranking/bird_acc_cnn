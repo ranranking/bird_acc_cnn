{
 "cells": [
  {
   "cell_type": "markdown",
   "metadata": {},
   "source": [
    "# Vulture class_aware"
   ]
  },
  {
   "cell_type": "code",
   "execution_count": 1,
   "metadata": {},
   "outputs": [],
   "source": [
    "from utils import *\n",
    "\n",
    "import os\n",
    "\n",
    "import torch\n",
    "import torch.nn as nn\n",
    "import torch.utils.data\n",
    "import torch.nn.functional as F\n",
    "import torch.optim as optim\n",
    "from torch.optim import lr_scheduler\n",
    "\n",
    "import pandas as pd\n",
    "import numpy as np\n",
    "\n",
    "from sklearn import preprocessing\n",
    "# from sklearn.model_selection import train_test_split"
   ]
  },
  {
   "cell_type": "code",
   "execution_count": 2,
   "metadata": {},
   "outputs": [],
   "source": [
    "device = torch.device('cuda:0' if torch.cuda.is_available() else 'cpu')"
   ]
  },
  {
   "cell_type": "code",
   "execution_count": 47,
   "metadata": {},
   "outputs": [],
   "source": [
    "# Misc\n",
    "LOG_DIR = './log_pt/'\n",
    "\n",
    "# Training Parameters\n",
    "test_split = 0.1\n",
    "learning_rate = 0.01\n",
    "num_epochs = 200\n",
    "batch_size = 256\n",
    "display_step = 100\n",
    "\n",
    "# Network Parameters\n",
    "num_classes = 6\n",
    "keep_rate = 1\n",
    "\n",
    "repeat_size = 82\n",
    "crop_size = 80\n",
    "perm_num = 5\n",
    "channel_swap = True"
   ]
  },
  {
   "cell_type": "code",
   "execution_count": 4,
   "metadata": {},
   "outputs": [],
   "source": [
    "raw = pd.read_csv('./vultures.csv', header=None)"
   ]
  },
  {
   "cell_type": "code",
   "execution_count": 5,
   "metadata": {},
   "outputs": [],
   "source": [
    "class acc_dataset (torch.utils.data.Dataset):\n",
    "    \n",
    "    def __init__ (self, X, Y, mean):\n",
    "        super().__init__()\n",
    "        self.X = X\n",
    "        self.Y = Y.astype(np.float)\n",
    "        self.mean = mean\n",
    "        \n",
    "    def __len__ (self):\n",
    "        return len(self.X)\n",
    "    \n",
    "    def __getitem__ (self, idx):\n",
    "        \n",
    "        x = self.X[idx]\n",
    "        y = self.Y[idx]\n",
    "        \n",
    "        x = (x - self.mean).transpose(1, 0)\n",
    "            \n",
    "        return torch.tensor(x), torch.tensor(y).type(torch.LongTensor)"
   ]
  },
  {
   "cell_type": "code",
   "execution_count": 6,
   "metadata": {},
   "outputs": [],
   "source": [
    "mean = np.array([0. for i in  range(3)])\n",
    "X = []\n",
    "Y = []\n",
    "\n",
    "for i in range(len(raw)):\n",
    "    \n",
    "    row = np.array(raw.loc[i][~raw.loc[i].isnull()])\n",
    "    data = row[0:-1].astype(float)\n",
    "    label = row[-1]\n",
    "    \n",
    "    x_axis = data[0::3]\n",
    "    y_axis = data[1::3]\n",
    "    z_axis = data[2::3]\n",
    "    \n",
    "    x_axis = repeat_crop_data (x_axis, repeat_size)\n",
    "    y_axis = repeat_crop_data (y_axis, repeat_size)\n",
    "    z_axis = repeat_crop_data (z_axis, repeat_size)\n",
    "    \n",
    "    mean[0] += x_axis.mean()\n",
    "    mean[1] += y_axis.mean()\n",
    "    mean[2] += z_axis.mean()\n",
    "    \n",
    "    X.append(np.stack((x_axis, y_axis, z_axis)))\n",
    "    Y.append(label)\n",
    "\n",
    "mean = mean/len(raw)\n",
    "    \n",
    "X = np.array(X).transpose((0, 2, 1))\n",
    "Y = np.array(Y)\n",
    "label_names = np.unique(Y)\n",
    "\n",
    "le = preprocessing.LabelEncoder()\n",
    "le.fit(np.unique(Y))\n",
    "Y = le.transform(Y)"
   ]
  },
  {
   "cell_type": "code",
   "execution_count": 7,
   "metadata": {},
   "outputs": [],
   "source": [
    "def train_test_split(X, Y, split_rate):\n",
    "    \n",
    "    train_idx_overall = np.array([])\n",
    "    test_idx_overall = np.array([])\n",
    "\n",
    "    for l in np.unique(Y):\n",
    "\n",
    "        idx = np.where(Y == l)[0]\n",
    "\n",
    "        test_size = int(len(idx) * split_rate)\n",
    "\n",
    "        test_choice = np.random.choice(len(idx), size=test_size, replace=False)\n",
    "\n",
    "        train_idx = np.delete(idx, test_choice)\n",
    "\n",
    "        test_idx = idx[test_choice]\n",
    "        \n",
    "        train_idx_overall = np.append(train_idx_overall, train_idx)\n",
    "        \n",
    "        test_idx_overall = np.append(test_idx_overall, test_idx)\n",
    "        \n",
    "        \n",
    "    return (X[train_idx_overall.astype(int)], Y[train_idx_overall.astype(int)],\n",
    "            X[test_idx_overall.astype(int)], Y[test_idx_overall.astype(int)],\n",
    "            train_idx_overall, test_idx_overall)\n",
    "    \n",
    "\n",
    "train_x, train_y, test_x, test_y, train_idx, test_idx= train_test_split(X, Y, test_split)"
   ]
  },
  {
   "cell_type": "code",
   "execution_count": 33,
   "metadata": {},
   "outputs": [],
   "source": [
    "train_x = np.load('./vulture_train_x.npy')\n",
    "train_y = np.load('./vulture_train_y.npy')\n",
    "test_x = np.load('./vulture_test_x.npy')\n",
    "test_y = np.load('./vulture_test_y.npy')"
   ]
  },
  {
   "cell_type": "code",
   "execution_count": 34,
   "metadata": {},
   "outputs": [],
   "source": [
    "train_set = acc_dataset(train_x, train_y, mean)\n",
    "test_set = acc_dataset(test_x, test_y, mean)\n",
    "\n",
    "train_loader = torch.utils.data.DataLoader(train_set, batch_size=batch_size, shuffle=False, num_workers=2, \n",
    "                                           sampler=ClassAwareSampler(data_source=train_set,\n",
    "                                                                     num_classes=num_classes))\n",
    "\n",
    "# train_loader = torch.utils.data.DataLoader(train_set, batch_size=batch_size, shuffle=True, num_workers=2)\n",
    "\n",
    "test_loader = torch.utils.data.DataLoader(test_set, batch_size=batch_size, shuffle=True, num_workers=2)"
   ]
  },
  {
   "cell_type": "code",
   "execution_count": 35,
   "metadata": {},
   "outputs": [],
   "source": [
    "class MyNet (nn.Module):\n",
    "    \n",
    "    def __init__ (self, num_classes, input_dim, drop_rate):\n",
    "        super().__init__()\n",
    "        \n",
    "        self.input_dim = input_dim\n",
    "        \n",
    "        self.conv1 = nn.Conv1d(in_channels=3, out_channels=32, kernel_size=3, padding=1)\n",
    "        self.conv2 = nn.Conv1d(in_channels=32, out_channels=64, kernel_size=3, padding=1)\n",
    "        self.fc3 = nn.Linear(self.input_dim*64, 1024)\n",
    "        self.drop = nn.Dropout(p=drop_rate)\n",
    "        self.fc4 = nn.Linear(1024, num_classes)\n",
    "        \n",
    "    def forward(self, x):\n",
    "        x = F.relu(self.conv1(x))\n",
    "        x = F.relu(self.conv2(x))\n",
    "\n",
    "        #self.pretrained_resnet.avgpool(x)\n",
    "        x = x.view(-1, self.input_dim*64)\n",
    "        \n",
    "        x = F.relu(self.fc3(x))\n",
    "        x = self.drop(x)\n",
    "        x = self.fc4(x)\n",
    "\n",
    "        return x"
   ]
  },
  {
   "cell_type": "code",
   "execution_count": 48,
   "metadata": {},
   "outputs": [
    {
     "data": {
      "text/plain": [
       "MyNet(\n",
       "  (conv1): Conv1d(3, 32, kernel_size=(3,), stride=(1,), padding=(1,))\n",
       "  (conv2): Conv1d(32, 64, kernel_size=(3,), stride=(1,), padding=(1,))\n",
       "  (fc3): Linear(in_features=5248, out_features=1024, bias=True)\n",
       "  (drop): Dropout(p=0.5)\n",
       "  (fc4): Linear(in_features=1024, out_features=6, bias=True)\n",
       ")"
      ]
     },
     "execution_count": 48,
     "metadata": {},
     "output_type": "execute_result"
    }
   ],
   "source": [
    "net = MyNet(num_classes=num_classes, input_dim=repeat_size, drop_rate=0.5).double()\n",
    "net.to(device)"
   ]
  },
  {
   "cell_type": "code",
   "execution_count": 49,
   "metadata": {},
   "outputs": [],
   "source": [
    "# Loss function\n",
    "loss_function = nn.CrossEntropyLoss()\n",
    "\n",
    "# Optimizer\n",
    "optimizer = optim.SGD(net.parameters(), lr=learning_rate, momentum=0.9)\n",
    "\n",
    "# Decay LR by a factor of 0.1 every 30 epochs\n",
    "exp_lr_scheduler = lr_scheduler.StepLR(optimizer, step_size=50, gamma=0.1)"
   ]
  },
  {
   "cell_type": "code",
   "execution_count": 50,
   "metadata": {},
   "outputs": [
    {
     "name": "stdout",
     "output_type": "stream",
     "text": [
      "Epoch: 19, Step: 100, Minibatch loss: 0.147, Minibatch accuracy: 0.945\n",
      "Epoch: 39, Step: 200, Minibatch loss: 0.115, Minibatch accuracy: 0.961\n",
      "Epoch: 59, Step: 300, Minibatch loss: 0.049, Minibatch accuracy: 0.992\n",
      "Epoch: 79, Step: 400, Minibatch loss: 0.060, Minibatch accuracy: 0.984\n",
      "Epoch: 99, Step: 500, Minibatch loss: 0.042, Minibatch accuracy: 0.992\n",
      "Epoch: 119, Step: 600, Minibatch loss: 0.068, Minibatch accuracy: 0.961\n",
      "Epoch: 139, Step: 700, Minibatch loss: 0.062, Minibatch accuracy: 0.984\n",
      "Epoch: 159, Step: 800, Minibatch loss: 0.052, Minibatch accuracy: 0.992\n",
      "Epoch: 179, Step: 900, Minibatch loss: 0.056, Minibatch accuracy: 0.969\n",
      "Epoch: 199, Step: 1000, Minibatch loss: 0.055, Minibatch accuracy: 0.984\n",
      "Final, Step: 1000, Minibatch loss: 0.055, Minibatch accuracy: 0.984\n"
     ]
    }
   ],
   "source": [
    "step = 0\n",
    "\n",
    "net.train()\n",
    "\n",
    "for epoch in range(num_epochs):\n",
    "    \n",
    "    exp_lr_scheduler.step()\n",
    "    \n",
    "    for data in train_loader:\n",
    "        \n",
    "        x, y = data\n",
    "        \n",
    "        x, y = x.to(device), y.to(device)\n",
    "        \n",
    "        optimizer.zero_grad()\n",
    "        \n",
    "        logits = net(x)\n",
    "        \n",
    "        loss = loss_function(logits, y)\n",
    "        \n",
    "        loss.backward()\n",
    "        \n",
    "        optimizer.step()\n",
    "        \n",
    "        step += 1\n",
    "        \n",
    "        _, preds = torch.max(logits, 1)\n",
    "        \n",
    "        correct = (preds == y).sum().item()\n",
    "        \n",
    "        accuracy = correct/len(x)\n",
    "        \n",
    "        if step % display_step == 0:\n",
    "            print('Epoch: %d, Step: %d, Minibatch loss: %.3f, Minibatch accuracy: %.3f' % \n",
    "                  (epoch, step, loss, accuracy))\n",
    "            \n",
    "print('Final, Step: %d, Minibatch loss: %.3f, Minibatch accuracy: %.3f' % \n",
    "                  (step, loss, accuracy))"
   ]
  },
  {
   "cell_type": "code",
   "execution_count": 51,
   "metadata": {},
   "outputs": [
    {
     "name": "stdout",
     "output_type": "stream",
     "text": [
      "Test accuracy: 0.891\n"
     ]
    }
   ],
   "source": [
    "net.eval()\n",
    "\n",
    "test_correct = 0\n",
    "\n",
    "with torch.no_grad():\n",
    "    \n",
    "    for data in test_loader:\n",
    "\n",
    "        x, y = data\n",
    "        \n",
    "        x, y = x.to(device), y.to(device)\n",
    "\n",
    "        test_logits = net(x)\n",
    "        _, test_preds = torch.max(test_logits, 1)\n",
    "\n",
    "        test_correct_batch = (test_preds == y).sum().item()\n",
    "\n",
    "        test_correct += test_correct_batch\n",
    "\n",
    "print('Test accuracy: %.3f' % (test_correct / len(test_set)))"
   ]
  },
  {
   "cell_type": "code",
   "execution_count": null,
   "metadata": {},
   "outputs": [],
   "source": []
  },
  {
   "cell_type": "code",
   "execution_count": null,
   "metadata": {},
   "outputs": [],
   "source": []
  },
  {
   "cell_type": "code",
   "execution_count": null,
   "metadata": {},
   "outputs": [],
   "source": []
  },
  {
   "cell_type": "code",
   "execution_count": null,
   "metadata": {},
   "outputs": [],
   "source": []
  },
  {
   "cell_type": "code",
   "execution_count": null,
   "metadata": {},
   "outputs": [],
   "source": []
  },
  {
   "cell_type": "code",
   "execution_count": null,
   "metadata": {},
   "outputs": [],
   "source": []
  },
  {
   "cell_type": "code",
   "execution_count": null,
   "metadata": {},
   "outputs": [],
   "source": []
  },
  {
   "cell_type": "code",
   "execution_count": null,
   "metadata": {},
   "outputs": [],
   "source": []
  },
  {
   "cell_type": "code",
   "execution_count": null,
   "metadata": {},
   "outputs": [],
   "source": []
  },
  {
   "cell_type": "code",
   "execution_count": 184,
   "metadata": {},
   "outputs": [],
   "source": [
    "torch.save(net.state_dict(), os.path.join(LOG_DIR, 'model_%s_checkpoint.pth.tar' \n",
    "                                          % 'vulter_plain_ep_500_step_50_SGD_acc_91'))"
   ]
  },
  {
   "cell_type": "code",
   "execution_count": null,
   "metadata": {},
   "outputs": [],
   "source": [
    "train_x, train_y, test_x, test_y"
   ]
  },
  {
   "cell_type": "code",
   "execution_count": 128,
   "metadata": {},
   "outputs": [],
   "source": [
    "np.save('./vulture_train_x.npy', train_x)\n",
    "np.save('./vulture_train_y.npy', train_y)\n",
    "np.save('./vulture_test_x.npy', test_x)\n",
    "np.save('./vulture_test_y.npy', test_y)\n",
    "np.save('./vulture_train_idx.npy', train_idx)\n",
    "np.save('./vulture_test_idx.npy', test_idx)"
   ]
  },
  {
   "cell_type": "code",
   "execution_count": 53,
   "metadata": {},
   "outputs": [],
   "source": [
    "# train_x = np.load('./vulture_train_x.npy')\n",
    "# train_y = np.load('./vulture_train_y.npy')\n",
    "# test_x = np.load('./vulture_test_x.npy')\n",
    "# test_y = np.load('./vulture_test_y.npy')"
   ]
  },
  {
   "cell_type": "code",
   "execution_count": 42,
   "metadata": {},
   "outputs": [
    {
     "data": {
      "text/plain": [
       "(442, 82, 3)"
      ]
     },
     "execution_count": 42,
     "metadata": {},
     "output_type": "execute_result"
    }
   ],
   "source": [
    "a.shape"
   ]
  }
 ],
 "metadata": {
  "kernelspec": {
   "display_name": "Python 3",
   "language": "python",
   "name": "python3"
  },
  "language_info": {
   "codemirror_mode": {
    "name": "ipython",
    "version": 3
   },
   "file_extension": ".py",
   "mimetype": "text/x-python",
   "name": "python",
   "nbconvert_exporter": "python",
   "pygments_lexer": "ipython3",
   "version": "3.6.5"
  }
 },
 "nbformat": 4,
 "nbformat_minor": 2
}
