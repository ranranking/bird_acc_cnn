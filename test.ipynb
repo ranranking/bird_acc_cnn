{
 "cells": [
  {
   "cell_type": "code",
   "execution_count": 1,
   "metadata": {},
   "outputs": [],
   "source": [
    "import pandas as pd\n",
    "import numpy as np\n",
    "import matplotlib.pyplot as plt\n",
    "%matplotlib inline"
   ]
  },
  {
   "cell_type": "code",
   "execution_count": 10,
   "metadata": {},
   "outputs": [],
   "source": [
    "from sklearn.ensemble import RandomForestClassifier\n",
    "from sklearn import preprocessing\n",
    "from sklearn.model_selection import train_test_split\n",
    "from sklearn.metrics import accuracy_score"
   ]
  },
  {
   "cell_type": "code",
   "execution_count": null,
   "metadata": {},
   "outputs": [],
   "source": []
  },
  {
   "cell_type": "code",
   "execution_count": null,
   "metadata": {},
   "outputs": [],
   "source": [
    "raw = pd"
   ]
  },
  {
   "cell_type": "code",
   "execution_count": null,
   "metadata": {},
   "outputs": [],
   "source": []
  },
  {
   "cell_type": "code",
   "execution_count": null,
   "metadata": {},
   "outputs": [],
   "source": []
  },
  {
   "cell_type": "code",
   "execution_count": null,
   "metadata": {},
   "outputs": [],
   "source": []
  },
  {
   "cell_type": "code",
   "execution_count": null,
   "metadata": {},
   "outputs": [],
   "source": []
  },
  {
   "cell_type": "code",
   "execution_count": 3,
   "metadata": {},
   "outputs": [],
   "source": [
    "data = pd.read_csv('./storks_obs_train.csv', header=None)\n",
    "\n",
    "X = data.drop(columns=120)\n",
    "Y = data[120]\n",
    "\n",
    "le = preprocessing.LabelEncoder()\n",
    "le.fit(Y.unique())\n",
    "Y = le.transform(Y)\n",
    "\n",
    "train_x, test_x, train_y, test_y = train_test_split(X, Y, test_size=0.2)"
   ]
  },
  {
   "cell_type": "code",
   "execution_count": 8,
   "metadata": {},
   "outputs": [],
   "source": [
    "clf = RandomForestClassifier(n_estimators=10)\n",
    "clf = clf.fit(train_x, train_y)"
   ]
  },
  {
   "cell_type": "code",
   "execution_count": 9,
   "metadata": {},
   "outputs": [],
   "source": [
    "pred = clf.predict(test_x)"
   ]
  },
  {
   "cell_type": "code",
   "execution_count": 11,
   "metadata": {},
   "outputs": [
    {
     "data": {
      "text/plain": [
       "0.86"
      ]
     },
     "execution_count": 11,
     "metadata": {},
     "output_type": "execute_result"
    }
   ],
   "source": [
    "accuracy_score(test_y, pred)"
   ]
  },
  {
   "cell_type": "code",
   "execution_count": null,
   "metadata": {},
   "outputs": [],
   "source": []
  },
  {
   "cell_type": "code",
   "execution_count": null,
   "metadata": {},
   "outputs": [],
   "source": []
  },
  {
   "cell_type": "code",
   "execution_count": null,
   "metadata": {},
   "outputs": [],
   "source": []
  },
  {
   "cell_type": "code",
   "execution_count": null,
   "metadata": {},
   "outputs": [],
   "source": []
  },
  {
   "cell_type": "code",
   "execution_count": null,
   "metadata": {},
   "outputs": [],
   "source": []
  },
  {
   "cell_type": "code",
   "execution_count": 54,
   "metadata": {},
   "outputs": [
    {
     "data": {
      "text/plain": [
       "<matplotlib.legend.Legend at 0x116ce3828>"
      ]
     },
     "execution_count": 54,
     "metadata": {},
     "output_type": "execute_result"
    },
    {
     "data": {
      "image/png": "[encoded data removed]",
      "text/plain": [
       "<Figure size 432x288 with 1 Axes>"
      ]
     },
     "metadata": {},
     "output_type": "display_data"
    }
   ],
   "source": [
    "acc_test = raw_data.iloc[0]['eobs:accelerations-raw']\n",
    "\n",
    "acc_test = np.fromstring(acc_test, sep=' ')\n",
    "\n",
    "acc_test = np.reshape(acc_test, (40, 3))\n",
    "\n",
    "handels = plt.plot(range(0, len(acc_test)), acc_test[:, 0], 'r-',\n",
    "                   range(0, len(acc_test)), acc_test[:, 1], 'g-',\n",
    "                   range(0, len(acc_test)), acc_test[:, 2], 'b-')\n",
    "\n",
    "plt.legend(handels, ('X', 'Y', 'Z'), loc='center left', bbox_to_anchor=(1, 0.5))"
   ]
  },
  {
   "cell_type": "code",
   "execution_count": 71,
   "metadata": {},
   "outputs": [],
   "source": [
    "fft = np.fft.fft(acc_test[:, 0])"
   ]
  },
  {
   "cell_type": "code",
   "execution_count": 72,
   "metadata": {},
   "outputs": [
    {
     "data": {
      "text/plain": [
       "array([  8.17600000e+04 +0.00000000e+00j,\n",
       "        -8.74682122e+00 +4.15712371e+01j,\n",
       "         1.84568810e+01 -7.13421520e+00j,\n",
       "        -3.85379363e+01 -2.13331814e+01j,\n",
       "        -1.84893569e+01 -3.49770889e+01j,\n",
       "        -1.00505063e-01 -1.28284271e+01j,\n",
       "        -1.35678252e+01 -1.28268590e+01j,\n",
       "        -4.94791371e+00 -4.05204349e+01j,\n",
       "         1.21352549e+01 -9.71483474e+00j,\n",
       "         1.79147816e+01 +8.80313513e+00j,\n",
       "        -1.00000000e+01 -2.80000000e+01j,\n",
       "        -1.10461138e+01 -3.41888327e+01j,\n",
       "         4.98935688e+00 -2.04414592e+01j,\n",
       "         4.11339240e+00 +2.83340841e+01j,\n",
       "         2.29153493e+01 +5.08421317e+00j,\n",
       "        -1.98994949e+01 +7.17157288e+00j,\n",
       "        -4.63525492e+00 +2.42254409e+01j,\n",
       "         4.28185650e-01 -2.01877003e+01j,\n",
       "         2.21955948e+01 -2.76084306e+01j,\n",
       "        -1.91775747e+01 +1.45632050e+01j,\n",
       "         1.20000000e+01 -1.77635684e-14j,\n",
       "        -1.91775747e+01 -1.45632050e+01j,\n",
       "         2.21955948e+01 +2.76084306e+01j,\n",
       "         4.28185650e-01 +2.01877003e+01j,\n",
       "        -4.63525492e+00 -2.42254409e+01j,\n",
       "        -1.98994949e+01 -7.17157288e+00j,\n",
       "         2.29153493e+01 -5.08421317e+00j,\n",
       "         4.11339240e+00 -2.83340841e+01j,\n",
       "         4.98935688e+00 +2.04414592e+01j,\n",
       "        -1.10461138e+01 +3.41888327e+01j,\n",
       "        -1.00000000e+01 +2.80000000e+01j,\n",
       "         1.79147816e+01 -8.80313513e+00j,\n",
       "         1.21352549e+01 +9.71483474e+00j,\n",
       "        -4.94791371e+00 +4.05204349e+01j,\n",
       "        -1.35678252e+01 +1.28268590e+01j,\n",
       "        -1.00505063e-01 +1.28284271e+01j,\n",
       "        -1.84893569e+01 +3.49770889e+01j,\n",
       "        -3.85379363e+01 +2.13331814e+01j,\n",
       "         1.84568810e+01 +7.13421520e+00j,  -8.74682122e+00 -4.15712371e+01j])"
      ]
     },
     "execution_count": 72,
     "metadata": {},
     "output_type": "execute_result"
    }
   ],
   "source": [
    "fft"
   ]
  },
  {
   "cell_type": "code",
   "execution_count": 76,
   "metadata": {},
   "outputs": [
    {
     "name": "stderr",
     "output_type": "stream",
     "text": [
      "/Users/ranranking/miniconda3/lib/python3.6/site-packages/numpy/core/numeric.py:531: ComplexWarning: Casting complex values to real discards the imaginary part\n",
      "  return array(a, dtype, copy=False, order=order)\n"
     ]
    },
    {
     "data": {
      "text/plain": [
       "[<matplotlib.lines.Line2D at 0x1172fa0f0>]"
      ]
     },
     "execution_count": 76,
     "metadata": {},
     "output_type": "execute_result"
    },
    {
     "data": {
      "image/png": "[encoded data removed]",
      "text/plain": [
       "<Figure size 432x288 with 1 Axes>"
      ]
     },
     "metadata": {},
     "output_type": "display_data"
    }
   ],
   "source": [
    "plt.plot(range(1, len(fft)), fft[1:])"
   ]
  }
 ],
 "metadata": {
  "kernelspec": {
   "display_name": "Python 3",
   "language": "python",
   "name": "python3"
  },
  "language_info": {
   "codemirror_mode": {
    "name": "ipython",
    "version": 3
   },
   "file_extension": ".py",
   "mimetype": "text/x-python",
   "name": "python",
   "nbconvert_exporter": "python",
   "pygments_lexer": "ipython3",
   "version": "3.6.3"
  }
 },
 "nbformat": 4,
 "nbformat_minor": 2
}
