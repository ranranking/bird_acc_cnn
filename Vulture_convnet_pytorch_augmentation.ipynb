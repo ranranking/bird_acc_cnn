{
 "cells": [
  {
   "cell_type": "code",
   "execution_count": 2,
   "metadata": {},
   "outputs": [],
   "source": [
    "from utils import *\n",
    "\n",
    "import os\n",
    "\n",
    "import torch\n",
    "import torch.nn as nn\n",
    "import torch.utils.data\n",
    "import torch.nn.functional as F\n",
    "import torch.optim as optim\n",
    "from torch.optim import lr_scheduler\n",
    "\n",
    "import pandas as pd\n",
    "import numpy as np\n",
    "\n",
    "from sklearn import preprocessing\n",
    "from sklearn.model_selection import train_test_split"
   ]
  },
  {
   "cell_type": "code",
   "execution_count": 3,
   "metadata": {},
   "outputs": [],
   "source": [
    "device = torch.device('cuda:0' if torch.cuda.is_available() else 'cpu')"
   ]
  },
  {
   "cell_type": "code",
   "execution_count": 205,
   "metadata": {},
   "outputs": [],
   "source": [
    "# Misc\n",
    "LOG_DIR = './log_pt/'\n",
    "\n",
    "# Training Parameters\n",
    "learning_rate = 0.001\n",
    "num_epochs = 300\n",
    "batch_size = 256\n",
    "display_step = 10\n",
    "\n",
    "# Network Parameters\n",
    "num_classes = 6\n",
    "keep_rate = 1\n",
    "\n",
    "repeat_size = 82\n",
    "crop_size = 80"
   ]
  },
  {
   "cell_type": "code",
   "execution_count": 206,
   "metadata": {},
   "outputs": [],
   "source": [
    "raw = pd.read_csv('./vultures.csv', header=None)"
   ]
  },
  {
   "cell_type": "code",
   "execution_count": 207,
   "metadata": {},
   "outputs": [],
   "source": [
    "mean = np.array([0. for i in  range(3)])\n",
    "X = []\n",
    "Y = []\n",
    "\n",
    "for i in range(len(raw)):\n",
    "    \n",
    "    row = np.array(raw.loc[i][~raw.loc[i].isnull()])\n",
    "    data = row[0:-1].astype(float)\n",
    "    label = row[-1]\n",
    "    \n",
    "    x_axis = data[0::3]\n",
    "    y_axis = data[1::3]\n",
    "    z_axis = data[2::3]\n",
    "    \n",
    "    x_axis = repeat_crop_data (x_axis, repeat_size)\n",
    "    y_axis = repeat_crop_data (y_axis, repeat_size)\n",
    "    z_axis = repeat_crop_data (z_axis, repeat_size)\n",
    "    \n",
    "    mean[0] += x_axis.mean()\n",
    "    mean[1] += y_axis.mean()\n",
    "    mean[2] += z_axis.mean()\n",
    "    \n",
    "    X.append(np.stack((x_axis, y_axis, z_axis)))\n",
    "    Y.append(label)\n",
    "\n",
    "mean = mean/len(raw)\n",
    "    \n",
    "X = np.array(X).transpose((0, 2, 1))\n",
    "Y = np.array(Y)\n",
    "label_names = np.unique(Y)\n",
    "\n",
    "le = preprocessing.LabelEncoder()\n",
    "le.fit(np.unique(Y))\n",
    "Y = le.transform(Y)"
   ]
  },
  {
   "cell_type": "code",
   "execution_count": 208,
   "metadata": {},
   "outputs": [],
   "source": [
    "train_x, test_x, train_y, test_y = train_test_split(X, Y, test_size=0.1)"
   ]
  },
  {
   "cell_type": "code",
   "execution_count": 209,
   "metadata": {},
   "outputs": [],
   "source": [
    "class acc_dataset_augment (torch.utils.data.Dataset):\n",
    "    \n",
    "    def __init__ (self, X, Y, mean, input_size, crop_size):\n",
    "        super().__init__()\n",
    "        self.X = X\n",
    "        self.Y = Y.astype(np.float)\n",
    "        self.mean = mean\n",
    "        self.input_size = input_size\n",
    "        self.crop_size = crop_size\n",
    "        \n",
    "    def __len__ (self):\n",
    "        return len(self.X)\n",
    "    \n",
    "    def __getitem__ (self, idx):\n",
    "        \n",
    "        x = self.X[idx]\n",
    "        y = self.Y[idx]\n",
    "        \n",
    "        x = (x - self.mean).transpose(1, 0)\n",
    "        \n",
    "        start_idx = np.random.randint(self.input_size - self.crop_size, size=1).item()\n",
    "        \n",
    "        x_axis = x[0, start_idx:start_idx+self.crop_size]\n",
    "        y_axis = x[1, start_idx:start_idx+self.crop_size]\n",
    "        z_axis = x[2, start_idx:start_idx+self.crop_size]\n",
    "        \n",
    "        x = np.stack((x_axis, y_axis, z_axis))\n",
    "            \n",
    "        return torch.tensor(x), torch.tensor(y).type(torch.LongTensor)"
   ]
  },
  {
   "cell_type": "code",
   "execution_count": 210,
   "metadata": {},
   "outputs": [],
   "source": [
    "train_set = acc_dataset_augment(train_x, train_y, mean, input_size=repeat_size, crop_size=crop_size)\n",
    "test_set = acc_dataset_augment(test_x, test_y, mean, input_size=repeat_size, crop_size=crop_size)"
   ]
  },
  {
   "cell_type": "code",
   "execution_count": 211,
   "metadata": {},
   "outputs": [],
   "source": [
    "train_loader = torch.utils.data.DataLoader(train_set, batch_size=batch_size, shuffle=True, num_workers=2)\n",
    "test_loader = torch.utils.data.DataLoader(test_set, batch_size=batch_size, shuffle=True, num_workers=2)"
   ]
  },
  {
   "cell_type": "code",
   "execution_count": 212,
   "metadata": {},
   "outputs": [],
   "source": [
    "class MyNet (nn.Module):\n",
    "    \n",
    "    def __init__ (self, num_classes, input_dim, drop_rate):\n",
    "        super().__init__()\n",
    "        \n",
    "        self.input_dim = input_dim\n",
    "        \n",
    "        self.conv1 = nn.Conv1d(in_channels=3, out_channels=32, kernel_size=3, padding=1)\n",
    "        self.conv2 = nn.Conv1d(in_channels=32, out_channels=64, kernel_size=3, padding=1)\n",
    "        self.fc3 = nn.Linear(self.input_dim*64, 1024)\n",
    "        self.drop = nn.Dropout(p=drop_rate)\n",
    "        self.fc4 = nn.Linear(1024, num_classes)\n",
    "        \n",
    "    def forward(self, x):\n",
    "        x = F.relu(self.conv1(x))\n",
    "        x = F.relu(self.conv2(x))\n",
    "\n",
    "        #self.pretrained_resnet.avgpool(x)\n",
    "        x = x.view(-1, self.input_dim*64)\n",
    "        \n",
    "        x = F.relu(self.fc3(x))\n",
    "        x = self.drop(x)\n",
    "        x = self.fc4(x)\n",
    "\n",
    "        return x"
   ]
  },
  {
   "cell_type": "code",
   "execution_count": 213,
   "metadata": {},
   "outputs": [],
   "source": [
    "net = MyNet(num_classes=num_classes, input_dim=crop_size, drop_rate=0.3).double()"
   ]
  },
  {
   "cell_type": "code",
   "execution_count": 214,
   "metadata": {},
   "outputs": [
    {
     "data": {
      "text/plain": [
       "MyNet(\n",
       "  (conv1): Conv1d(3, 32, kernel_size=(3,), stride=(1,), padding=(1,))\n",
       "  (conv2): Conv1d(32, 64, kernel_size=(3,), stride=(1,), padding=(1,))\n",
       "  (fc3): Linear(in_features=5120, out_features=1024, bias=True)\n",
       "  (drop): Dropout(p=0.3)\n",
       "  (fc4): Linear(in_features=1024, out_features=6, bias=True)\n",
       ")"
      ]
     },
     "execution_count": 214,
     "metadata": {},
     "output_type": "execute_result"
    }
   ],
   "source": [
    "net.to(device)"
   ]
  },
  {
   "cell_type": "code",
   "execution_count": 216,
   "metadata": {},
   "outputs": [],
   "source": [
    "# Loss function\n",
    "loss_function = nn.CrossEntropyLoss()\n",
    "\n",
    "# Optimizer\n",
    "optimizer = optim.Adam(net.parameters(), lr=learning_rate)\n",
    "\n",
    "# Decay LR by a factor of 0.1 every 30 epochs\n",
    "exp_lr_scheduler = lr_scheduler.StepLR(optimizer, step_size=30, gamma=0.1)"
   ]
  },
  {
   "cell_type": "code",
   "execution_count": 217,
   "metadata": {},
   "outputs": [
    {
     "name": "stdout",
     "output_type": "stream",
     "text": [
      "Epoch: 4, Step: 10, Minibatch loss: 0.995, Minibatch accuracy: 0.661\n",
      "Epoch: 9, Step: 20, Minibatch loss: 0.821, Minibatch accuracy: 0.694\n",
      "Epoch: 14, Step: 30, Minibatch loss: 0.569, Minibatch accuracy: 0.809\n",
      "Epoch: 19, Step: 40, Minibatch loss: 0.420, Minibatch accuracy: 0.836\n",
      "Epoch: 24, Step: 50, Minibatch loss: 0.275, Minibatch accuracy: 0.929\n",
      "Epoch: 29, Step: 60, Minibatch loss: 0.204, Minibatch accuracy: 0.951\n",
      "Epoch: 34, Step: 70, Minibatch loss: 0.236, Minibatch accuracy: 0.934\n",
      "Epoch: 39, Step: 80, Minibatch loss: 0.148, Minibatch accuracy: 0.967\n",
      "Epoch: 44, Step: 90, Minibatch loss: 0.180, Minibatch accuracy: 0.934\n",
      "Epoch: 49, Step: 100, Minibatch loss: 0.207, Minibatch accuracy: 0.940\n",
      "Epoch: 54, Step: 110, Minibatch loss: 0.161, Minibatch accuracy: 0.951\n",
      "Epoch: 59, Step: 120, Minibatch loss: 0.150, Minibatch accuracy: 0.967\n",
      "Epoch: 64, Step: 130, Minibatch loss: 0.155, Minibatch accuracy: 0.962\n",
      "Epoch: 69, Step: 140, Minibatch loss: 0.105, Minibatch accuracy: 0.978\n",
      "Epoch: 74, Step: 150, Minibatch loss: 0.165, Minibatch accuracy: 0.940\n",
      "Epoch: 79, Step: 160, Minibatch loss: 0.163, Minibatch accuracy: 0.967\n",
      "Epoch: 84, Step: 170, Minibatch loss: 0.159, Minibatch accuracy: 0.956\n",
      "Epoch: 89, Step: 180, Minibatch loss: 0.136, Minibatch accuracy: 0.956\n",
      "Epoch: 94, Step: 190, Minibatch loss: 0.152, Minibatch accuracy: 0.956\n",
      "Epoch: 99, Step: 200, Minibatch loss: 0.162, Minibatch accuracy: 0.940\n",
      "Epoch: 104, Step: 210, Minibatch loss: 0.155, Minibatch accuracy: 0.962\n",
      "Epoch: 109, Step: 220, Minibatch loss: 0.119, Minibatch accuracy: 0.962\n",
      "Epoch: 114, Step: 230, Minibatch loss: 0.136, Minibatch accuracy: 0.967\n",
      "Epoch: 119, Step: 240, Minibatch loss: 0.183, Minibatch accuracy: 0.945\n",
      "Epoch: 124, Step: 250, Minibatch loss: 0.114, Minibatch accuracy: 0.962\n",
      "Epoch: 129, Step: 260, Minibatch loss: 0.159, Minibatch accuracy: 0.956\n",
      "Epoch: 134, Step: 270, Minibatch loss: 0.161, Minibatch accuracy: 0.962\n",
      "Epoch: 139, Step: 280, Minibatch loss: 0.175, Minibatch accuracy: 0.951\n",
      "Epoch: 144, Step: 290, Minibatch loss: 0.118, Minibatch accuracy: 0.962\n",
      "Epoch: 149, Step: 300, Minibatch loss: 0.119, Minibatch accuracy: 0.978\n",
      "Epoch: 154, Step: 310, Minibatch loss: 0.184, Minibatch accuracy: 0.962\n",
      "Epoch: 159, Step: 320, Minibatch loss: 0.093, Minibatch accuracy: 0.978\n",
      "Epoch: 164, Step: 330, Minibatch loss: 0.195, Minibatch accuracy: 0.945\n",
      "Epoch: 169, Step: 340, Minibatch loss: 0.147, Minibatch accuracy: 0.962\n",
      "Epoch: 174, Step: 350, Minibatch loss: 0.195, Minibatch accuracy: 0.945\n",
      "Epoch: 179, Step: 360, Minibatch loss: 0.111, Minibatch accuracy: 0.984\n",
      "Epoch: 184, Step: 370, Minibatch loss: 0.161, Minibatch accuracy: 0.956\n",
      "Epoch: 189, Step: 380, Minibatch loss: 0.149, Minibatch accuracy: 0.962\n",
      "Epoch: 194, Step: 390, Minibatch loss: 0.115, Minibatch accuracy: 0.967\n",
      "Epoch: 199, Step: 400, Minibatch loss: 0.116, Minibatch accuracy: 0.978\n",
      "Epoch: 204, Step: 410, Minibatch loss: 0.144, Minibatch accuracy: 0.962\n",
      "Epoch: 209, Step: 420, Minibatch loss: 0.139, Minibatch accuracy: 0.951\n",
      "Epoch: 214, Step: 430, Minibatch loss: 0.147, Minibatch accuracy: 0.956\n",
      "Epoch: 219, Step: 440, Minibatch loss: 0.158, Minibatch accuracy: 0.945\n",
      "Epoch: 224, Step: 450, Minibatch loss: 0.124, Minibatch accuracy: 0.973\n",
      "Epoch: 229, Step: 460, Minibatch loss: 0.163, Minibatch accuracy: 0.945\n",
      "Epoch: 234, Step: 470, Minibatch loss: 0.138, Minibatch accuracy: 0.951\n",
      "Epoch: 239, Step: 480, Minibatch loss: 0.147, Minibatch accuracy: 0.967\n",
      "Epoch: 244, Step: 490, Minibatch loss: 0.125, Minibatch accuracy: 0.967\n",
      "Epoch: 249, Step: 500, Minibatch loss: 0.129, Minibatch accuracy: 0.967\n",
      "Epoch: 254, Step: 510, Minibatch loss: 0.123, Minibatch accuracy: 0.967\n",
      "Epoch: 259, Step: 520, Minibatch loss: 0.131, Minibatch accuracy: 0.978\n",
      "Epoch: 264, Step: 530, Minibatch loss: 0.143, Minibatch accuracy: 0.956\n",
      "Epoch: 269, Step: 540, Minibatch loss: 0.175, Minibatch accuracy: 0.940\n",
      "Epoch: 274, Step: 550, Minibatch loss: 0.163, Minibatch accuracy: 0.945\n",
      "Epoch: 279, Step: 560, Minibatch loss: 0.165, Minibatch accuracy: 0.951\n",
      "Epoch: 284, Step: 570, Minibatch loss: 0.148, Minibatch accuracy: 0.956\n",
      "Epoch: 289, Step: 580, Minibatch loss: 0.148, Minibatch accuracy: 0.956\n",
      "Epoch: 294, Step: 590, Minibatch loss: 0.109, Minibatch accuracy: 0.973\n",
      "Epoch: 299, Step: 600, Minibatch loss: 0.155, Minibatch accuracy: 0.962\n",
      "Final, Step: 600, Minibatch loss: 0.155, Minibatch accuracy: 0.962\n"
     ]
    }
   ],
   "source": [
    "step = 0\n",
    "\n",
    "net.train()\n",
    "\n",
    "for epoch in range(num_epochs):\n",
    "    \n",
    "    exp_lr_scheduler.step()\n",
    "    \n",
    "    for data in train_loader:\n",
    "        \n",
    "        x, y = data\n",
    "        \n",
    "        x, y = x.to(device), y.to(device)\n",
    "        \n",
    "        optimizer.zero_grad()\n",
    "        \n",
    "        logits = net(x)\n",
    "        \n",
    "        loss = loss_function(logits, y)\n",
    "        \n",
    "        loss.backward()\n",
    "        \n",
    "        optimizer.step()\n",
    "        \n",
    "        step += 1\n",
    "        \n",
    "        _, preds = torch.max(logits, 1)\n",
    "        \n",
    "        correct = (preds == y).sum().item()\n",
    "        \n",
    "        accuracy = correct/len(x)\n",
    "        \n",
    "        if step % display_step == 0:\n",
    "            print('Epoch: %d, Step: %d, Minibatch loss: %.3f, Minibatch accuracy: %.3f' % \n",
    "                  (epoch, step, loss, accuracy))\n",
    "            \n",
    "print('Final, Step: %d, Minibatch loss: %.3f, Minibatch accuracy: %.3f' % \n",
    "                  (step, loss, accuracy))"
   ]
  },
  {
   "cell_type": "code",
   "execution_count": 219,
   "metadata": {},
   "outputs": [
    {
     "name": "stdout",
     "output_type": "stream",
     "text": [
      "Test accuracy: 0.735\n"
     ]
    }
   ],
   "source": [
    "net.eval()\n",
    "\n",
    "test_correct = 0\n",
    "\n",
    "with torch.no_grad():\n",
    "    \n",
    "    for data in test_loader:\n",
    "\n",
    "        test_x, test_y = data\n",
    "        \n",
    "        test_x, test_y = test_x.to(device), test_y.to(device)\n",
    "\n",
    "        test_logits = net(test_x)\n",
    "        _, test_preds = torch.max(test_logits, 1)\n",
    "\n",
    "        test_correct_batch = (test_preds == test_y).sum().item()\n",
    "\n",
    "        test_correct += test_correct_batch\n",
    "\n",
    "print('Test accuracy: %.3f' % (test_correct / len(test_set)))"
   ]
  },
  {
   "cell_type": "code",
   "execution_count": 189,
   "metadata": {},
   "outputs": [],
   "source": [
    "torch.save(net.state_dict(), os.path.join(LOG_DIR, 'model_%s_checkpoint.pth.tar' % 'vulter_aug_ep_50_step_10'))"
   ]
  },
  {
   "cell_type": "code",
   "execution_count": null,
   "metadata": {},
   "outputs": [],
   "source": []
  },
  {
   "cell_type": "code",
   "execution_count": 60,
   "metadata": {},
   "outputs": [],
   "source": [
    "# Training Parameters\n",
    "learning_rate = 0.01\n",
    "num_epochs = 50"
   ]
  },
  {
   "cell_type": "code",
   "execution_count": null,
   "metadata": {},
   "outputs": [],
   "source": [
    "print('Load pretrained ResNet.')\n",
    "\n",
    "# Load pretrained model\n",
    "if CAFFE_WEIGHTS:\n",
    "    print('Model using caffe pretrained weights.')\n",
    "    resnet = torchvision.models.resnet152(pretrained=False)\n",
    "    weights = torch.load('./caffe_weights/resnet152.pth')\n",
    "    resnet.load_state_dict(weights)\n",
    "else:\n",
    "    print('Model using pytorch pretrained weights.')\n",
    "    resnet = torchvision.models.resnet152(pretrained=True)\n",
    "\n",
    "# Freeze all layers\n",
    "for param in resnet.parameters():\n",
    "    param.requires_grad = False\n",
    "\n",
    "print('Done.')    \n",
    "\n",
    "\n",
    "if DROPOUT:\n",
    "    print('Model using dropout.')\n",
    "    resnet = MyResNet(resnet, NUM_CLASSES, DROPOUT_RATE, FC_ADD_DIM)\n",
    "    # Optimizer only on the last fc layers\n",
    "    optimizer = optim.SGD(list(resnet.fc.parameters()) + list(resnet.fc_add.parameters()), lr=LEARNING_RATE, momentum=MOMENTUM)\n",
    "else:\n",
    "    print('Model not using dropout.')\n",
    "    # Reset the fc layer\n",
    "    num_features = resnet.fc.in_features\n",
    "    resnet.fc = nn.Linear(num_features, NUM_CLASSES)\n",
    "    # Optimizer only on the last fc layers\n",
    "    optimizer = optim.SGD(list(resnet.fc.parameters()), lr=LEARNING_RATE, momentum=MOMENTUM)\n"
   ]
  },
  {
   "cell_type": "code",
   "execution_count": 23,
   "metadata": {},
   "outputs": [],
   "source": [
    "checkpoint = torch.load('./log_pt/model_storks_plain_ep_60_step_10_checkpoint.pth.tar')\n",
    "\n",
    "ft_net = MyNet(num_classes=num_classes, input_dim=repeat_size).double()\n",
    "\n",
    "ft_net.load_state_dict(checkpoint)"
   ]
  },
  {
   "cell_type": "code",
   "execution_count": 24,
   "metadata": {},
   "outputs": [],
   "source": [
    "ft_net.fc4 = nn.Linear(1024, num_classes)"
   ]
  },
  {
   "cell_type": "code",
   "execution_count": 25,
   "metadata": {},
   "outputs": [],
   "source": [
    "ft_net = ft_net.to(device)"
   ]
  },
  {
   "cell_type": "code",
   "execution_count": 26,
   "metadata": {},
   "outputs": [],
   "source": [
    "optimizer = optim.Adam(ft_net.parameters(), lr=learning_rate)\n",
    "\n",
    "exp_lr_scheduler = lr_scheduler.StepLR(optimizer, step_size=10, gamma=0.1)"
   ]
  },
  {
   "cell_type": "code",
   "execution_count": 27,
   "metadata": {},
   "outputs": [
    {
     "ename": "RuntimeError",
     "evalue": "Expected object of type torch.cuda.FloatTensor but found type torch.cuda.DoubleTensor for argument #4 'mat1'",
     "output_type": "error",
     "traceback": [
      "\u001b[0;31m---------------------------------------------------------------------------\u001b[0m",
      "\u001b[0;31mRuntimeError\u001b[0m                              Traceback (most recent call last)",
      "\u001b[0;32m<ipython-input-27-86e426d716a2>\u001b[0m in \u001b[0;36m<module>\u001b[0;34m()\u001b[0m\n\u001b[1;32m     15\u001b[0m         \u001b[0moptimizer\u001b[0m\u001b[0;34m.\u001b[0m\u001b[0mzero_grad\u001b[0m\u001b[0;34m(\u001b[0m\u001b[0;34m)\u001b[0m\u001b[0;34m\u001b[0m\u001b[0m\n\u001b[1;32m     16\u001b[0m \u001b[0;34m\u001b[0m\u001b[0m\n\u001b[0;32m---> 17\u001b[0;31m         \u001b[0mlogits\u001b[0m \u001b[0;34m=\u001b[0m \u001b[0mft_net\u001b[0m\u001b[0;34m(\u001b[0m\u001b[0mx\u001b[0m\u001b[0;34m)\u001b[0m\u001b[0;34m\u001b[0m\u001b[0m\n\u001b[0m\u001b[1;32m     18\u001b[0m \u001b[0;34m\u001b[0m\u001b[0m\n\u001b[1;32m     19\u001b[0m         \u001b[0mloss\u001b[0m \u001b[0;34m=\u001b[0m \u001b[0mloss_function\u001b[0m\u001b[0;34m(\u001b[0m\u001b[0mlogits\u001b[0m\u001b[0;34m,\u001b[0m \u001b[0my\u001b[0m\u001b[0;34m)\u001b[0m\u001b[0;34m\u001b[0m\u001b[0m\n",
      "\u001b[0;32m~/miniconda3/lib/python3.6/site-packages/torch/nn/modules/module.py\u001b[0m in \u001b[0;36m__call__\u001b[0;34m(self, *input, **kwargs)\u001b[0m\n\u001b[1;32m    489\u001b[0m             \u001b[0mresult\u001b[0m \u001b[0;34m=\u001b[0m \u001b[0mself\u001b[0m\u001b[0;34m.\u001b[0m\u001b[0m_slow_forward\u001b[0m\u001b[0;34m(\u001b[0m\u001b[0;34m*\u001b[0m\u001b[0minput\u001b[0m\u001b[0;34m,\u001b[0m \u001b[0;34m**\u001b[0m\u001b[0mkwargs\u001b[0m\u001b[0;34m)\u001b[0m\u001b[0;34m\u001b[0m\u001b[0m\n\u001b[1;32m    490\u001b[0m         \u001b[0;32melse\u001b[0m\u001b[0;34m:\u001b[0m\u001b[0;34m\u001b[0m\u001b[0m\n\u001b[0;32m--> 491\u001b[0;31m             \u001b[0mresult\u001b[0m \u001b[0;34m=\u001b[0m \u001b[0mself\u001b[0m\u001b[0;34m.\u001b[0m\u001b[0mforward\u001b[0m\u001b[0;34m(\u001b[0m\u001b[0;34m*\u001b[0m\u001b[0minput\u001b[0m\u001b[0;34m,\u001b[0m \u001b[0;34m**\u001b[0m\u001b[0mkwargs\u001b[0m\u001b[0;34m)\u001b[0m\u001b[0;34m\u001b[0m\u001b[0m\n\u001b[0m\u001b[1;32m    492\u001b[0m         \u001b[0;32mfor\u001b[0m \u001b[0mhook\u001b[0m \u001b[0;32min\u001b[0m \u001b[0mself\u001b[0m\u001b[0;34m.\u001b[0m\u001b[0m_forward_hooks\u001b[0m\u001b[0;34m.\u001b[0m\u001b[0mvalues\u001b[0m\u001b[0;34m(\u001b[0m\u001b[0;34m)\u001b[0m\u001b[0;34m:\u001b[0m\u001b[0;34m\u001b[0m\u001b[0m\n\u001b[1;32m    493\u001b[0m             \u001b[0mhook_result\u001b[0m \u001b[0;34m=\u001b[0m \u001b[0mhook\u001b[0m\u001b[0;34m(\u001b[0m\u001b[0mself\u001b[0m\u001b[0;34m,\u001b[0m \u001b[0minput\u001b[0m\u001b[0;34m,\u001b[0m \u001b[0mresult\u001b[0m\u001b[0;34m)\u001b[0m\u001b[0;34m\u001b[0m\u001b[0m\n",
      "\u001b[0;32m<ipython-input-10-05c930631733>\u001b[0m in \u001b[0;36mforward\u001b[0;34m(self, x)\u001b[0m\n\u001b[1;32m     19\u001b[0m \u001b[0;34m\u001b[0m\u001b[0m\n\u001b[1;32m     20\u001b[0m         \u001b[0mx\u001b[0m \u001b[0;34m=\u001b[0m \u001b[0mF\u001b[0m\u001b[0;34m.\u001b[0m\u001b[0mrelu\u001b[0m\u001b[0;34m(\u001b[0m\u001b[0mself\u001b[0m\u001b[0;34m.\u001b[0m\u001b[0mfc3\u001b[0m\u001b[0;34m(\u001b[0m\u001b[0mx\u001b[0m\u001b[0;34m)\u001b[0m\u001b[0;34m)\u001b[0m\u001b[0;34m\u001b[0m\u001b[0m\n\u001b[0;32m---> 21\u001b[0;31m         \u001b[0mx\u001b[0m \u001b[0;34m=\u001b[0m \u001b[0mself\u001b[0m\u001b[0;34m.\u001b[0m\u001b[0mfc4\u001b[0m\u001b[0;34m(\u001b[0m\u001b[0mx\u001b[0m\u001b[0;34m)\u001b[0m\u001b[0;34m\u001b[0m\u001b[0m\n\u001b[0m\u001b[1;32m     22\u001b[0m \u001b[0;34m\u001b[0m\u001b[0m\n\u001b[1;32m     23\u001b[0m         \u001b[0;32mreturn\u001b[0m \u001b[0mx\u001b[0m\u001b[0;34m\u001b[0m\u001b[0m\n",
      "\u001b[0;32m~/miniconda3/lib/python3.6/site-packages/torch/nn/modules/module.py\u001b[0m in \u001b[0;36m__call__\u001b[0;34m(self, *input, **kwargs)\u001b[0m\n\u001b[1;32m    489\u001b[0m             \u001b[0mresult\u001b[0m \u001b[0;34m=\u001b[0m \u001b[0mself\u001b[0m\u001b[0;34m.\u001b[0m\u001b[0m_slow_forward\u001b[0m\u001b[0;34m(\u001b[0m\u001b[0;34m*\u001b[0m\u001b[0minput\u001b[0m\u001b[0;34m,\u001b[0m \u001b[0;34m**\u001b[0m\u001b[0mkwargs\u001b[0m\u001b[0;34m)\u001b[0m\u001b[0;34m\u001b[0m\u001b[0m\n\u001b[1;32m    490\u001b[0m         \u001b[0;32melse\u001b[0m\u001b[0;34m:\u001b[0m\u001b[0;34m\u001b[0m\u001b[0m\n\u001b[0;32m--> 491\u001b[0;31m             \u001b[0mresult\u001b[0m \u001b[0;34m=\u001b[0m \u001b[0mself\u001b[0m\u001b[0;34m.\u001b[0m\u001b[0mforward\u001b[0m\u001b[0;34m(\u001b[0m\u001b[0;34m*\u001b[0m\u001b[0minput\u001b[0m\u001b[0;34m,\u001b[0m \u001b[0;34m**\u001b[0m\u001b[0mkwargs\u001b[0m\u001b[0;34m)\u001b[0m\u001b[0;34m\u001b[0m\u001b[0m\n\u001b[0m\u001b[1;32m    492\u001b[0m         \u001b[0;32mfor\u001b[0m \u001b[0mhook\u001b[0m \u001b[0;32min\u001b[0m \u001b[0mself\u001b[0m\u001b[0;34m.\u001b[0m\u001b[0m_forward_hooks\u001b[0m\u001b[0;34m.\u001b[0m\u001b[0mvalues\u001b[0m\u001b[0;34m(\u001b[0m\u001b[0;34m)\u001b[0m\u001b[0;34m:\u001b[0m\u001b[0;34m\u001b[0m\u001b[0m\n\u001b[1;32m    493\u001b[0m             \u001b[0mhook_result\u001b[0m \u001b[0;34m=\u001b[0m \u001b[0mhook\u001b[0m\u001b[0;34m(\u001b[0m\u001b[0mself\u001b[0m\u001b[0;34m,\u001b[0m \u001b[0minput\u001b[0m\u001b[0;34m,\u001b[0m \u001b[0mresult\u001b[0m\u001b[0;34m)\u001b[0m\u001b[0;34m\u001b[0m\u001b[0m\n",
      "\u001b[0;32m~/miniconda3/lib/python3.6/site-packages/torch/nn/modules/linear.py\u001b[0m in \u001b[0;36mforward\u001b[0;34m(self, input)\u001b[0m\n\u001b[1;32m     53\u001b[0m \u001b[0;34m\u001b[0m\u001b[0m\n\u001b[1;32m     54\u001b[0m     \u001b[0;32mdef\u001b[0m \u001b[0mforward\u001b[0m\u001b[0;34m(\u001b[0m\u001b[0mself\u001b[0m\u001b[0;34m,\u001b[0m \u001b[0minput\u001b[0m\u001b[0;34m)\u001b[0m\u001b[0;34m:\u001b[0m\u001b[0;34m\u001b[0m\u001b[0m\n\u001b[0;32m---> 55\u001b[0;31m         \u001b[0;32mreturn\u001b[0m \u001b[0mF\u001b[0m\u001b[0;34m.\u001b[0m\u001b[0mlinear\u001b[0m\u001b[0;34m(\u001b[0m\u001b[0minput\u001b[0m\u001b[0;34m,\u001b[0m \u001b[0mself\u001b[0m\u001b[0;34m.\u001b[0m\u001b[0mweight\u001b[0m\u001b[0;34m,\u001b[0m \u001b[0mself\u001b[0m\u001b[0;34m.\u001b[0m\u001b[0mbias\u001b[0m\u001b[0;34m)\u001b[0m\u001b[0;34m\u001b[0m\u001b[0m\n\u001b[0m\u001b[1;32m     56\u001b[0m \u001b[0;34m\u001b[0m\u001b[0m\n\u001b[1;32m     57\u001b[0m     \u001b[0;32mdef\u001b[0m \u001b[0mextra_repr\u001b[0m\u001b[0;34m(\u001b[0m\u001b[0mself\u001b[0m\u001b[0;34m)\u001b[0m\u001b[0;34m:\u001b[0m\u001b[0;34m\u001b[0m\u001b[0m\n",
      "\u001b[0;32m~/miniconda3/lib/python3.6/site-packages/torch/nn/functional.py\u001b[0m in \u001b[0;36mlinear\u001b[0;34m(input, weight, bias)\u001b[0m\n\u001b[1;32m    990\u001b[0m     \u001b[0;32mif\u001b[0m \u001b[0minput\u001b[0m\u001b[0;34m.\u001b[0m\u001b[0mdim\u001b[0m\u001b[0;34m(\u001b[0m\u001b[0;34m)\u001b[0m \u001b[0;34m==\u001b[0m \u001b[0;36m2\u001b[0m \u001b[0;32mand\u001b[0m \u001b[0mbias\u001b[0m \u001b[0;32mis\u001b[0m \u001b[0;32mnot\u001b[0m \u001b[0;32mNone\u001b[0m\u001b[0;34m:\u001b[0m\u001b[0;34m\u001b[0m\u001b[0m\n\u001b[1;32m    991\u001b[0m         \u001b[0;31m# fused op is marginally faster\u001b[0m\u001b[0;34m\u001b[0m\u001b[0;34m\u001b[0m\u001b[0m\n\u001b[0;32m--> 992\u001b[0;31m         \u001b[0;32mreturn\u001b[0m \u001b[0mtorch\u001b[0m\u001b[0;34m.\u001b[0m\u001b[0maddmm\u001b[0m\u001b[0;34m(\u001b[0m\u001b[0mbias\u001b[0m\u001b[0;34m,\u001b[0m \u001b[0minput\u001b[0m\u001b[0;34m,\u001b[0m \u001b[0mweight\u001b[0m\u001b[0;34m.\u001b[0m\u001b[0mt\u001b[0m\u001b[0;34m(\u001b[0m\u001b[0;34m)\u001b[0m\u001b[0;34m)\u001b[0m\u001b[0;34m\u001b[0m\u001b[0m\n\u001b[0m\u001b[1;32m    993\u001b[0m \u001b[0;34m\u001b[0m\u001b[0m\n\u001b[1;32m    994\u001b[0m     \u001b[0moutput\u001b[0m \u001b[0;34m=\u001b[0m \u001b[0minput\u001b[0m\u001b[0;34m.\u001b[0m\u001b[0mmatmul\u001b[0m\u001b[0;34m(\u001b[0m\u001b[0mweight\u001b[0m\u001b[0;34m.\u001b[0m\u001b[0mt\u001b[0m\u001b[0;34m(\u001b[0m\u001b[0;34m)\u001b[0m\u001b[0;34m)\u001b[0m\u001b[0;34m\u001b[0m\u001b[0m\n",
      "\u001b[0;31mRuntimeError\u001b[0m: Expected object of type torch.cuda.FloatTensor but found type torch.cuda.DoubleTensor for argument #4 'mat1'"
     ]
    }
   ],
   "source": [
    "step = 0\n",
    "\n",
    "ft_net.train()\n",
    "\n",
    "for epoch in range(num_epochs):\n",
    "    \n",
    "    exp_lr_scheduler.step()\n",
    "    \n",
    "    for data in train_loader:\n",
    "        \n",
    "        x, y = data\n",
    "        \n",
    "        x, y = x.to(device), y.to(device)\n",
    "        \n",
    "        optimizer.zero_grad()\n",
    "        \n",
    "        logits = ft_net(x)\n",
    "        \n",
    "        loss = loss_function(logits, y)\n",
    "        \n",
    "        loss.backward()\n",
    "        \n",
    "        optimizer.step()\n",
    "        \n",
    "        step += 1\n",
    "        \n",
    "        _, preds = torch.max(logits, 1)\n",
    "        \n",
    "        correct = (preds == y).sum().item()\n",
    "        \n",
    "        accuracy = correct/len(x)\n",
    "        \n",
    "        if step % display_step == 0:\n",
    "            print('Epoch: %d, Step: %d, Minibatch loss: %.3f, Minibatch accuracy: %.3f' % \n",
    "                  (epoch, step, loss, accuracy))\n",
    "            \n",
    "print('Final, Step: %d, Minibatch loss: %.3f, Minibatch accuracy: %.3f' % \n",
    "                  (step, loss, accuracy))"
   ]
  },
  {
   "cell_type": "code",
   "execution_count": null,
   "metadata": {},
   "outputs": [],
   "source": [
    "ft_net.eval()\n",
    "\n",
    "test_correct = 0\n",
    "\n",
    "with torch.no_grad():\n",
    "    \n",
    "    for data in test_loader:\n",
    "\n",
    "        test_x, test_y = data\n",
    "\n",
    "        test_logits = ft_net(test_x)\n",
    "        _, test_preds = torch.max(test_logits, 1)\n",
    "\n",
    "        test_correct_batch = (test_preds == test_y).sum().item()\n",
    "\n",
    "        test_correct += test_correct_batch\n",
    "\n",
    "print('Test accuracy: %.3f' % (test_correct / len(test_set)))"
   ]
  },
  {
   "cell_type": "code",
   "execution_count": null,
   "metadata": {},
   "outputs": [],
   "source": []
  }
 ],
 "metadata": {
  "kernelspec": {
   "display_name": "Python 3",
   "language": "python",
   "name": "python3"
  },
  "language_info": {
   "codemirror_mode": {
    "name": "ipython",
    "version": 3
   },
   "file_extension": ".py",
   "mimetype": "text/x-python",
   "name": "python",
   "nbconvert_exporter": "python",
   "pygments_lexer": "ipython3",
   "version": "3.6.5"
  }
 },
 "nbformat": 4,
 "nbformat_minor": 2
}
