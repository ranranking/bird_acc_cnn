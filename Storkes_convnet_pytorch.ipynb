{
 "cells": [
  {
   "cell_type": "code",
   "execution_count": 1,
   "metadata": {},
   "outputs": [],
   "source": [
    "from utils import *\n",
    "\n",
    "import os\n",
    "\n",
    "import torch\n",
    "import torch.nn as nn\n",
    "import torch.utils.data\n",
    "import torch.nn.functional as F\n",
    "import torch.optim as optim\n",
    "from torch.optim import lr_scheduler\n",
    "\n",
    "import pandas as pd\n",
    "import numpy as np\n",
    "\n",
    "from sklearn import preprocessing\n",
    "from sklearn.model_selection import train_test_split"
   ]
  },
  {
   "cell_type": "code",
   "execution_count": 36,
   "metadata": {},
   "outputs": [],
   "source": [
    "# Misc\n",
    "LOG_DIR = './log_pt/'\n",
    "MODEL_ID = 'storkes_plain'\n",
    "\n",
    "# Training Parameters\n",
    "learning_rate = 0.001\n",
    "num_epochs = 60\n",
    "batch_size = 256\n",
    "display_step = 10\n",
    "\n",
    "# Network Parameters\n",
    "num_classes = 6\n",
    "keep_rate = 1\n",
    "\n",
    "repeat_size = 82\n",
    "\n",
    "if not os.path.isdir(LOG_DIR):\n",
    "    os.makedirs(LOG_DIR)"
   ]
  },
  {
   "cell_type": "code",
   "execution_count": 37,
   "metadata": {},
   "outputs": [],
   "source": [
    "raw = pd.read_csv('./storks_obs_train.csv', header=None)"
   ]
  },
  {
   "cell_type": "code",
   "execution_count": 86,
   "metadata": {},
   "outputs": [
    {
     "data": {
      "text/plain": [
       "1746"
      ]
     },
     "execution_count": 86,
     "metadata": {},
     "output_type": "execute_result"
    }
   ],
   "source": [
    "len(raw)"
   ]
  },
  {
   "cell_type": "code",
   "execution_count": 62,
   "metadata": {},
   "outputs": [],
   "source": [
    "mean = np.array([0. for i in  range(3)])\n",
    "X = []\n",
    "Y = []\n",
    "\n",
    "for i in range(len(raw)):\n",
    "    \n",
    "    row = np.array(raw.loc[i][~raw.loc[i].isnull()])\n",
    "    data = row[0:-1].astype(float)\n",
    "    label = row[-1]\n",
    "    \n",
    "    x_axis = data[0::3]\n",
    "    y_axis = data[1::3]\n",
    "    z_axis = data[2::3]\n",
    "    \n",
    "    x_axis = repeat_crop_data (x_axis, repeat_size)\n",
    "    y_axis = repeat_crop_data (y_axis, repeat_size)\n",
    "    z_axis = repeat_crop_data (z_axis, repeat_size)\n",
    "    \n",
    "    mean[0] += x_axis.mean()\n",
    "    mean[1] += y_axis.mean()\n",
    "    mean[2] += z_axis.mean()\n",
    "    \n",
    "    X.append(np.stack((x_axis, y_axis, z_axis)))\n",
    "    Y.append(label)\n",
    "\n",
    "mean = mean/len(raw)\n",
    "    \n",
    "X = np.array(X).transpose((0, 2, 1))\n",
    "Y = np.array(Y)\n",
    "label_names = np.unique(Y)\n",
    "\n",
    "le = preprocessing.LabelEncoder()\n",
    "le.fit(np.unique(Y))\n",
    "Y = le.transform(Y)"
   ]
  },
  {
   "cell_type": "code",
   "execution_count": 75,
   "metadata": {},
   "outputs": [],
   "source": [
    "train_x, test_x, train_y, test_y = train_test_split(X, Y, test_size=0.1)"
   ]
  },
  {
   "cell_type": "code",
   "execution_count": 76,
   "metadata": {},
   "outputs": [],
   "source": [
    "class acc_dataset (torch.utils.data.Dataset):\n",
    "    \n",
    "    def __init__ (self, X, Y, mean):\n",
    "        super().__init__()\n",
    "        self.X = X\n",
    "        self.Y = Y.astype(np.float)\n",
    "        self.mean = mean\n",
    "        \n",
    "    def __len__ (self):\n",
    "        return len(self.X)\n",
    "    \n",
    "    def __getitem__ (self, idx):\n",
    "        \n",
    "        x = self.X[idx]\n",
    "        y = self.Y[idx]\n",
    "        \n",
    "        x = (x - self.mean).transpose(1, 0)\n",
    "            \n",
    "        return torch.tensor(x), torch.tensor(y).type(torch.LongTensor)"
   ]
  },
  {
   "cell_type": "code",
   "execution_count": 77,
   "metadata": {},
   "outputs": [],
   "source": [
    "train_set = acc_dataset(train_x, train_y, mean)\n",
    "train_loader = torch.utils.data.DataLoader(train_set, batch_size=batch_size, shuffle=True, num_workers=2)\n",
    "\n",
    "test_set = acc_dataset(test_x, test_y, mean)\n",
    "test_loader = torch.utils.data.DataLoader(test_set, batch_size=batch_size, shuffle=True, num_workers=2)"
   ]
  },
  {
   "cell_type": "code",
   "execution_count": 78,
   "metadata": {},
   "outputs": [],
   "source": [
    "class MyNet (nn.Module):\n",
    "    \n",
    "    def __init__ (self, num_classes, input_dim):\n",
    "        super().__init__()\n",
    "        \n",
    "        self.input_dim = input_dim\n",
    "        \n",
    "        self.conv1 = nn.Conv1d(in_channels=3, out_channels=32, kernel_size=3, padding=1)\n",
    "        self.conv2 = nn.Conv1d(in_channels=32, out_channels=64, kernel_size=3, padding=1)\n",
    "        self.fc3 = nn.Linear(self.input_dim*64, 1024)\n",
    "        self.fc4 = nn.Linear(1024, num_classes)\n",
    "        \n",
    "    def forward(self, x):\n",
    "        x = F.relu(self.conv1(x))\n",
    "        x = F.relu(self.conv2(x))\n",
    "\n",
    "        #self.pretrained_resnet.avgpool(x)\n",
    "        x = x.view(-1, self.input_dim*64)\n",
    "        \n",
    "        x = F.relu(self.fc3(x))\n",
    "        x = self.fc4(x)\n",
    "\n",
    "        return x"
   ]
  },
  {
   "cell_type": "code",
   "execution_count": 79,
   "metadata": {},
   "outputs": [],
   "source": [
    "net = MyNet(num_classes=num_classes, input_dim=repeat_size).double()"
   ]
  },
  {
   "cell_type": "code",
   "execution_count": 80,
   "metadata": {},
   "outputs": [],
   "source": [
    "# Loss function\n",
    "loss_function = nn.CrossEntropyLoss().double()\n",
    "\n",
    "# Optimizer\n",
    "optimizer = optim.Adam(net.parameters(), lr=learning_rate)\n",
    "\n",
    "# Decay LR by a factor of 0.1 every 30 epochs\n",
    "exp_lr_scheduler = lr_scheduler.StepLR(optimizer, step_size=10, gamma=0.1)"
   ]
  },
  {
   "cell_type": "code",
   "execution_count": 81,
   "metadata": {},
   "outputs": [
    {
     "name": "stdout",
     "output_type": "stream",
     "text": [
      "Epoch: 1, Step: 10, Minibatch loss: 0.870, Minibatch accuracy: 0.629\n",
      "Epoch: 2, Step: 20, Minibatch loss: 0.614, Minibatch accuracy: 0.789\n",
      "Epoch: 4, Step: 30, Minibatch loss: 0.521, Minibatch accuracy: 0.824\n",
      "Epoch: 5, Step: 40, Minibatch loss: 0.327, Minibatch accuracy: 0.914\n",
      "Epoch: 7, Step: 50, Minibatch loss: 0.280, Minibatch accuracy: 0.918\n",
      "Epoch: 8, Step: 60, Minibatch loss: 0.335, Minibatch accuracy: 0.914\n",
      "Epoch: 9, Step: 70, Minibatch loss: 0.294, Minibatch accuracy: 0.943\n",
      "Epoch: 11, Step: 80, Minibatch loss: 0.191, Minibatch accuracy: 0.941\n",
      "Epoch: 12, Step: 90, Minibatch loss: 0.150, Minibatch accuracy: 0.961\n",
      "Epoch: 14, Step: 100, Minibatch loss: 0.198, Minibatch accuracy: 0.941\n",
      "Epoch: 15, Step: 110, Minibatch loss: 0.204, Minibatch accuracy: 0.945\n",
      "Epoch: 17, Step: 120, Minibatch loss: 0.180, Minibatch accuracy: 0.941\n",
      "Epoch: 18, Step: 130, Minibatch loss: 0.132, Minibatch accuracy: 0.945\n",
      "Epoch: 19, Step: 140, Minibatch loss: 0.100, Minibatch accuracy: 0.971\n",
      "Epoch: 21, Step: 150, Minibatch loss: 0.160, Minibatch accuracy: 0.953\n",
      "Epoch: 22, Step: 160, Minibatch loss: 0.136, Minibatch accuracy: 0.961\n",
      "Epoch: 24, Step: 170, Minibatch loss: 0.105, Minibatch accuracy: 0.973\n",
      "Epoch: 25, Step: 180, Minibatch loss: 0.129, Minibatch accuracy: 0.961\n",
      "Epoch: 27, Step: 190, Minibatch loss: 0.069, Minibatch accuracy: 0.980\n",
      "Epoch: 28, Step: 200, Minibatch loss: 0.075, Minibatch accuracy: 0.984\n",
      "Epoch: 29, Step: 210, Minibatch loss: 0.129, Minibatch accuracy: 0.943\n",
      "Epoch: 31, Step: 220, Minibatch loss: 0.091, Minibatch accuracy: 0.969\n",
      "Epoch: 32, Step: 230, Minibatch loss: 0.072, Minibatch accuracy: 0.980\n",
      "Epoch: 34, Step: 240, Minibatch loss: 0.074, Minibatch accuracy: 0.992\n",
      "Epoch: 35, Step: 250, Minibatch loss: 0.072, Minibatch accuracy: 0.984\n",
      "Epoch: 37, Step: 260, Minibatch loss: 0.135, Minibatch accuracy: 0.965\n",
      "Epoch: 38, Step: 270, Minibatch loss: 0.053, Minibatch accuracy: 0.988\n",
      "Epoch: 39, Step: 280, Minibatch loss: 0.037, Minibatch accuracy: 1.000\n",
      "Epoch: 41, Step: 290, Minibatch loss: 0.079, Minibatch accuracy: 0.973\n",
      "Epoch: 42, Step: 300, Minibatch loss: 0.052, Minibatch accuracy: 0.988\n",
      "Epoch: 44, Step: 310, Minibatch loss: 0.056, Minibatch accuracy: 0.992\n",
      "Epoch: 45, Step: 320, Minibatch loss: 0.034, Minibatch accuracy: 0.988\n",
      "Epoch: 47, Step: 330, Minibatch loss: 0.247, Minibatch accuracy: 0.906\n",
      "Epoch: 48, Step: 340, Minibatch loss: 0.063, Minibatch accuracy: 0.984\n",
      "Epoch: 49, Step: 350, Minibatch loss: 0.051, Minibatch accuracy: 0.971\n",
      "Epoch: 51, Step: 360, Minibatch loss: 0.081, Minibatch accuracy: 0.969\n",
      "Epoch: 52, Step: 370, Minibatch loss: 0.042, Minibatch accuracy: 0.984\n",
      "Epoch: 54, Step: 380, Minibatch loss: 0.032, Minibatch accuracy: 0.988\n",
      "Epoch: 55, Step: 390, Minibatch loss: 0.038, Minibatch accuracy: 0.996\n",
      "Epoch: 57, Step: 400, Minibatch loss: 0.042, Minibatch accuracy: 0.984\n",
      "Epoch: 58, Step: 410, Minibatch loss: 0.037, Minibatch accuracy: 0.988\n",
      "Epoch: 59, Step: 420, Minibatch loss: 0.011, Minibatch accuracy: 1.000\n",
      "Final, Step: 420, Minibatch loss: 0.011, Minibatch accuracy: 1.000\n"
     ]
    }
   ],
   "source": [
    "step = 0\n",
    "\n",
    "net.train()\n",
    "\n",
    "for epoch in range(num_epochs):\n",
    "    \n",
    "    for data in train_loader:\n",
    "        \n",
    "        x, y = data\n",
    "        \n",
    "        optimizer.zero_grad()\n",
    "        \n",
    "        logits = net(x)\n",
    "        \n",
    "        loss = loss_function(logits, y)\n",
    "        \n",
    "        loss.backward()\n",
    "        \n",
    "        optimizer.step()\n",
    "        \n",
    "        step += 1\n",
    "        \n",
    "        _, preds = torch.max(logits, 1)\n",
    "        \n",
    "        correct = (preds == y).sum().item()\n",
    "        \n",
    "        accuracy = correct/len(x)\n",
    "        \n",
    "        if step % display_step == 0:\n",
    "            print('Epoch: %d, Step: %d, Minibatch loss: %.3f, Minibatch accuracy: %.3f' % \n",
    "                  (epoch, step, loss, accuracy))\n",
    "            \n",
    "print('Final, Step: %d, Minibatch loss: %.3f, Minibatch accuracy: %.3f' % \n",
    "                  (step, loss, accuracy))\n"
   ]
  },
  {
   "cell_type": "code",
   "execution_count": 84,
   "metadata": {},
   "outputs": [],
   "source": [
    "torch.save(net.state_dict(), os.path.join(LOG_DIR, 'model_%s_checkpoint.pth.tar' % 'storks_plain_ep_60_step_10'))"
   ]
  },
  {
   "cell_type": "code",
   "execution_count": 83,
   "metadata": {},
   "outputs": [
    {
     "name": "stdout",
     "output_type": "stream",
     "text": [
      "Test accuracy: 0.920\n"
     ]
    }
   ],
   "source": [
    "net.eval()\n",
    "\n",
    "test_correct = 0\n",
    "\n",
    "with torch.no_grad():\n",
    "    \n",
    "    for data in test_loader:\n",
    "\n",
    "        test_x, test_y = data\n",
    "\n",
    "        test_logits = net(test_x)\n",
    "        _, test_preds = torch.max(test_logits, 1)\n",
    "\n",
    "        test_correct_batch = (test_preds == test_y).sum().item()\n",
    "\n",
    "        test_correct += test_correct_batch\n",
    "\n",
    "print('Test accuracy: %.3f' % (test_correct / len(test_set)))"
   ]
  },
  {
   "cell_type": "code",
   "execution_count": null,
   "metadata": {},
   "outputs": [],
   "source": []
  },
  {
   "cell_type": "code",
   "execution_count": 85,
   "metadata": {},
   "outputs": [
    {
     "name": "stdout",
     "output_type": "stream",
     "text": [
      "Test accuracy: 0.920\n"
     ]
    }
   ],
   "source": [
    "checkpoint = torch.load('./log_pt/model_storks_plain_ep_60_step_10_checkpoint.pth.tar')\n",
    "\n",
    "val_net = MyNet(num_classes=num_classes, input_dim=repeat_size).double()\n",
    "\n",
    "val_net.eval()\n",
    "\n",
    "val_net.load_state_dict(checkpoint)\n",
    "\n",
    "test_correct = 0\n",
    "\n",
    "with torch.no_grad():\n",
    "    \n",
    "    for data in test_loader:\n",
    "\n",
    "        test_x, test_y = data\n",
    "\n",
    "        test_logits = val_net(test_x)\n",
    "        _, test_preds = torch.max(test_logits, 1)\n",
    "\n",
    "        test_correct_batch = (test_preds == test_y).sum().item()\n",
    "\n",
    "        test_correct += test_correct_batch\n",
    "\n",
    "print('Test accuracy: %.3f' % (test_correct / len(test_set)))"
   ]
  },
  {
   "cell_type": "code",
   "execution_count": null,
   "metadata": {},
   "outputs": [],
   "source": []
  },
  {
   "cell_type": "code",
   "execution_count": null,
   "metadata": {},
   "outputs": [],
   "source": []
  },
  {
   "cell_type": "code",
   "execution_count": null,
   "metadata": {},
   "outputs": [],
   "source": []
  },
  {
   "cell_type": "code",
   "execution_count": null,
   "metadata": {},
   "outputs": [],
   "source": []
  },
  {
   "cell_type": "code",
   "execution_count": null,
   "metadata": {},
   "outputs": [],
   "source": []
  },
  {
   "cell_type": "code",
   "execution_count": null,
   "metadata": {},
   "outputs": [],
   "source": []
  }
 ],
 "metadata": {
  "kernelspec": {
   "display_name": "Python 3",
   "language": "python",
   "name": "python3"
  },
  "language_info": {
   "codemirror_mode": {
    "name": "ipython",
    "version": 3
   },
   "file_extension": ".py",
   "mimetype": "text/x-python",
   "name": "python",
   "nbconvert_exporter": "python",
   "pygments_lexer": "ipython3",
   "version": "3.6.3"
  }
 },
 "nbformat": 4,
 "nbformat_minor": 2
}
