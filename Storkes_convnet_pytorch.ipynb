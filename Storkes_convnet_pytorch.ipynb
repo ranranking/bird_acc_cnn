{
 "cells": [
  {
   "cell_type": "code",
   "execution_count": 1,
   "metadata": {},
   "outputs": [],
   "source": [
    "from utils import *\n",
    "\n",
    "import os\n",
    "\n",
    "import torch\n",
    "import torch.nn as nn\n",
    "import torch.utils.data\n",
    "import torch.nn.functional as F\n",
    "import torch.optim as optim\n",
    "from torch.optim import lr_scheduler\n",
    "\n",
    "import pandas as pd\n",
    "import numpy as np\n",
    "\n",
    "from sklearn import preprocessing\n",
    "from sklearn.model_selection import train_test_split"
   ]
  },
  {
   "cell_type": "code",
   "execution_count": 2,
   "metadata": {},
   "outputs": [],
   "source": [
    "device = torch.device('cuda:0' if torch.cuda.is_available() else 'cpu')"
   ]
  },
  {
   "cell_type": "code",
   "execution_count": 3,
   "metadata": {},
   "outputs": [],
   "source": [
    "# Misc\n",
    "LOG_DIR = './log_pt/'\n",
    "MODEL_ID = 'storkes_plain'\n",
    "\n",
    "# Training Parameters\n",
    "learning_rate = 0.001\n",
    "num_epochs = 100\n",
    "batch_size = 256\n",
    "display_step = 10\n",
    "\n",
    "# Network Parameters\n",
    "num_classes = 5\n",
    "keep_rate = 1\n",
    "\n",
    "repeat_size = 82\n",
    "\n",
    "if not os.path.isdir(LOG_DIR):\n",
    "    os.makedirs(LOG_DIR)"
   ]
  },
  {
   "cell_type": "code",
   "execution_count": 4,
   "metadata": {},
   "outputs": [],
   "source": [
    "raw = pd.read_csv('./storks_obs_train.csv', header=None)"
   ]
  },
  {
   "cell_type": "code",
   "execution_count": 5,
   "metadata": {},
   "outputs": [],
   "source": [
    "mean = np.array([0. for i in  range(3)])\n",
    "X = []\n",
    "Y = []\n",
    "\n",
    "for i in range(len(raw)):\n",
    "    \n",
    "    row = np.array(raw.loc[i][~raw.loc[i].isnull()])\n",
    "    data = row[0:-1].astype(float)\n",
    "    label = row[-1]\n",
    "    \n",
    "    x_axis = data[0::3]\n",
    "    y_axis = data[1::3]\n",
    "    z_axis = data[2::3]\n",
    "    \n",
    "    x_axis = repeat_crop_data (x_axis, repeat_size)\n",
    "    y_axis = repeat_crop_data (y_axis, repeat_size)\n",
    "    z_axis = repeat_crop_data (z_axis, repeat_size)\n",
    "    \n",
    "    mean[0] += x_axis.mean()\n",
    "    mean[1] += y_axis.mean()\n",
    "    mean[2] += z_axis.mean()\n",
    "    \n",
    "    X.append(np.stack((x_axis, y_axis, z_axis)))\n",
    "    Y.append(label)\n",
    "\n",
    "mean = mean/len(raw)\n",
    "    \n",
    "X = np.array(X).transpose((0, 2, 1))\n",
    "Y = np.array(Y)\n",
    "label_names = np.unique(Y)\n",
    "\n",
    "le = preprocessing.LabelEncoder()\n",
    "le.fit(np.unique(Y))\n",
    "Y = le.transform(Y)"
   ]
  },
  {
   "cell_type": "code",
   "execution_count": 6,
   "metadata": {},
   "outputs": [],
   "source": [
    "train_x, test_x, train_y, test_y = train_test_split(X, Y, test_size=0.1)"
   ]
  },
  {
   "cell_type": "code",
   "execution_count": 7,
   "metadata": {},
   "outputs": [],
   "source": [
    "class acc_dataset (torch.utils.data.Dataset):\n",
    "    \n",
    "    def __init__ (self, X, Y, mean):\n",
    "        super().__init__()\n",
    "        self.X = X\n",
    "        self.Y = Y.astype(np.float)\n",
    "        self.mean = mean\n",
    "        \n",
    "    def __len__ (self):\n",
    "        return len(self.X)\n",
    "    \n",
    "    def __getitem__ (self, idx):\n",
    "        \n",
    "        x = self.X[idx]\n",
    "        y = self.Y[idx]\n",
    "        \n",
    "        x = (x - self.mean).transpose(1, 0)\n",
    "            \n",
    "        return torch.tensor(x), torch.tensor(y).type(torch.LongTensor)"
   ]
  },
  {
   "cell_type": "code",
   "execution_count": 8,
   "metadata": {},
   "outputs": [],
   "source": [
    "train_set = acc_dataset(train_x, train_y, mean)\n",
    "train_loader = torch.utils.data.DataLoader(train_set, batch_size=batch_size, shuffle=True, num_workers=2)\n",
    "\n",
    "test_set = acc_dataset(test_x, test_y, mean)\n",
    "test_loader = torch.utils.data.DataLoader(test_set, batch_size=batch_size, shuffle=True, num_workers=2)"
   ]
  },
  {
   "cell_type": "code",
   "execution_count": 9,
   "metadata": {},
   "outputs": [],
   "source": [
    "class MyNet (nn.Module):\n",
    "    \n",
    "    def __init__ (self, num_classes, input_dim, drop_rate):\n",
    "        super().__init__()\n",
    "        \n",
    "        self.input_dim = input_dim\n",
    "        \n",
    "        self.conv1 = nn.Conv1d(in_channels=3, out_channels=32, kernel_size=3, padding=1)\n",
    "        self.conv2 = nn.Conv1d(in_channels=32, out_channels=64, kernel_size=3, padding=1)\n",
    "        self.fc3 = nn.Linear(self.input_dim*64, 1024)\n",
    "        self.dropout = nn.Dropout(p=drop_rate)\n",
    "        self.fc4 = nn.Linear(1024, num_classes)\n",
    "        \n",
    "    def forward(self, x):\n",
    "        x = F.relu(self.conv1(x))\n",
    "        x = F.relu(self.conv2(x))\n",
    "\n",
    "        #self.pretrained_resnet.avgpool(x)\n",
    "        x = x.view(-1, self.input_dim*64)\n",
    "        \n",
    "        x = F.relu(self.fc3(x))\n",
    "        x = self.dropout(x)\n",
    "        x = self.fc4(x)\n",
    "\n",
    "        return x"
   ]
  },
  {
   "cell_type": "code",
   "execution_count": 10,
   "metadata": {},
   "outputs": [],
   "source": [
    "net = MyNet(num_classes=num_classes, input_dim=repeat_size, drop_rate=0.3).double()"
   ]
  },
  {
   "cell_type": "code",
   "execution_count": 13,
   "metadata": {},
   "outputs": [
    {
     "data": {
      "text/plain": [
       "MyNet(\n",
       "  (conv1): Conv1d(3, 32, kernel_size=(3,), stride=(1,), padding=(1,))\n",
       "  (conv2): Conv1d(32, 64, kernel_size=(3,), stride=(1,), padding=(1,))\n",
       "  (fc3): Linear(in_features=5248, out_features=1024, bias=True)\n",
       "  (dropout): Dropout(p=0.3)\n",
       "  (fc4): Linear(in_features=1024, out_features=5, bias=True)\n",
       ")"
      ]
     },
     "execution_count": 13,
     "metadata": {},
     "output_type": "execute_result"
    }
   ],
   "source": [
    "net.to(device)"
   ]
  },
  {
   "cell_type": "code",
   "execution_count": 14,
   "metadata": {},
   "outputs": [],
   "source": [
    "# Loss function\n",
    "loss_function = nn.CrossEntropyLoss().double()\n",
    "\n",
    "# Optimizer\n",
    "optimizer = optim.Adam(net.parameters(), lr=learning_rate)\n",
    "\n",
    "# Decay LR by a factor of 0.1 every 30 epochs\n",
    "exp_lr_scheduler = lr_scheduler.StepLR(optimizer, step_size=20, gamma=0.1)"
   ]
  },
  {
   "cell_type": "code",
   "execution_count": 15,
   "metadata": {},
   "outputs": [
    {
     "name": "stdout",
     "output_type": "stream",
     "text": [
      "Epoch: 1, Step: 10, Minibatch loss: 0.867, Minibatch accuracy: 0.711\n",
      "Epoch: 2, Step: 20, Minibatch loss: 0.494, Minibatch accuracy: 0.840\n",
      "Epoch: 4, Step: 30, Minibatch loss: 0.497, Minibatch accuracy: 0.832\n",
      "Epoch: 5, Step: 40, Minibatch loss: 0.288, Minibatch accuracy: 0.918\n",
      "Epoch: 7, Step: 50, Minibatch loss: 0.334, Minibatch accuracy: 0.887\n",
      "Epoch: 8, Step: 60, Minibatch loss: 0.266, Minibatch accuracy: 0.906\n",
      "Epoch: 9, Step: 70, Minibatch loss: 0.238, Minibatch accuracy: 0.914\n",
      "Epoch: 11, Step: 80, Minibatch loss: 0.293, Minibatch accuracy: 0.906\n",
      "Epoch: 12, Step: 90, Minibatch loss: 0.220, Minibatch accuracy: 0.938\n",
      "Epoch: 14, Step: 100, Minibatch loss: 0.280, Minibatch accuracy: 0.918\n",
      "Epoch: 15, Step: 110, Minibatch loss: 0.123, Minibatch accuracy: 0.965\n",
      "Epoch: 17, Step: 120, Minibatch loss: 0.141, Minibatch accuracy: 0.965\n",
      "Epoch: 18, Step: 130, Minibatch loss: 0.166, Minibatch accuracy: 0.957\n",
      "Epoch: 19, Step: 140, Minibatch loss: 0.093, Minibatch accuracy: 0.943\n",
      "Epoch: 21, Step: 150, Minibatch loss: 0.115, Minibatch accuracy: 0.965\n",
      "Epoch: 22, Step: 160, Minibatch loss: 0.143, Minibatch accuracy: 0.953\n",
      "Epoch: 24, Step: 170, Minibatch loss: 0.153, Minibatch accuracy: 0.957\n",
      "Epoch: 25, Step: 180, Minibatch loss: 0.102, Minibatch accuracy: 0.969\n",
      "Epoch: 27, Step: 190, Minibatch loss: 0.079, Minibatch accuracy: 0.977\n",
      "Epoch: 28, Step: 200, Minibatch loss: 0.134, Minibatch accuracy: 0.957\n",
      "Epoch: 29, Step: 210, Minibatch loss: 0.116, Minibatch accuracy: 0.943\n",
      "Epoch: 31, Step: 220, Minibatch loss: 0.121, Minibatch accuracy: 0.965\n",
      "Epoch: 32, Step: 230, Minibatch loss: 0.135, Minibatch accuracy: 0.969\n",
      "Epoch: 34, Step: 240, Minibatch loss: 0.095, Minibatch accuracy: 0.977\n",
      "Epoch: 35, Step: 250, Minibatch loss: 0.145, Minibatch accuracy: 0.969\n",
      "Epoch: 37, Step: 260, Minibatch loss: 0.099, Minibatch accuracy: 0.977\n",
      "Epoch: 38, Step: 270, Minibatch loss: 0.132, Minibatch accuracy: 0.965\n",
      "Epoch: 39, Step: 280, Minibatch loss: 0.078, Minibatch accuracy: 0.971\n",
      "Epoch: 41, Step: 290, Minibatch loss: 0.091, Minibatch accuracy: 0.973\n",
      "Epoch: 42, Step: 300, Minibatch loss: 0.098, Minibatch accuracy: 0.957\n",
      "Epoch: 44, Step: 310, Minibatch loss: 0.084, Minibatch accuracy: 0.984\n",
      "Epoch: 45, Step: 320, Minibatch loss: 0.114, Minibatch accuracy: 0.977\n",
      "Epoch: 47, Step: 330, Minibatch loss: 0.092, Minibatch accuracy: 0.973\n",
      "Epoch: 48, Step: 340, Minibatch loss: 0.144, Minibatch accuracy: 0.945\n",
      "Epoch: 49, Step: 350, Minibatch loss: 0.164, Minibatch accuracy: 0.943\n",
      "Epoch: 51, Step: 360, Minibatch loss: 0.098, Minibatch accuracy: 0.973\n",
      "Epoch: 52, Step: 370, Minibatch loss: 0.131, Minibatch accuracy: 0.957\n",
      "Epoch: 54, Step: 380, Minibatch loss: 0.102, Minibatch accuracy: 0.973\n",
      "Epoch: 55, Step: 390, Minibatch loss: 0.096, Minibatch accuracy: 0.977\n",
      "Epoch: 57, Step: 400, Minibatch loss: 0.106, Minibatch accuracy: 0.969\n",
      "Epoch: 58, Step: 410, Minibatch loss: 0.119, Minibatch accuracy: 0.961\n",
      "Epoch: 59, Step: 420, Minibatch loss: 0.183, Minibatch accuracy: 0.914\n",
      "Epoch: 61, Step: 430, Minibatch loss: 0.074, Minibatch accuracy: 0.980\n",
      "Epoch: 62, Step: 440, Minibatch loss: 0.086, Minibatch accuracy: 0.980\n",
      "Epoch: 64, Step: 450, Minibatch loss: 0.106, Minibatch accuracy: 0.973\n",
      "Epoch: 65, Step: 460, Minibatch loss: 0.117, Minibatch accuracy: 0.973\n",
      "Epoch: 67, Step: 470, Minibatch loss: 0.093, Minibatch accuracy: 0.980\n",
      "Epoch: 68, Step: 480, Minibatch loss: 0.130, Minibatch accuracy: 0.961\n",
      "Epoch: 69, Step: 490, Minibatch loss: 0.062, Minibatch accuracy: 1.000\n",
      "Epoch: 71, Step: 500, Minibatch loss: 0.113, Minibatch accuracy: 0.965\n",
      "Epoch: 72, Step: 510, Minibatch loss: 0.126, Minibatch accuracy: 0.965\n",
      "Epoch: 74, Step: 520, Minibatch loss: 0.121, Minibatch accuracy: 0.965\n",
      "Epoch: 75, Step: 530, Minibatch loss: 0.095, Minibatch accuracy: 0.969\n",
      "Epoch: 77, Step: 540, Minibatch loss: 0.157, Minibatch accuracy: 0.961\n",
      "Epoch: 78, Step: 550, Minibatch loss: 0.083, Minibatch accuracy: 0.980\n",
      "Epoch: 79, Step: 560, Minibatch loss: 0.126, Minibatch accuracy: 0.971\n",
      "Epoch: 81, Step: 570, Minibatch loss: 0.079, Minibatch accuracy: 0.980\n",
      "Epoch: 82, Step: 580, Minibatch loss: 0.111, Minibatch accuracy: 0.965\n",
      "Epoch: 84, Step: 590, Minibatch loss: 0.107, Minibatch accuracy: 0.965\n",
      "Epoch: 85, Step: 600, Minibatch loss: 0.123, Minibatch accuracy: 0.957\n",
      "Epoch: 87, Step: 610, Minibatch loss: 0.117, Minibatch accuracy: 0.949\n",
      "Epoch: 88, Step: 620, Minibatch loss: 0.113, Minibatch accuracy: 0.980\n",
      "Epoch: 89, Step: 630, Minibatch loss: 0.068, Minibatch accuracy: 0.971\n",
      "Epoch: 91, Step: 640, Minibatch loss: 0.067, Minibatch accuracy: 0.988\n",
      "Epoch: 92, Step: 650, Minibatch loss: 0.142, Minibatch accuracy: 0.973\n",
      "Epoch: 94, Step: 660, Minibatch loss: 0.110, Minibatch accuracy: 0.965\n",
      "Epoch: 95, Step: 670, Minibatch loss: 0.095, Minibatch accuracy: 0.973\n",
      "Epoch: 97, Step: 680, Minibatch loss: 0.143, Minibatch accuracy: 0.945\n",
      "Epoch: 98, Step: 690, Minibatch loss: 0.129, Minibatch accuracy: 0.953\n",
      "Epoch: 99, Step: 700, Minibatch loss: 0.079, Minibatch accuracy: 1.000\n",
      "Final, Step: 700, Minibatch loss: 0.079, Minibatch accuracy: 1.000\n"
     ]
    }
   ],
   "source": [
    "step = 0\n",
    "\n",
    "net.train()\n",
    "\n",
    "for epoch in range(num_epochs):\n",
    "    \n",
    "    exp_lr_scheduler.step()\n",
    "    \n",
    "    for data in train_loader:\n",
    "        \n",
    "        x, y = data\n",
    "        \n",
    "        x, y = x.to(device), y.to(device)\n",
    "        \n",
    "        optimizer.zero_grad()\n",
    "        \n",
    "        logits = net(x)\n",
    "        \n",
    "        loss = loss_function(logits, y)\n",
    "        \n",
    "        loss.backward()\n",
    "        \n",
    "        optimizer.step()\n",
    "        \n",
    "        step += 1\n",
    "        \n",
    "        _, preds = torch.max(logits, 1)\n",
    "        \n",
    "        correct = (preds == y).sum().item()\n",
    "        \n",
    "        accuracy = correct/len(x)\n",
    "        \n",
    "        if step % display_step == 0:\n",
    "            print('Epoch: %d, Step: %d, Minibatch loss: %.3f, Minibatch accuracy: %.3f' % \n",
    "                  (epoch, step, loss, accuracy))\n",
    "            \n",
    "print('Final, Step: %d, Minibatch loss: %.3f, Minibatch accuracy: %.3f' % \n",
    "                  (step, loss, accuracy))\n"
   ]
  },
  {
   "cell_type": "code",
   "execution_count": 16,
   "metadata": {},
   "outputs": [
    {
     "name": "stdout",
     "output_type": "stream",
     "text": [
      "Test accuracy: 0.960\n"
     ]
    }
   ],
   "source": [
    "net.eval()\n",
    "\n",
    "test_correct = 0\n",
    "\n",
    "with torch.no_grad():\n",
    "    \n",
    "    for data in test_loader:\n",
    "\n",
    "        test_x, test_y = data\n",
    "        \n",
    "        test_x, test_y = test_x.to(device), test_y.to(device)\n",
    "\n",
    "        test_logits = net(test_x)\n",
    "        _, test_preds = torch.max(test_logits, 1)\n",
    "\n",
    "        test_correct_batch = (test_preds == test_y).sum().item()\n",
    "\n",
    "        test_correct += test_correct_batch\n",
    "\n",
    "print('Test accuracy: %.3f' % (test_correct / len(test_set)))"
   ]
  },
  {
   "cell_type": "code",
   "execution_count": 18,
   "metadata": {},
   "outputs": [],
   "source": [
    "torch.save(net.state_dict(), os.path.join(LOG_DIR, 'model_%s_checkpoint.pth.tar' % 'storks_plain_ep_100_step_20_dr_03_acc_96'))"
   ]
  },
  {
   "cell_type": "code",
   "execution_count": null,
   "metadata": {},
   "outputs": [],
   "source": []
  },
  {
   "cell_type": "code",
   "execution_count": null,
   "metadata": {},
   "outputs": [],
   "source": []
  },
  {
   "cell_type": "code",
   "execution_count": null,
   "metadata": {},
   "outputs": [],
   "source": []
  },
  {
   "cell_type": "code",
   "execution_count": null,
   "metadata": {},
   "outputs": [],
   "source": []
  },
  {
   "cell_type": "code",
   "execution_count": null,
   "metadata": {},
   "outputs": [],
   "source": []
  },
  {
   "cell_type": "code",
   "execution_count": null,
   "metadata": {},
   "outputs": [],
   "source": []
  },
  {
   "cell_type": "code",
   "execution_count": null,
   "metadata": {},
   "outputs": [],
   "source": []
  }
 ],
 "metadata": {
  "kernelspec": {
   "display_name": "Python 3",
   "language": "python",
   "name": "python3"
  },
  "language_info": {
   "codemirror_mode": {
    "name": "ipython",
    "version": 3
   },
   "file_extension": ".py",
   "mimetype": "text/x-python",
   "name": "python",
   "nbconvert_exporter": "python",
   "pygments_lexer": "ipython3",
   "version": "3.6.5"
  }
 },
 "nbformat": 4,
 "nbformat_minor": 2
}
